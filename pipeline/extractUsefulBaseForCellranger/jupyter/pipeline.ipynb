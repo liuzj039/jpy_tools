{
 "metadata": {
  "language_info": {
   "codemirror_mode": {
    "name": "ipython",
    "version": 3
   },
   "file_extension": ".py",
   "mimetype": "text/x-python",
   "name": "python",
   "nbconvert_exporter": "python",
   "pygments_lexer": "ipython3",
   "version": "3.7.7-final"
  },
  "orig_nbformat": 2,
  "kernelspec": {
   "name": "python3",
   "display_name": "Python 3"
  }
 },
 "nbformat": 4,
 "nbformat_minor": 2,
 "cells": [
  {
   "cell_type": "code",
   "execution_count": 1,
   "metadata": {},
   "outputs": [],
   "source": [
    "import jpy_tools.parseSnake as jps"
   ]
  },
  {
   "cell_type": "code",
   "execution_count": 2,
   "metadata": {},
   "outputs": [],
   "source": [
    "configPath = '/public/home/liuzj/scripts/pipeline/extractUsefulBaseForCellranger/snakemake/config.yaml'"
   ]
  },
  {
   "cell_type": "code",
   "execution_count": 9,
   "metadata": {},
   "outputs": [],
   "source": [
    "snakefilePath = '/public/home/liuzj/scripts/pipeline/extractUsefulBaseForCellranger/snakemake/snakefile'"
   ]
  },
  {
   "cell_type": "code",
   "execution_count": 10,
   "metadata": {},
   "outputs": [],
   "source": [
    "snakefile = jps.SnakeMakeFile()"
   ]
  },
  {
   "cell_type": "code",
   "execution_count": 11,
   "metadata": {},
   "outputs": [],
   "source": [
    "snakeHeader = jps.SnakeHeader(snakefile, configPath)\n",
    "snakeHeader.generateContent()"
   ]
  },
  {
   "cell_type": "code",
   "execution_count": 12,
   "metadata": {},
   "outputs": [],
   "source": [
    "runCellRanger = jps.SnakeRule(snakefile, 'runCellRanger',1 ,1 ,64)\n",
    "runCellRanger.setInput(b=['inputFastqDir'])\n",
    "runCellRanger.setOutput(a=['step1Finished.empty'])\n",
    "runCellRanger.setParams(b = ['cellRangerRef'], a = ['cellRangerDir/'])\n",
    "runCellRanger.setShell(\"\"\"\n",
    "mkdir {params.cellRangerDir} && \\\n",
    "    cd {params.cellRangerDir} && \\\n",
    "        cellranger count --id=cellranger --fastqs={input.inputFastqDir} --transcriptome={params.cellRangerRef} --localcores={threads} --r1-length=28 && \\\n",
    "            touch {output.step1Finished}\n",
    "\"\"\")\n",
    "runCellRanger.generateContent()"
   ]
  },
  {
   "cell_type": "code",
   "execution_count": 13,
   "metadata": {},
   "outputs": [],
   "source": [
    "splitBam = jps.SnakeRule(snakefile, 'splitBam', 2)\n",
    "splitBam.setInput(a=['step1Finished.empty'])\n",
    "splitBam.setOutput(a = ['step2Finished.empty'])\n",
    "splitBam.setParams(a = ['splitedDir/', 'step1ResultDir'], c= dict(step01SplitedCounts=64))\n",
    "splitBam.setShell(\"\"\"\n",
    "python step02_splitBam.py -i {params.step1ResultDir}/cellRangerDir/cellranger/outs/possorted_genome_bam.bam -o {params.splitedDir} -t {params.step01SplitedCounts} &&\\\n",
    "    touch {output.step2Finished}\n",
    "\"\"\")\n",
    "splitBam.generateContent()"
   ]
  },
  {
   "cell_type": "code",
   "execution_count": 14,
   "metadata": {},
   "outputs": [],
   "source": [
    "\n",
    "\n",
    "getOverlapInfo = jps.SnakeRule(snakefile, 'getOverlapInfo', 3, threads=64)\n",
    "getOverlapInfo.setInput(a = ['step1Finished.empty'])\n",
    "getOverlapInfo.setOutput(a = ['overlapInfo.tsv'])\n",
    "getOverlapInfo.setParams(a = ['splitedDir/'])\n",
    "getOverlapInfo.setShell(\"\"\"\n",
    "python step03_getOverlapInfo.py -i {params.splitedDir} -o {output.overlapInfo} -t {threads}\n",
    "\"\"\")\n",
    "getOverlapInfo.generateContent()\n",
    "\n",
    "getUsefulRegion = jps.SnakeRule(snakefile, 'getUsefulRegion', 4, threads=64)\n",
    "getUsefulRegion.setInput(a = ['overlapInfo.tsv'])\n",
    "getUsefulRegion.setOutput(a = ['step4Finished.empty'])\n",
    "getUsefulRegion.setParams(a = ['lmdbFile/'])\n",
    "getUsefulRegion.setShell(\"\"\"\n",
    "python step04_getUsefulRegion.py -i {input.overlapInfo} -o {params.lmdbFile} -t {threads} &&\\\n",
    "    touch {output.step3Finished}\n",
    "\"\"\")\n",
    "getUsefulRegion.generateContent()\n",
    "\n",
    "extractSeq = jps.SnakeRule(snakefile, 'extractSeq', 5, threads=64)\n",
    "extractSeq.setInput(a = ['step4Finished.empty'], b = ['inputFastqDir'])\n",
    "extractSeq.setOutput(a = ['step5Finished.empty'])\n",
    "extractSeq.setParams(a = ['lmdbFile/', 'usefulRegionFastq/'])\n",
    "extractSeq.setShell(\"\"\"\n",
    "python step05_extractSeq.py -i {input.inputFastqDir} -o {params.usefulRegionFastq} -l {params.lmdbFile} -t {threads} -s &&\\\n",
    "    touch {output.step5Finished}\n",
    "\"\"\")\n",
    "extractSeq.generateContent()"
   ]
  },
  {
   "cell_type": "code",
   "execution_count": null,
   "metadata": {},
   "outputs": [],
   "source": [
    "rerunCellRanger = jps.SnakeRule(snakefile, 'rerunCellRanger', 6, threads=64)\n",
    "rerunCellRanger.setInput(a = ['step5Finished.empty'])\n",
    "rerunCellRanger.setOutput(a = ['step6Finished.empty'])\n",
    "rerunCellRanger.setParams(a = ['usefulRegionFastq/', 'rerunCellRanger'], b = ['cellRangerRef'])\n",
    "rerunCellRanger.setShell(\"\"\"\n",
    "mkdir {params.rerunCellRangerDir} && \\\n",
    "    cd {params.rerunCellRangerDir} && \\\n",
    "        cellranger count --id=cellranger --fastqs={params.usefulRegionFastq} --transcriptome={params.cellRangerRef} --localcores={threads} --r1-length=28 && \\\n",
    "            touch {output.step1Finished}\n",
    "\"\"\")"
   ]
  },
  {
   "cell_type": "code",
   "execution_count": null,
   "metadata": {},
   "outputs": [],
   "source": []
  },
  {
   "cell_type": "code",
   "execution_count": null,
   "metadata": {},
   "outputs": [],
   "source": []
  },
  {
   "cell_type": "code",
   "execution_count": null,
   "metadata": {},
   "outputs": [],
   "source": []
  },
  {
   "cell_type": "code",
   "execution_count": 10,
   "metadata": {
    "tags": []
   },
   "outputs": [
    {
     "output_type": "stream",
     "name": "stdout",
     "text": "configfile: \"/public/home/liuzj/scripts/pipeline/extractUsefulBaseForCellranger/snakemake/config.yaml\"\npipelineDir = config['pipelineDir']\n\n\nrule all:\n    input:\n        step1Finished = f\"{config['resultDir']}step1_runCellRanger/step1Finished.empty\"\n\nrule runCellRanger:\n    input:\n        inputFastqDir = config['inputFastqDir']\n    output:\n        step1Finished = f\"{config['resultDir']}step1_runCellRanger/step1Finished.empty\"\n    params:\n        cellRangerRef = config['cellRangerRef'],\n        cellRangerDir = f\"{config['resultDir']}step1_runCellRanger/cellRangerDir/\"\n    threads:64\n    shell:\n        \"\"\"\ncd {pipelineDir}\njpy_qsub.py --sm -t {threads} -n 1 -N runCellRanger --inline '\\\nmkdir {params.cellRangerDir} &&     cd {params.cellRangerDir} &&         cellranger count --id=cellranger --fastqs={input.inputFastqDir} --transcriptome={params.cellRangerRef} --localcores={threads} --r1-length=28 &&             touch {output.step1Finished}'\n        \"\"\"\n\n\n"
    }
   ],
   "source": [
    "snakeAll = jps.SnakeAll(snakefile)\n",
    "snakeAll.generateContent(step1Finished = 0)\n",
    "\n",
    "snakefile.generateContent(snakefilePath)"
   ]
  },
  {
   "cell_type": "code",
   "execution_count": null,
   "metadata": {},
   "outputs": [],
   "source": [
    "runCellRanger = jps.SnakeRule(snakeFile, 'runCellRanger', 1, 1, 64)\n",
    "runCellRanger.setInput(c = dict(\\\n",
    "allFilteredReadOne = \"[f\\\"{config['inputFastqDir']}{sample}_R1_001.fastq\\\" for sample in config['sampleList']]\", \\\n",
    "allFilteredReadTwo = \"[f\\\"{config['inputFastqDir']}{sample}_R2_001.fastq\\\" for sample in config['sampleList']]\"))\n",
    "runCellRanger.setOutput(a = ['stepFiveFinished.finished'])\n",
    "runCellRanger.setParams(a = ['stepFiveTestDir/'], b = ['cellRangerRef', 'filteredDir'], \\\n",
    "c = dict(sampleName = '\\'B10XRNA\\'', sampleDirName = '\\'cellRanger\\''))\n",
    "runCellRanger.setShell(\"\"\"\n",
    "mkdir {params.stepFiveTestDir}&& \\\n",
    "cd {params.stepFiveTestDir}&& \\\n",
    "cellranger count --id={params.sampleDirName} --fastqs={params.filteredDir} --sample={params.sampleName} --transcriptome={params.cellRangerRef} --localcores={threads} --r1-length=28 &&\\\n",
    "touch {output.stepFiveFinished}\n",
    "\"\"\")\n",
    "runCellRanger.generateContent()"
   ]
  },
  {
   "cell_type": "code",
   "execution_count": 27,
   "metadata": {},
   "outputs": [],
   "source": [
    "splitBam = jps.SnakeRule(snakefile, 'splitBam', 1)\n",
    "splitBam.setInput(b = ['inputBam'])\n",
    "splitBam.setOutput(a = ['step1Finished.empty'])\n",
    "splitBam.setParams(a = ['splitedDir/'], c= dict(step01SplitedCounts=64))\n",
    "splitBam.setShell(\"\"\"\n",
    "python step01_splitBam.py -i {input.inputBam} -o {params.splitedDir} -t {params.step01SplitedCounts} &&\\\n",
    "    touch {output.step1Finished}\n",
    "\"\"\")\n",
    "splitBam.generateContent()\n",
    "\n",
    "getOverlapInfo = jps.SnakeRule(snakefile, 'getOverlapInfo', 2, threads=64)\n",
    "getOverlapInfo.setInput(a = ['step1Finished.empty'])\n",
    "getOverlapInfo.setOutput(a = ['overlapInfo.tsv'])\n",
    "getOverlapInfo.setParams(a = ['splitedDir/'])\n",
    "getOverlapInfo.setShell(\"\"\"\n",
    "python step02_getOverlapInfo.py -i {params.splitedDir} -o {output.overlapInfo} -t {threads}\n",
    "\"\"\")\n",
    "getOverlapInfo.generateContent()\n",
    "\n",
    "getUsefulRegion = jps.SnakeRule(snakefile, 'getUsefulRegion', 3, threads=64)\n",
    "getUsefulRegion.setInput(a = ['overlapInfo.tsv'])\n",
    "getUsefulRegion.setOutput(a = ['step3Finished.empty'])\n",
    "getUsefulRegion.setParams(a = ['lmdbFile/'])\n",
    "getUsefulRegion.setShell(\"\"\"\n",
    "python step03_getUsefulRegion.py -i {input.overlapInfo} -o {params.lmdbFile} -t {threads} &&\\\n",
    "    touch {output.step3Finished}\n",
    "\"\"\")\n",
    "getUsefulRegion.generateContent()\n",
    "\n",
    "extractSeq = jps.SnakeRule(snakefile, 'extractSeq', 4, threads=64)\n",
    "extractSeq.setInput(a = ['step3Finished.empty'], b = ['inputFastqDir'])\n",
    "extractSeq.setOutput(a = ['step4Finished.empty'])\n",
    "extractSeq.setParams(a = ['lmdbFile/', 'usefulRegionFastq/'])\n",
    "extractSeq.setShell(\"\"\"\n",
    "python step04_extractSeq.py -i {input.inputFastqDir} -o {params.usefulRegionFastq} -l {params.lmdbFile} -t {threads} -s &&\\\n",
    "    touch {output.step4Finished}\n",
    "\"\"\")\n",
    "extractSeq.generateContent()"
   ]
  },
  {
   "cell_type": "code",
   "execution_count": 28,
   "metadata": {},
   "outputs": [],
   "source": [
    "snakeAll = jps.SnakeAll(snakefile)\n",
    "snakeAll.generateContent(step4Finished = 0)\n",
    "snakefile.generateContent(snakefilePath)"
   ]
  },
  {
   "cell_type": "code",
   "execution_count": 29,
   "metadata": {
    "tags": []
   },
   "outputs": [
    {
     "output_type": "stream",
     "name": "stdout",
     "text": "configfile: \"/public/home/liuzj/scripts/pipeline/extractUsefulBaseForCellranger/snakemake/config.yaml\"\npipelineDir = config['pipelineDir']\n\n\nrule all:\n    input:\n        step4Finished = f\"{config['resultDir']}step4_extractSeq/step4Finished.empty\"\n\nrule splitBam:\n    input:\n        inputBam = config['inputBam']\n    output:\n        step1Finished = f\"{config['resultDir']}step1_splitBam/step1Finished.empty\"\n    params:\n        splitedDir = f\"{config['resultDir']}step1_splitBam/splitedDir/\",\n        step01SplitedCounts = 64\n    threads:1\n    shell:\n        \"\"\"\ncd {pipelineDir}\njpy_qsub.py --sm -t {threads} -n 1 -N splitBam --inline '\\\npython step01_splitBam.py -i {input.inputBam} -o {params.splitedDir} -t {params.step01SplitedCounts} &&    touch {output.step1Finished}'\n        \"\"\"\n\nrule getOverlapInfo:\n    input:\n        step1Finished = f\"{config['resultDir']}step1_splitBam/step1Finished.empty\"\n    output:\n        overlapInfo = f\"{config['resultDir']}step2_getOverlapInfo/overlapInfo.tsv\"\n    params:\n        splitedDir = f\"{config['resultDir']}step1_splitBam/splitedDir/\"\n    threads:64\n    shell:\n        \"\"\"\ncd {pipelineDir}\njpy_qsub.py --sm -t {threads} -n 1 -N getOverlapInfo --inline '\\\npython step02_getOverlapInfo.py -i {params.splitedDir} -o {output.overlapInfo} -t {threads}'\n        \"\"\"\n\nrule getUsefulRegion:\n    input:\n        overlapInfo = f\"{config['resultDir']}step2_getOverlapInfo/overlapInfo.tsv\"\n    output:\n        step3Finished = f\"{config['resultDir']}step3_getUsefulRegion/step3Finished.empty\"\n    params:\n        lmdbFile = f\"{config['resultDir']}step3_getUsefulRegion/lmdbFile/\"\n    threads:64\n    shell:\n        \"\"\"\ncd {pipelineDir}\njpy_qsub.py --sm -t {threads} -n 1 -N getUsefulRegion --inline '\\\npython step03_getUsefulRegion.py -i {input.overlapInfo} -o {params.lmdbFile} -t {threads} &&    touch {output.step3Finished}'\n        \"\"\"\n\nrule extractSeq:\n    input:\n        step3Finished = f\"{config['resultDir']}step3_getUsefulRegion/step3Finished.empty\",\n        inputFastqDir = config['inputFastqDir']\n    output:\n        step4Finished = f\"{config['resultDir']}step4_extractSeq/step4Finished.empty\"\n    params:\n        lmdbFile = f\"{config['resultDir']}step3_getUsefulRegion/lmdbFile/\",\n        usefulRegionFastq = f\"{config['resultDir']}step4_extractSeq/usefulRegionFastq/\"\n    threads:64\n    shell:\n        \"\"\"\ncd {pipelineDir}\njpy_qsub.py --sm -t {threads} -n 1 -N extractSeq --inline '\\\npython step04_extractSeq.py -i {input.inputFastqDir} -o {params.usefulRegionFastq} -l {params.lmdbFile} -t {threads} -s &&    touch {output.step4Finished}'\n        \"\"\"\n\n\n"
    }
   ],
   "source": []
  }
 ]
}