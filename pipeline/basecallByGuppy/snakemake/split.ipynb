{
 "cells": [
  {
   "cell_type": "code",
   "execution_count": 54,
   "metadata": {
    "ExecuteTime": {
     "end_time": "2021-10-08T03:00:21.463164Z",
     "start_time": "2021-10-08T03:00:21.459734Z"
    },
    "execution": {
     "iopub.execute_input": "2021-09-27T07:32:12.053600Z",
     "iopub.status.busy": "2021-09-27T07:32:12.052862Z",
     "iopub.status.idle": "2021-09-27T07:32:12.060168Z",
     "shell.execute_reply": "2021-09-27T07:32:12.058465Z",
     "shell.execute_reply.started": "2021-09-27T07:32:12.053533Z"
    },
    "tags": []
   },
   "outputs": [],
   "source": [
    "import jpy_tools.parseSnake2 as jps"
   ]
  },
  {
   "cell_type": "code",
   "execution_count": 55,
   "metadata": {
    "ExecuteTime": {
     "end_time": "2021-10-08T03:00:21.470438Z",
     "start_time": "2021-10-08T03:00:21.465641Z"
    },
    "execution": {
     "iopub.execute_input": "2021-09-27T07:32:12.063342Z",
     "iopub.status.busy": "2021-09-27T07:32:12.062723Z",
     "iopub.status.idle": "2021-09-27T07:32:12.070091Z",
     "shell.execute_reply": "2021-09-27T07:32:12.068289Z",
     "shell.execute_reply.started": "2021-09-27T07:32:12.063284Z"
    },
    "tags": []
   },
   "outputs": [],
   "source": [
    "path_config = \"/public/home/liuzj/scripts/pipeline/basecallByGuppy/snakemake/config.yaml\"\n",
    "path_sf = \"/public/home/liuzj/scripts/pipeline/basecallByGuppy/snakemake/snakefile\"\n",
    "dir_scripts = \"/scem/work/liuzj/github/Liuzj_allScripts/pipeline/basecallByGuppy/scripts/\""
   ]
  },
  {
   "cell_type": "code",
   "execution_count": 56,
   "metadata": {
    "ExecuteTime": {
     "end_time": "2021-10-08T03:00:21.476164Z",
     "start_time": "2021-10-08T03:00:21.473324Z"
    },
    "execution": {
     "iopub.execute_input": "2021-09-27T07:32:12.075082Z",
     "iopub.status.busy": "2021-09-27T07:32:12.074322Z",
     "iopub.status.idle": "2021-09-27T07:32:12.081796Z",
     "shell.execute_reply": "2021-09-27T07:32:12.079991Z",
     "shell.execute_reply.started": "2021-09-27T07:32:12.075013Z"
    },
    "tags": []
   },
   "outputs": [],
   "source": [
    "sf = jps.SnakeFile()"
   ]
  },
  {
   "cell_type": "code",
   "execution_count": 57,
   "metadata": {
    "ExecuteTime": {
     "end_time": "2021-10-08T03:00:21.489676Z",
     "start_time": "2021-10-08T03:00:21.478661Z"
    },
    "execution": {
     "iopub.execute_input": "2021-09-27T07:32:12.085859Z",
     "iopub.status.busy": "2021-09-27T07:32:12.085116Z",
     "iopub.status.idle": "2021-09-27T07:32:12.104627Z",
     "shell.execute_reply": "2021-09-27T07:32:12.103101Z",
     "shell.execute_reply.started": "2021-09-27T07:32:12.085790Z"
    },
    "tags": []
   },
   "outputs": [
    {
     "data": {
      "text/plain": [
       "import pandas as pd\n",
       "#configfile: \"/public/home/liuzj/scripts/pipeline/basecallByGuppy/snakemake/config.yaml\"\n",
       "pipelineDir = config['pipelineDir']\n",
       "resultDir = config[\"resultDir\"].rstrip(\"/\") + \"/\"\n",
       "pipelineDir = config[\"pipelineDir\"].rstrip(\"/\") + \"/\""
      ]
     },
     "execution_count": 57,
     "metadata": {},
     "output_type": "execute_result"
    }
   ],
   "source": [
    "header = jps.SnakeHeader(sf, path_config)\n",
    "header"
   ]
  },
  {
   "cell_type": "code",
   "execution_count": 58,
   "metadata": {
    "ExecuteTime": {
     "end_time": "2021-10-08T03:00:21.495805Z",
     "start_time": "2021-10-08T03:00:21.492002Z"
    },
    "execution": {
     "iopub.execute_input": "2021-09-27T07:32:12.107553Z",
     "iopub.status.busy": "2021-09-27T07:32:12.106899Z",
     "iopub.status.idle": "2021-09-27T07:32:12.115750Z",
     "shell.execute_reply": "2021-09-27T07:32:12.113935Z",
     "shell.execute_reply.started": "2021-09-27T07:32:12.107492Z"
    },
    "tags": []
   },
   "outputs": [],
   "source": [
    "config = header.getConfig()\n",
    "resultDir = config[\"resultDir\"].rstrip(\"/\") + \"/\"\n",
    "pipelineDir = config[\"pipelineDir\"].rstrip(\"/\") + \"/\""
   ]
  },
  {
   "cell_type": "code",
   "execution_count": 59,
   "metadata": {
    "ExecuteTime": {
     "end_time": "2021-10-08T03:00:21.503297Z",
     "start_time": "2021-10-08T03:00:21.498014Z"
    },
    "execution": {
     "iopub.execute_input": "2021-09-27T07:32:12.119053Z",
     "iopub.status.busy": "2021-09-27T07:32:12.118331Z",
     "iopub.status.idle": "2021-09-27T07:32:12.129535Z",
     "shell.execute_reply": "2021-09-27T07:32:12.127915Z",
     "shell.execute_reply.started": "2021-09-27T07:32:12.118989Z"
    },
    "tags": []
   },
   "outputs": [
    {
     "data": {
      "text/plain": [
       "{'pipelineDir': '/scem/work/liuzj/github/Liuzj_allScripts/pipeline/basecallByGuppy/scripts/',\n",
       " 'resultDir': '/scem/work/liuzj/projects/mouse/basecalledFastq/',\n",
       " 'guppy': '~/softwares/ont-guppy-4.2/bin/guppy_basecaller',\n",
       " 'model': '~/softwares/ont-guppy-4.2/data/dna_r9.4.1_450bps_hac.cfg',\n",
       " 'input': {'all': {'path': '/scem/work/liuzj/projects/mouse/allFast5/20210723_1345_MN29338_FAQ41752_7386409e/fast5/',\n",
       "   'nparts': 12,\n",
       "   'need_h5': False,\n",
       "   'barcode_kits': 'SQK-PCS111'}}}"
      ]
     },
     "execution_count": 59,
     "metadata": {},
     "output_type": "execute_result"
    }
   ],
   "source": [
    "config"
   ]
  },
  {
   "cell_type": "code",
   "execution_count": 60,
   "metadata": {
    "ExecuteTime": {
     "end_time": "2021-10-08T03:00:21.514833Z",
     "start_time": "2021-10-08T03:00:21.506688Z"
    },
    "execution": {
     "iopub.execute_input": "2021-09-27T07:32:12.132727Z",
     "iopub.status.busy": "2021-09-27T07:32:12.132000Z",
     "iopub.status.idle": "2021-09-27T07:32:12.149443Z",
     "shell.execute_reply": "2021-09-27T07:32:12.147555Z",
     "shell.execute_reply.started": "2021-09-27T07:32:12.132660Z"
    },
    "tags": []
   },
   "outputs": [],
   "source": [
    "import pandas as pd\n",
    "dt_h5 = config['input']\n",
    "df_splitH5 = pd.DataFrame.from_dict(dt_h5).T\n",
    "df_splitH5['dir_output'] = df_splitH5.index + '/'"
   ]
  },
  {
   "cell_type": "code",
   "execution_count": 61,
   "metadata": {
    "ExecuteTime": {
     "end_time": "2021-10-08T03:00:21.528507Z",
     "start_time": "2021-10-08T03:00:21.517371Z"
    },
    "execution": {
     "iopub.execute_input": "2021-09-27T07:32:12.152758Z",
     "iopub.status.busy": "2021-09-27T07:32:12.152014Z",
     "iopub.status.idle": "2021-09-27T07:32:12.175730Z",
     "shell.execute_reply": "2021-09-27T07:32:12.174097Z",
     "shell.execute_reply.started": "2021-09-27T07:32:12.152690Z"
    },
    "tags": []
   },
   "outputs": [
    {
     "name": "stderr",
     "output_type": "stream",
     "text": [
      "\u001b[32m2024-03-20 18:34:37.330\u001b[0m | \u001b[1mINFO    \u001b[0m | \u001b[36mjpy_tools.parseSnake2\u001b[0m:\u001b[36maddRule\u001b[0m:\u001b[36m55\u001b[0m - \u001b[1msplitH5 step num: 1\u001b[0m\n"
     ]
    },
    {
     "data": {
      "text/plain": [
       "\n",
       "## get parameter of rule `splitH5` ##\n",
       "import pandas as pd\n",
       "dt_h5 = config['input']\n",
       "df_splitH5 = pd.DataFrame.from_dict(dt_h5).T\n",
       "df_splitH5['dir_output'] = df_splitH5.index + '/'\n",
       "for column in ['dir_output']:\n",
       "    df_splitH5[column] = resultDir + 'step1_splitH5/' + df_splitH5[column]\n",
       "----------------\n",
       "IN RULE\n",
       "----------------\n",
       "# parameter's dataframe of splitH5: \n",
       "# |     | barcode_kits   | need_h5   |   nparts | path                                                                                    | dir_output   |\n",
       "# |:----|:---------------|:----------|---------:|:----------------------------------------------------------------------------------------|:-------------|\n",
       "# | all | SQK-PCS111     | False     |       12 | /scem/work/liuzj/projects/mouse/allFast5/20210723_1345_MN29338_FAQ41752_7386409e/fast5/ | all/         |\n",
       "rule splitH5:\n",
       "    input:\n",
       "        path = lambda wildcard: df_splitH5.at[wildcard.sample, 'path'],\n",
       "    output:\n",
       "        splitH5Finished = resultDir + 'step1_splitH5/' + '{sample}.finished',\n",
       "    params:\n",
       "        gpu = 0,\n",
       "        nparts = lambda wildcard: df_splitH5.at[wildcard.sample, 'nparts'],\n",
       "        dir_output = lambda wildcard: df_splitH5.at[wildcard.sample, 'dir_output'],\n",
       "    threads:1\n",
       "    priority:0\n",
       "    shell:\n",
       "        \"\"\"\n",
       "cd {pipelineDir}\n",
       "python ./splitFast5ToMultipleDir.py -i {input.path} -o {params.dir_output} -n {params.nparts}\n",
       "touch {output.splitH5Finished}\n",
       "        \"\"\""
      ]
     },
     "execution_count": 61,
     "metadata": {},
     "output_type": "execute_result"
    }
   ],
   "source": [
    "rule_splitH5 = jps.SnakeRule(sf, 'splitH5', 1)\n",
    "rule_splitH5.addCode(\"\"\"\n",
    "import pandas as pd\n",
    "dt_h5 = config['input']\n",
    "df_splitH5 = pd.DataFrame.from_dict(dt_h5).T\n",
    "df_splitH5['dir_output'] = df_splitH5.index + '/'\n",
    "\"\"\")\n",
    "rule_splitH5.addMetaDf('df_splitH5', ['dir_output'], df_splitH5)\n",
    "rule_splitH5.addMain('input', ['path'])\n",
    "rule_splitH5.addMain('params', ['nparts', 'dir_output'])\n",
    "rule_splitH5.setShell(\"\"\"\n",
    "cd {pipelineDir}\n",
    "python ./splitFast5ToMultipleDir.py -i {input.path} -o {params.dir_output} -n {params.nparts}\n",
    "\"\"\")\n",
    "rule_splitH5"
   ]
  },
  {
   "cell_type": "code",
   "execution_count": 62,
   "metadata": {
    "ExecuteTime": {
     "end_time": "2021-10-08T03:00:21.551934Z",
     "start_time": "2021-10-08T03:00:21.530824Z"
    },
    "execution": {
     "iopub.execute_input": "2021-09-27T07:32:12.181701Z",
     "iopub.status.busy": "2021-09-27T07:32:12.180951Z",
     "iopub.status.idle": "2021-09-27T07:32:12.223752Z",
     "shell.execute_reply": "2021-09-27T07:32:12.222045Z",
     "shell.execute_reply.started": "2021-09-27T07:32:12.181618Z"
    },
    "tags": []
   },
   "outputs": [],
   "source": [
    "df_basecall = df_splitH5.copy()\n",
    "df_basecall[\"nparts\"] = df_basecall[\"nparts\"].map(lambda x: list(range(x)))\n",
    "df_basecall = df_basecall.explode(\"nparts\")\n",
    "df_basecall = df_basecall[[\"nparts\", \"dir_output\"]]\n",
    "df_basecall['sample'] = df_basecall.index\n",
    "df_basecall.index = df_basecall.index + \"_\" + df_basecall.nparts.astype(str)\n",
    "df_basecall.dir_output = df_basecall.dir_output + df_basecall.nparts.astype(str) + '/'\n",
    "df_basecall['basecalledDir'] = df_basecall.index + '/'\n",
    "df_basecall['guppy'] = config['guppy']\n",
    "df_basecall['model'] = config['model']\n",
    "df_basecall['barcode'] = df_basecall['sample'].map(lambda _: False if 'barcode_kits' not in config['input'][_] else config['input'][_]['barcode_kits'])"
   ]
  },
  {
   "cell_type": "code",
   "execution_count": 63,
   "metadata": {},
   "outputs": [
    {
     "data": {
      "text/html": [
       "<div>\n",
       "<style scoped>\n",
       "    .dataframe tbody tr th:only-of-type {\n",
       "        vertical-align: middle;\n",
       "    }\n",
       "\n",
       "    .dataframe tbody tr th {\n",
       "        vertical-align: top;\n",
       "    }\n",
       "\n",
       "    .dataframe thead th {\n",
       "        text-align: right;\n",
       "    }\n",
       "</style>\n",
       "<table border=\"1\" class=\"dataframe\">\n",
       "  <thead>\n",
       "    <tr style=\"text-align: right;\">\n",
       "      <th></th>\n",
       "      <th>nparts</th>\n",
       "      <th>dir_output</th>\n",
       "      <th>sample</th>\n",
       "      <th>basecalledDir</th>\n",
       "      <th>guppy</th>\n",
       "      <th>model</th>\n",
       "      <th>barcode</th>\n",
       "    </tr>\n",
       "  </thead>\n",
       "  <tbody>\n",
       "    <tr>\n",
       "      <th>all_0</th>\n",
       "      <td>0</td>\n",
       "      <td>all/0/</td>\n",
       "      <td>all</td>\n",
       "      <td>all_0/</td>\n",
       "      <td>~/softwares/ont-guppy-4.2/bin/guppy_basecaller</td>\n",
       "      <td>~/softwares/ont-guppy-4.2/data/dna_r9.4.1_450b...</td>\n",
       "      <td>SQK-PCS111</td>\n",
       "    </tr>\n",
       "    <tr>\n",
       "      <th>all_1</th>\n",
       "      <td>1</td>\n",
       "      <td>all/1/</td>\n",
       "      <td>all</td>\n",
       "      <td>all_1/</td>\n",
       "      <td>~/softwares/ont-guppy-4.2/bin/guppy_basecaller</td>\n",
       "      <td>~/softwares/ont-guppy-4.2/data/dna_r9.4.1_450b...</td>\n",
       "      <td>SQK-PCS111</td>\n",
       "    </tr>\n",
       "    <tr>\n",
       "      <th>all_2</th>\n",
       "      <td>2</td>\n",
       "      <td>all/2/</td>\n",
       "      <td>all</td>\n",
       "      <td>all_2/</td>\n",
       "      <td>~/softwares/ont-guppy-4.2/bin/guppy_basecaller</td>\n",
       "      <td>~/softwares/ont-guppy-4.2/data/dna_r9.4.1_450b...</td>\n",
       "      <td>SQK-PCS111</td>\n",
       "    </tr>\n",
       "    <tr>\n",
       "      <th>all_3</th>\n",
       "      <td>3</td>\n",
       "      <td>all/3/</td>\n",
       "      <td>all</td>\n",
       "      <td>all_3/</td>\n",
       "      <td>~/softwares/ont-guppy-4.2/bin/guppy_basecaller</td>\n",
       "      <td>~/softwares/ont-guppy-4.2/data/dna_r9.4.1_450b...</td>\n",
       "      <td>SQK-PCS111</td>\n",
       "    </tr>\n",
       "    <tr>\n",
       "      <th>all_4</th>\n",
       "      <td>4</td>\n",
       "      <td>all/4/</td>\n",
       "      <td>all</td>\n",
       "      <td>all_4/</td>\n",
       "      <td>~/softwares/ont-guppy-4.2/bin/guppy_basecaller</td>\n",
       "      <td>~/softwares/ont-guppy-4.2/data/dna_r9.4.1_450b...</td>\n",
       "      <td>SQK-PCS111</td>\n",
       "    </tr>\n",
       "    <tr>\n",
       "      <th>all_5</th>\n",
       "      <td>5</td>\n",
       "      <td>all/5/</td>\n",
       "      <td>all</td>\n",
       "      <td>all_5/</td>\n",
       "      <td>~/softwares/ont-guppy-4.2/bin/guppy_basecaller</td>\n",
       "      <td>~/softwares/ont-guppy-4.2/data/dna_r9.4.1_450b...</td>\n",
       "      <td>SQK-PCS111</td>\n",
       "    </tr>\n",
       "    <tr>\n",
       "      <th>all_6</th>\n",
       "      <td>6</td>\n",
       "      <td>all/6/</td>\n",
       "      <td>all</td>\n",
       "      <td>all_6/</td>\n",
       "      <td>~/softwares/ont-guppy-4.2/bin/guppy_basecaller</td>\n",
       "      <td>~/softwares/ont-guppy-4.2/data/dna_r9.4.1_450b...</td>\n",
       "      <td>SQK-PCS111</td>\n",
       "    </tr>\n",
       "    <tr>\n",
       "      <th>all_7</th>\n",
       "      <td>7</td>\n",
       "      <td>all/7/</td>\n",
       "      <td>all</td>\n",
       "      <td>all_7/</td>\n",
       "      <td>~/softwares/ont-guppy-4.2/bin/guppy_basecaller</td>\n",
       "      <td>~/softwares/ont-guppy-4.2/data/dna_r9.4.1_450b...</td>\n",
       "      <td>SQK-PCS111</td>\n",
       "    </tr>\n",
       "    <tr>\n",
       "      <th>all_8</th>\n",
       "      <td>8</td>\n",
       "      <td>all/8/</td>\n",
       "      <td>all</td>\n",
       "      <td>all_8/</td>\n",
       "      <td>~/softwares/ont-guppy-4.2/bin/guppy_basecaller</td>\n",
       "      <td>~/softwares/ont-guppy-4.2/data/dna_r9.4.1_450b...</td>\n",
       "      <td>SQK-PCS111</td>\n",
       "    </tr>\n",
       "    <tr>\n",
       "      <th>all_9</th>\n",
       "      <td>9</td>\n",
       "      <td>all/9/</td>\n",
       "      <td>all</td>\n",
       "      <td>all_9/</td>\n",
       "      <td>~/softwares/ont-guppy-4.2/bin/guppy_basecaller</td>\n",
       "      <td>~/softwares/ont-guppy-4.2/data/dna_r9.4.1_450b...</td>\n",
       "      <td>SQK-PCS111</td>\n",
       "    </tr>\n",
       "    <tr>\n",
       "      <th>all_10</th>\n",
       "      <td>10</td>\n",
       "      <td>all/10/</td>\n",
       "      <td>all</td>\n",
       "      <td>all_10/</td>\n",
       "      <td>~/softwares/ont-guppy-4.2/bin/guppy_basecaller</td>\n",
       "      <td>~/softwares/ont-guppy-4.2/data/dna_r9.4.1_450b...</td>\n",
       "      <td>SQK-PCS111</td>\n",
       "    </tr>\n",
       "    <tr>\n",
       "      <th>all_11</th>\n",
       "      <td>11</td>\n",
       "      <td>all/11/</td>\n",
       "      <td>all</td>\n",
       "      <td>all_11/</td>\n",
       "      <td>~/softwares/ont-guppy-4.2/bin/guppy_basecaller</td>\n",
       "      <td>~/softwares/ont-guppy-4.2/data/dna_r9.4.1_450b...</td>\n",
       "      <td>SQK-PCS111</td>\n",
       "    </tr>\n",
       "  </tbody>\n",
       "</table>\n",
       "</div>"
      ],
      "text/plain": [
       "       nparts dir_output sample basecalledDir  \\\n",
       "all_0       0     all/0/    all        all_0/   \n",
       "all_1       1     all/1/    all        all_1/   \n",
       "all_2       2     all/2/    all        all_2/   \n",
       "all_3       3     all/3/    all        all_3/   \n",
       "all_4       4     all/4/    all        all_4/   \n",
       "all_5       5     all/5/    all        all_5/   \n",
       "all_6       6     all/6/    all        all_6/   \n",
       "all_7       7     all/7/    all        all_7/   \n",
       "all_8       8     all/8/    all        all_8/   \n",
       "all_9       9     all/9/    all        all_9/   \n",
       "all_10     10    all/10/    all       all_10/   \n",
       "all_11     11    all/11/    all       all_11/   \n",
       "\n",
       "                                                 guppy  \\\n",
       "all_0   ~/softwares/ont-guppy-4.2/bin/guppy_basecaller   \n",
       "all_1   ~/softwares/ont-guppy-4.2/bin/guppy_basecaller   \n",
       "all_2   ~/softwares/ont-guppy-4.2/bin/guppy_basecaller   \n",
       "all_3   ~/softwares/ont-guppy-4.2/bin/guppy_basecaller   \n",
       "all_4   ~/softwares/ont-guppy-4.2/bin/guppy_basecaller   \n",
       "all_5   ~/softwares/ont-guppy-4.2/bin/guppy_basecaller   \n",
       "all_6   ~/softwares/ont-guppy-4.2/bin/guppy_basecaller   \n",
       "all_7   ~/softwares/ont-guppy-4.2/bin/guppy_basecaller   \n",
       "all_8   ~/softwares/ont-guppy-4.2/bin/guppy_basecaller   \n",
       "all_9   ~/softwares/ont-guppy-4.2/bin/guppy_basecaller   \n",
       "all_10  ~/softwares/ont-guppy-4.2/bin/guppy_basecaller   \n",
       "all_11  ~/softwares/ont-guppy-4.2/bin/guppy_basecaller   \n",
       "\n",
       "                                                    model     barcode  \n",
       "all_0   ~/softwares/ont-guppy-4.2/data/dna_r9.4.1_450b...  SQK-PCS111  \n",
       "all_1   ~/softwares/ont-guppy-4.2/data/dna_r9.4.1_450b...  SQK-PCS111  \n",
       "all_2   ~/softwares/ont-guppy-4.2/data/dna_r9.4.1_450b...  SQK-PCS111  \n",
       "all_3   ~/softwares/ont-guppy-4.2/data/dna_r9.4.1_450b...  SQK-PCS111  \n",
       "all_4   ~/softwares/ont-guppy-4.2/data/dna_r9.4.1_450b...  SQK-PCS111  \n",
       "all_5   ~/softwares/ont-guppy-4.2/data/dna_r9.4.1_450b...  SQK-PCS111  \n",
       "all_6   ~/softwares/ont-guppy-4.2/data/dna_r9.4.1_450b...  SQK-PCS111  \n",
       "all_7   ~/softwares/ont-guppy-4.2/data/dna_r9.4.1_450b...  SQK-PCS111  \n",
       "all_8   ~/softwares/ont-guppy-4.2/data/dna_r9.4.1_450b...  SQK-PCS111  \n",
       "all_9   ~/softwares/ont-guppy-4.2/data/dna_r9.4.1_450b...  SQK-PCS111  \n",
       "all_10  ~/softwares/ont-guppy-4.2/data/dna_r9.4.1_450b...  SQK-PCS111  \n",
       "all_11  ~/softwares/ont-guppy-4.2/data/dna_r9.4.1_450b...  SQK-PCS111  "
      ]
     },
     "execution_count": 63,
     "metadata": {},
     "output_type": "execute_result"
    }
   ],
   "source": [
    "df_basecall"
   ]
  },
  {
   "cell_type": "code",
   "execution_count": 64,
   "metadata": {
    "ExecuteTime": {
     "end_time": "2021-10-08T03:00:21.571255Z",
     "start_time": "2021-10-08T03:00:21.554195Z"
    },
    "execution": {
     "iopub.execute_input": "2021-09-27T07:32:12.227406Z",
     "iopub.status.busy": "2021-09-27T07:32:12.226772Z",
     "iopub.status.idle": "2021-09-27T07:32:12.257588Z",
     "shell.execute_reply": "2021-09-27T07:32:12.255987Z",
     "shell.execute_reply.started": "2021-09-27T07:32:12.227343Z"
    },
    "tags": []
   },
   "outputs": [
    {
     "name": "stderr",
     "output_type": "stream",
     "text": [
      "\u001b[32m2024-03-20 18:34:46.434\u001b[0m | \u001b[1mINFO    \u001b[0m | \u001b[36mjpy_tools.parseSnake2\u001b[0m:\u001b[36maddRule\u001b[0m:\u001b[36m55\u001b[0m - \u001b[1mbasecall step num: 2\u001b[0m\n"
     ]
    },
    {
     "data": {
      "text/plain": [
       "\n",
       "## get parameter of rule `basecall` ##\n",
       "df_basecall = df_splitH5.copy()\n",
       "df_basecall[\"nparts\"] = df_basecall[\"nparts\"].map(lambda x: list(range(x)))\n",
       "df_basecall = df_basecall.explode(\"nparts\")\n",
       "df_basecall = df_basecall[[\"nparts\", \"dir_output\"]]\n",
       "df_basecall['sample'] = df_basecall.index\n",
       "df_basecall.index = df_basecall.index + \"_\" + df_basecall.nparts.astype(str)\n",
       "df_basecall.dir_output = df_basecall.dir_output + df_basecall.nparts.astype(str) + '/'\n",
       "df_basecall['basecalledDir'] = df_basecall.index + '/'\n",
       "df_basecall['guppy'] = config['guppy']\n",
       "df_basecall['model'] = config['model']\n",
       "df_basecall['barcode'] = df_basecall['sample'].map(lambda _: False if 'barcode_kits' not in config['input'][_] else config['input'][_]['barcode_kits'])\n",
       "for column in ['basecalledDir']:\n",
       "    df_basecall[column] = resultDir + 'step2_basecall/' + df_basecall[column]\n",
       "\n",
       "def parseDfToInput_basecall_splitH5(wildcard):\n",
       "    selfWildCardUnique = True\n",
       "    if isinstance(df_basecall.at[wildcard.sampleSplit, 'sample'], list):\n",
       "        selfWildCardUnique = False\n",
       "    if selfWildCardUnique:\n",
       "        return resultDir + 'step1_splitH5/' + df_basecall.at[wildcard.sampleSplit, 'sample'] + '.finished'\n",
       "    else:\n",
       "        return [resultDir + 'step1_splitH5/' + x + '.finished' for x in df_basecall.loc[wildcard.sampleSplit, 'sample']]\n",
       "\n",
       "def parseDfToParams_basecall_splitH5_need_h5(wildcard):\n",
       "    selfWildCardUnique = True\n",
       "    if isinstance(df_basecall.at[wildcard.sampleSplit, 'sample'], list):\n",
       "        selfWildCardUnique = False\n",
       "    if selfWildCardUnique:\n",
       "        fromSampleName = df_basecall.at[wildcard.sampleSplit, 'sample']\n",
       "        return df_splitH5.at[fromSampleName, 'need_h5']\n",
       "    else:\n",
       "        ls_fromSampleName = df_basecall.loc[wildcard.sampleSplit, 'sample']\n",
       "        return [df_splitH5.at[x, 'need_h5'] for x in ls_fromSampleName]\n",
       "----------------\n",
       "IN RULE\n",
       "----------------\n",
       "# parameter's dataframe of basecall: \n",
       "# |        |   nparts | dir_output   | sample   | basecalledDir   | guppy                                          | model                                                    | barcode    |\n",
       "# |:-------|---------:|:-------------|:---------|:----------------|:-----------------------------------------------|:---------------------------------------------------------|:-----------|\n",
       "# | all_0  |        0 | all/0/       | all      | all_0/          | ~/softwares/ont-guppy-4.2/bin/guppy_basecaller | ~/softwares/ont-guppy-4.2/data/dna_r9.4.1_450bps_hac.cfg | SQK-PCS111 |\n",
       "# | all_1  |        1 | all/1/       | all      | all_1/          | ~/softwares/ont-guppy-4.2/bin/guppy_basecaller | ~/softwares/ont-guppy-4.2/data/dna_r9.4.1_450bps_hac.cfg | SQK-PCS111 |\n",
       "# | all_2  |        2 | all/2/       | all      | all_2/          | ~/softwares/ont-guppy-4.2/bin/guppy_basecaller | ~/softwares/ont-guppy-4.2/data/dna_r9.4.1_450bps_hac.cfg | SQK-PCS111 |\n",
       "# | all_3  |        3 | all/3/       | all      | all_3/          | ~/softwares/ont-guppy-4.2/bin/guppy_basecaller | ~/softwares/ont-guppy-4.2/data/dna_r9.4.1_450bps_hac.cfg | SQK-PCS111 |\n",
       "# | all_4  |        4 | all/4/       | all      | all_4/          | ~/softwares/ont-guppy-4.2/bin/guppy_basecaller | ~/softwares/ont-guppy-4.2/data/dna_r9.4.1_450bps_hac.cfg | SQK-PCS111 |\n",
       "# | all_5  |        5 | all/5/       | all      | all_5/          | ~/softwares/ont-guppy-4.2/bin/guppy_basecaller | ~/softwares/ont-guppy-4.2/data/dna_r9.4.1_450bps_hac.cfg | SQK-PCS111 |\n",
       "# | all_6  |        6 | all/6/       | all      | all_6/          | ~/softwares/ont-guppy-4.2/bin/guppy_basecaller | ~/softwares/ont-guppy-4.2/data/dna_r9.4.1_450bps_hac.cfg | SQK-PCS111 |\n",
       "# | all_7  |        7 | all/7/       | all      | all_7/          | ~/softwares/ont-guppy-4.2/bin/guppy_basecaller | ~/softwares/ont-guppy-4.2/data/dna_r9.4.1_450bps_hac.cfg | SQK-PCS111 |\n",
       "# | all_8  |        8 | all/8/       | all      | all_8/          | ~/softwares/ont-guppy-4.2/bin/guppy_basecaller | ~/softwares/ont-guppy-4.2/data/dna_r9.4.1_450bps_hac.cfg | SQK-PCS111 |\n",
       "# | all_9  |        9 | all/9/       | all      | all_9/          | ~/softwares/ont-guppy-4.2/bin/guppy_basecaller | ~/softwares/ont-guppy-4.2/data/dna_r9.4.1_450bps_hac.cfg | SQK-PCS111 |\n",
       "# | all_10 |       10 | all/10/      | all      | all_10/         | ~/softwares/ont-guppy-4.2/bin/guppy_basecaller | ~/softwares/ont-guppy-4.2/data/dna_r9.4.1_450bps_hac.cfg | SQK-PCS111 |\n",
       "# | all_11 |       11 | all/11/      | all      | all_11/         | ~/softwares/ont-guppy-4.2/bin/guppy_basecaller | ~/softwares/ont-guppy-4.2/data/dna_r9.4.1_450bps_hac.cfg | SQK-PCS111 |\n",
       "rule basecall:\n",
       "    input:\n",
       "        splitH5Finished = parseDfToInput_basecall_splitH5,\n",
       "    output:\n",
       "        basecallFinished = resultDir + 'step2_basecall/' + '{sampleSplit}.finished',\n",
       "    params:\n",
       "        gpu = 2,\n",
       "        need_h5 = parseDfToParams_basecall_splitH5_need_h5,\n",
       "        dir_output = lambda wildcard: df_basecall.at[wildcard.sampleSplit, 'dir_output'],\n",
       "        basecalledDir = lambda wildcard: df_basecall.at[wildcard.sampleSplit, 'basecalledDir'],\n",
       "        guppy = lambda wildcard: df_basecall.at[wildcard.sampleSplit, 'guppy'],\n",
       "        model = lambda wildcard: df_basecall.at[wildcard.sampleSplit, 'model'],\n",
       "        barcode = lambda wildcard: df_basecall.at[wildcard.sampleSplit, 'barcode'],\n",
       "    threads:18\n",
       "    priority:0\n",
       "    shell:\n",
       "        \"\"\"\n",
       "cmd=\"{params.guppy} -c {params.model} -i {params.dir_output} --min_qscore 7 -s {params.basecalledDir} -x \"cuda:all:100%\" --disable_pings\"\n",
       "if [ {params.need_h5} = True ]\n",
       "then\n",
       "    cmd=\"$cmd --fast5_out\"\n",
       "fi\n",
       "if [ {params.barcode} != False ]\n",
       "then\n",
       "    cmd=\"$cmd --barcode_kits {params.barcode}\"\n",
       "fi\n",
       "eval $cmd\n",
       "touch {output.basecallFinished}\n",
       "        \"\"\""
      ]
     },
     "execution_count": 64,
     "metadata": {},
     "output_type": "execute_result"
    }
   ],
   "source": [
    "rule_basecall = jps.SnakeRule(sf, \"basecall\", 18, 2, wildCard=\"sampleSplit\")\n",
    "rule_basecall.addCode(\n",
    "    \"\"\"\n",
    "df_basecall = df_splitH5.copy()\n",
    "df_basecall[\"nparts\"] = df_basecall[\"nparts\"].map(lambda x: list(range(x)))\n",
    "df_basecall = df_basecall.explode(\"nparts\")\n",
    "df_basecall = df_basecall[[\"nparts\", \"dir_output\"]]\n",
    "df_basecall['sample'] = df_basecall.index\n",
    "df_basecall.index = df_basecall.index + \"_\" + df_basecall.nparts.astype(str)\n",
    "df_basecall.dir_output = df_basecall.dir_output + df_basecall.nparts.astype(str) + '/'\n",
    "df_basecall['basecalledDir'] = df_basecall.index + '/'\n",
    "df_basecall['guppy'] = config['guppy']\n",
    "df_basecall['model'] = config['model']\n",
    "df_basecall['barcode'] = df_basecall['sample'].map(lambda _: False if 'barcode_kits' not in config['input'][_] else config['input'][_]['barcode_kits'])\n",
    "\"\"\"\n",
    ")\n",
    "rule_basecall.addMetaDf(\"df_basecall\", [\"basecalledDir\"], metaDf = df_basecall)\n",
    "rule_basecall.addMain(\"params\", [\"need_h5\"], rule_splitH5)\n",
    "rule_basecall.addMain(\"params\", [\"dir_output\", \"basecalledDir\", \"guppy\", \"model\", \"barcode\"])\n",
    "\n",
    "rule_basecall.setShell(\"\"\"\n",
    "cmd=\"{params.guppy} -c {params.model} -i {params.dir_output} --min_qscore 7 -s {params.basecalledDir} -x \"cuda:all:100%\" --disable_pings\"\n",
    "if [ {params.need_h5} = True ]\n",
    "then\n",
    "    cmd=\"$cmd --fast5_out\"\n",
    "fi\n",
    "if [ {params.barcode} != False ]\n",
    "then\n",
    "    cmd=\"$cmd --barcode_kits {params.barcode}\"\n",
    "fi\n",
    "eval $cmd\n",
    "\"\"\")\n",
    "\n",
    "# rule_basecall.setShell(\"\"\"\n",
    "# if [ {params.need_h5} = True ]\n",
    "# then\n",
    "#     {params.guppy} -c {params.model} -i {params.dir_output} --qscore_filtering --min_qscore=7 -s {params.basecalledDir} -x \"cuda:all:100%\" --disable_pings --fast5_out\n",
    "# else\n",
    "#     {params.guppy} -c {params.model} -i {params.dir_output} --qscore_filtering --min_qscore=7 -s {params.basecalledDir} -x \"cuda:all:100%\" --disable_pings\n",
    "# fi\n",
    "# \"\"\")\n",
    "rule_basecall"
   ]
  },
  {
   "cell_type": "code",
   "execution_count": 65,
   "metadata": {
    "ExecuteTime": {
     "end_time": "2021-10-08T03:00:21.581572Z",
     "start_time": "2021-10-08T03:00:21.572972Z"
    },
    "execution": {
     "iopub.execute_input": "2021-09-27T07:32:12.260537Z",
     "iopub.status.busy": "2021-09-27T07:32:12.259965Z",
     "iopub.status.idle": "2021-09-27T07:32:12.279467Z",
     "shell.execute_reply": "2021-09-27T07:32:12.277625Z",
     "shell.execute_reply.started": "2021-09-27T07:32:12.260482Z"
    },
    "tags": []
   },
   "outputs": [],
   "source": [
    "df_mergeFq = df_basecall.reset_index().groupby(\"sample\")[\"index\"].agg(list).pipe(\n",
    "    pd.DataFrame\n",
    ").rename(columns={\"index\": \"sampleSplit\"}).assign(dir_out=lambda df: df.index + \"/\")"
   ]
  },
  {
   "cell_type": "code",
   "execution_count": 66,
   "metadata": {
    "ExecuteTime": {
     "end_time": "2021-10-08T03:00:21.594287Z",
     "start_time": "2021-10-08T03:00:21.583511Z"
    },
    "execution": {
     "iopub.execute_input": "2021-09-27T07:32:12.282089Z",
     "iopub.status.busy": "2021-09-27T07:32:12.281546Z",
     "iopub.status.idle": "2021-09-27T07:32:12.300734Z",
     "shell.execute_reply": "2021-09-27T07:32:12.299254Z",
     "shell.execute_reply.started": "2021-09-27T07:32:12.282038Z"
    },
    "tags": []
   },
   "outputs": [
    {
     "name": "stderr",
     "output_type": "stream",
     "text": [
      "\u001b[32m2024-03-20 18:34:50.075\u001b[0m | \u001b[1mINFO    \u001b[0m | \u001b[36mjpy_tools.parseSnake2\u001b[0m:\u001b[36maddRule\u001b[0m:\u001b[36m55\u001b[0m - \u001b[1mmergeFq step num: 3\u001b[0m\n"
     ]
    },
    {
     "data": {
      "text/plain": [
       "\n",
       "## get parameter of rule `mergeFq` ##\n",
       "df_mergeFq = df_basecall.reset_index().groupby(\"sample\")[\"index\"].agg(list).pipe(\n",
       "    pd.DataFrame\n",
       ").rename(columns={\"index\": \"sampleSplit\"}).assign(dir_out=lambda df: df.index + \"/\")\n",
       "for column in ['dir_out']:\n",
       "    df_mergeFq[column] = resultDir + 'step3_mergeFq/' + df_mergeFq[column]\n",
       "\n",
       "def parseDfToInput_mergeFq_basecall(wildcard):\n",
       "    selfWildCardUnique = True\n",
       "    if isinstance(df_mergeFq.at[wildcard.sample, 'sampleSplit'], list):\n",
       "        selfWildCardUnique = False\n",
       "    if selfWildCardUnique:\n",
       "        return resultDir + 'step2_basecall/' + df_mergeFq.at[wildcard.sample, 'sampleSplit'] + '.finished'\n",
       "    else:\n",
       "        return [resultDir + 'step2_basecall/' + x + '.finished' for x in df_mergeFq.loc[wildcard.sample, 'sampleSplit']]\n",
       "\n",
       "def parseDfToParams_mergeFq_basecall_basecalledDir(wildcard):\n",
       "    selfWildCardUnique = True\n",
       "    if isinstance(df_mergeFq.at[wildcard.sample, 'sampleSplit'], list):\n",
       "        selfWildCardUnique = False\n",
       "    if selfWildCardUnique:\n",
       "        fromSampleName = df_mergeFq.at[wildcard.sample, 'sampleSplit']\n",
       "        return df_basecall.at[fromSampleName, 'basecalledDir']\n",
       "    else:\n",
       "        ls_fromSampleName = df_mergeFq.loc[wildcard.sample, 'sampleSplit']\n",
       "        return [df_basecall.at[x, 'basecalledDir'] for x in ls_fromSampleName]\n",
       "----------------\n",
       "IN RULE\n",
       "----------------\n",
       "# parameter's dataframe of mergeFq: \n",
       "# | sample   | sampleSplit                                                                                                    | dir_out   |\n",
       "# |:---------|:---------------------------------------------------------------------------------------------------------------|:----------|\n",
       "# | all      | ['all_0', 'all_1', 'all_2', 'all_3', 'all_4', 'all_5', 'all_6', 'all_7', 'all_8', 'all_9', 'all_10', 'all_11'] | all/      |\n",
       "rule mergeFq:\n",
       "    input:\n",
       "        basecallFinished = parseDfToInput_mergeFq_basecall,\n",
       "        splitH5Finished = resultDir + 'step1_splitH5/' + '{sample}.finished',\n",
       "    output:\n",
       "        mergeFqFinished = resultDir + 'step3_mergeFq/' + '{sample}.finished',\n",
       "    params:\n",
       "        gpu = 0,\n",
       "        basecalledDir = parseDfToParams_mergeFq_basecall_basecalledDir,\n",
       "        need_h5 = lambda wildcard: df_splitH5.at[wildcard.sample, 'need_h5'],\n",
       "        dir_out = lambda wildcard: df_mergeFq.at[wildcard.sample, 'dir_out'],\n",
       "    threads:18\n",
       "    priority:0\n",
       "    shell:\n",
       "        \"\"\"\n",
       "mkdir -p {params.dir_out}\n",
       "cd {pipelineDir}\n",
       "if [ {params.need_h5} = True ]\n",
       "then\n",
       "    python mergeFastq.py {params.basecalledDir} -o {params.dir_out} -t {threads} --f5\n",
       "else\n",
       "    python mergeFastq.py {params.basecalledDir} -o {params.dir_out} -t {threads}\n",
       "fi\n",
       "touch {output.mergeFqFinished}\n",
       "        \"\"\""
      ]
     },
     "execution_count": 66,
     "metadata": {},
     "output_type": "execute_result"
    }
   ],
   "source": [
    "rule_mergeFq = jps.SnakeRule(sf, 'mergeFq', 18, 0)\n",
    "rule_mergeFq.addCode(\"\"\"\n",
    "df_mergeFq = df_basecall.reset_index().groupby(\"sample\")[\"index\"].agg(list).pipe(\n",
    "    pd.DataFrame\n",
    ").rename(columns={\"index\": \"sampleSplit\"}).assign(dir_out=lambda df: df.index + \"/\")\n",
    "\"\"\")\n",
    "rule_mergeFq.addMetaDf('df_mergeFq', ['dir_out'], metaDf=df_mergeFq)\n",
    "rule_mergeFq.addMain('params', ['basecalledDir'], fromRule=rule_basecall)\n",
    "rule_mergeFq.addMain(\"params\", [\"need_h5\"], rule_splitH5)\n",
    "rule_mergeFq.addMain('params', ['dir_out'])\n",
    "rule_mergeFq.setShell(\"\"\"\n",
    "mkdir -p {params.dir_out}\n",
    "cd {pipelineDir}\n",
    "if [ {params.need_h5} = True ]\n",
    "then\n",
    "    python mergeFastq.py {params.basecalledDir} -o {params.dir_out} -t {threads} --f5\n",
    "else\n",
    "    python mergeFastq.py {params.basecalledDir} -o {params.dir_out} -t {threads}\n",
    "fi\n",
    "\"\"\")\n",
    "rule_mergeFq"
   ]
  },
  {
   "cell_type": "code",
   "execution_count": 69,
   "metadata": {
    "ExecuteTime": {
     "end_time": "2021-10-08T03:00:21.600933Z",
     "start_time": "2021-10-08T03:00:21.596196Z"
    },
    "execution": {
     "iopub.execute_input": "2021-09-27T07:32:12.303221Z",
     "iopub.status.busy": "2021-09-27T07:32:12.302691Z",
     "iopub.status.idle": "2021-09-27T07:32:12.312591Z",
     "shell.execute_reply": "2021-09-27T07:32:12.310903Z",
     "shell.execute_reply.started": "2021-09-27T07:32:12.303171Z"
    },
    "tags": []
   },
   "outputs": [
    {
     "data": {
      "text/plain": [
       "rule all:\n",
       "    input:\n",
       "        mergeFqFinished = [resultDir + 'step3_mergeFq/' + \"\" + sample + \".finished\" for sample in df_mergeFq.index],"
      ]
     },
     "execution_count": 69,
     "metadata": {},
     "output_type": "execute_result"
    }
   ],
   "source": [
    "rule_all = jps.SnakeAll(sf, rule_mergeFq)\n",
    "rule_all"
   ]
  },
  {
   "cell_type": "code",
   "execution_count": 70,
   "metadata": {
    "ExecuteTime": {
     "end_time": "2021-10-08T03:00:21.640672Z",
     "start_time": "2021-10-08T03:00:21.602977Z"
    },
    "execution": {
     "iopub.execute_input": "2021-09-27T07:32:12.315041Z",
     "iopub.status.busy": "2021-09-27T07:32:12.314520Z",
     "iopub.status.idle": "2021-09-27T07:32:12.324609Z",
     "shell.execute_reply": "2021-09-27T07:32:12.323163Z",
     "shell.execute_reply.started": "2021-09-27T07:32:12.314986Z"
    },
    "tags": []
   },
   "outputs": [
    {
     "name": "stdout",
     "output_type": "stream",
     "text": [
      "import pandas as pd\n",
      "#configfile: \"/public/home/liuzj/scripts/pipeline/basecallByGuppy/snakemake/config.yaml\"\n",
      "pipelineDir = config['pipelineDir']\n",
      "resultDir = config[\"resultDir\"].rstrip(\"/\") + \"/\"\n",
      "pipelineDir = config[\"pipelineDir\"].rstrip(\"/\") + \"/\"\n",
      "\n",
      "\n",
      "## get parameter of rule `splitH5` ##\n",
      "import pandas as pd\n",
      "dt_h5 = config['input']\n",
      "df_splitH5 = pd.DataFrame.from_dict(dt_h5).T\n",
      "df_splitH5['dir_output'] = df_splitH5.index + '/'\n",
      "for column in ['dir_output']:\n",
      "    df_splitH5[column] = resultDir + 'step1_splitH5/' + df_splitH5[column]\n",
      "\n",
      "\n",
      "## get parameter of rule `basecall` ##\n",
      "df_basecall = df_splitH5.copy()\n",
      "df_basecall[\"nparts\"] = df_basecall[\"nparts\"].map(lambda x: list(range(x)))\n",
      "df_basecall = df_basecall.explode(\"nparts\")\n",
      "df_basecall = df_basecall[[\"nparts\", \"dir_output\"]]\n",
      "df_basecall['sample'] = df_basecall.index\n",
      "df_basecall.index = df_basecall.index + \"_\" + df_basecall.nparts.astype(str)\n",
      "df_basecall.dir_output = df_basecall.dir_output + df_basecall.nparts.astype(str) + '/'\n",
      "df_basecall['basecalledDir'] = df_basecall.index + '/'\n",
      "df_basecall['guppy'] = config['guppy']\n",
      "df_basecall['model'] = config['model']\n",
      "df_basecall['barcode'] = df_basecall['sample'].map(lambda _: False if 'barcode_kits' not in config['input'][_] else config['input'][_]['barcode_kits'])\n",
      "for column in ['basecalledDir']:\n",
      "    df_basecall[column] = resultDir + 'step2_basecall/' + df_basecall[column]\n",
      "\n",
      "def parseDfToInput_basecall_splitH5(wildcard):\n",
      "    selfWildCardUnique = True\n",
      "    if isinstance(df_basecall.at[wildcard.sampleSplit, 'sample'], list):\n",
      "        selfWildCardUnique = False\n",
      "    if selfWildCardUnique:\n",
      "        return resultDir + 'step1_splitH5/' + df_basecall.at[wildcard.sampleSplit, 'sample'] + '.finished'\n",
      "    else:\n",
      "        return [resultDir + 'step1_splitH5/' + x + '.finished' for x in df_basecall.loc[wildcard.sampleSplit, 'sample']]\n",
      "\n",
      "def parseDfToParams_basecall_splitH5_need_h5(wildcard):\n",
      "    selfWildCardUnique = True\n",
      "    if isinstance(df_basecall.at[wildcard.sampleSplit, 'sample'], list):\n",
      "        selfWildCardUnique = False\n",
      "    if selfWildCardUnique:\n",
      "        fromSampleName = df_basecall.at[wildcard.sampleSplit, 'sample']\n",
      "        return df_splitH5.at[fromSampleName, 'need_h5']\n",
      "    else:\n",
      "        ls_fromSampleName = df_basecall.loc[wildcard.sampleSplit, 'sample']\n",
      "        return [df_splitH5.at[x, 'need_h5'] for x in ls_fromSampleName]\n",
      "\n",
      "\n",
      "## get parameter of rule `mergeFq` ##\n",
      "df_mergeFq = df_basecall.reset_index().groupby(\"sample\")[\"index\"].agg(list).pipe(\n",
      "    pd.DataFrame\n",
      ").rename(columns={\"index\": \"sampleSplit\"}).assign(dir_out=lambda df: df.index + \"/\")\n",
      "for column in ['dir_out']:\n",
      "    df_mergeFq[column] = resultDir + 'step3_mergeFq/' + df_mergeFq[column]\n",
      "\n",
      "def parseDfToInput_mergeFq_basecall(wildcard):\n",
      "    selfWildCardUnique = True\n",
      "    if isinstance(df_mergeFq.at[wildcard.sample, 'sampleSplit'], list):\n",
      "        selfWildCardUnique = False\n",
      "    if selfWildCardUnique:\n",
      "        return resultDir + 'step2_basecall/' + df_mergeFq.at[wildcard.sample, 'sampleSplit'] + '.finished'\n",
      "    else:\n",
      "        return [resultDir + 'step2_basecall/' + x + '.finished' for x in df_mergeFq.loc[wildcard.sample, 'sampleSplit']]\n",
      "\n",
      "def parseDfToParams_mergeFq_basecall_basecalledDir(wildcard):\n",
      "    selfWildCardUnique = True\n",
      "    if isinstance(df_mergeFq.at[wildcard.sample, 'sampleSplit'], list):\n",
      "        selfWildCardUnique = False\n",
      "    if selfWildCardUnique:\n",
      "        fromSampleName = df_mergeFq.at[wildcard.sample, 'sampleSplit']\n",
      "        return df_basecall.at[fromSampleName, 'basecalledDir']\n",
      "    else:\n",
      "        ls_fromSampleName = df_mergeFq.loc[wildcard.sample, 'sampleSplit']\n",
      "        return [df_basecall.at[x, 'basecalledDir'] for x in ls_fromSampleName]\n",
      "\n",
      "rule all:\n",
      "    input:\n",
      "        mergeFqFinished = [resultDir + 'step3_mergeFq/' + \"\" + sample + \".finished\" for sample in df_mergeFq.index],\n",
      "\n",
      "# parameter's dataframe of splitH5: \n",
      "# |     | barcode_kits   | need_h5   |   nparts | path                                                                                    | dir_output   |\n",
      "# |:----|:---------------|:----------|---------:|:----------------------------------------------------------------------------------------|:-------------|\n",
      "# | all | SQK-PCS111     | False     |       12 | /scem/work/liuzj/projects/mouse/allFast5/20210723_1345_MN29338_FAQ41752_7386409e/fast5/ | all/         |\n",
      "rule splitH5:\n",
      "    input:\n",
      "        path = lambda wildcard: df_splitH5.at[wildcard.sample, 'path'],\n",
      "    output:\n",
      "        splitH5Finished = resultDir + 'step1_splitH5/' + '{sample}.finished',\n",
      "    params:\n",
      "        gpu = 0,\n",
      "        nparts = lambda wildcard: df_splitH5.at[wildcard.sample, 'nparts'],\n",
      "        dir_output = lambda wildcard: df_splitH5.at[wildcard.sample, 'dir_output'],\n",
      "    threads:1\n",
      "    priority:0\n",
      "    shell:\n",
      "        \"\"\"\n",
      "cd {pipelineDir}\n",
      "python ./splitFast5ToMultipleDir.py -i {input.path} -o {params.dir_output} -n {params.nparts}\n",
      "touch {output.splitH5Finished}\n",
      "        \"\"\"\n",
      "\n",
      "# parameter's dataframe of basecall: \n",
      "# |        |   nparts | dir_output   | sample   | basecalledDir   | guppy                                          | model                                                    | barcode    |\n",
      "# |:-------|---------:|:-------------|:---------|:----------------|:-----------------------------------------------|:---------------------------------------------------------|:-----------|\n",
      "# | all_0  |        0 | all/0/       | all      | all_0/          | ~/softwares/ont-guppy-4.2/bin/guppy_basecaller | ~/softwares/ont-guppy-4.2/data/dna_r9.4.1_450bps_hac.cfg | SQK-PCS111 |\n",
      "# | all_1  |        1 | all/1/       | all      | all_1/          | ~/softwares/ont-guppy-4.2/bin/guppy_basecaller | ~/softwares/ont-guppy-4.2/data/dna_r9.4.1_450bps_hac.cfg | SQK-PCS111 |\n",
      "# | all_2  |        2 | all/2/       | all      | all_2/          | ~/softwares/ont-guppy-4.2/bin/guppy_basecaller | ~/softwares/ont-guppy-4.2/data/dna_r9.4.1_450bps_hac.cfg | SQK-PCS111 |\n",
      "# | all_3  |        3 | all/3/       | all      | all_3/          | ~/softwares/ont-guppy-4.2/bin/guppy_basecaller | ~/softwares/ont-guppy-4.2/data/dna_r9.4.1_450bps_hac.cfg | SQK-PCS111 |\n",
      "# | all_4  |        4 | all/4/       | all      | all_4/          | ~/softwares/ont-guppy-4.2/bin/guppy_basecaller | ~/softwares/ont-guppy-4.2/data/dna_r9.4.1_450bps_hac.cfg | SQK-PCS111 |\n",
      "# | all_5  |        5 | all/5/       | all      | all_5/          | ~/softwares/ont-guppy-4.2/bin/guppy_basecaller | ~/softwares/ont-guppy-4.2/data/dna_r9.4.1_450bps_hac.cfg | SQK-PCS111 |\n",
      "# | all_6  |        6 | all/6/       | all      | all_6/          | ~/softwares/ont-guppy-4.2/bin/guppy_basecaller | ~/softwares/ont-guppy-4.2/data/dna_r9.4.1_450bps_hac.cfg | SQK-PCS111 |\n",
      "# | all_7  |        7 | all/7/       | all      | all_7/          | ~/softwares/ont-guppy-4.2/bin/guppy_basecaller | ~/softwares/ont-guppy-4.2/data/dna_r9.4.1_450bps_hac.cfg | SQK-PCS111 |\n",
      "# | all_8  |        8 | all/8/       | all      | all_8/          | ~/softwares/ont-guppy-4.2/bin/guppy_basecaller | ~/softwares/ont-guppy-4.2/data/dna_r9.4.1_450bps_hac.cfg | SQK-PCS111 |\n",
      "# | all_9  |        9 | all/9/       | all      | all_9/          | ~/softwares/ont-guppy-4.2/bin/guppy_basecaller | ~/softwares/ont-guppy-4.2/data/dna_r9.4.1_450bps_hac.cfg | SQK-PCS111 |\n",
      "# | all_10 |       10 | all/10/      | all      | all_10/         | ~/softwares/ont-guppy-4.2/bin/guppy_basecaller | ~/softwares/ont-guppy-4.2/data/dna_r9.4.1_450bps_hac.cfg | SQK-PCS111 |\n",
      "# | all_11 |       11 | all/11/      | all      | all_11/         | ~/softwares/ont-guppy-4.2/bin/guppy_basecaller | ~/softwares/ont-guppy-4.2/data/dna_r9.4.1_450bps_hac.cfg | SQK-PCS111 |\n",
      "rule basecall:\n",
      "    input:\n",
      "        splitH5Finished = parseDfToInput_basecall_splitH5,\n",
      "    output:\n",
      "        basecallFinished = resultDir + 'step2_basecall/' + '{sampleSplit}.finished',\n",
      "    params:\n",
      "        gpu = 2,\n",
      "        need_h5 = parseDfToParams_basecall_splitH5_need_h5,\n",
      "        dir_output = lambda wildcard: df_basecall.at[wildcard.sampleSplit, 'dir_output'],\n",
      "        basecalledDir = lambda wildcard: df_basecall.at[wildcard.sampleSplit, 'basecalledDir'],\n",
      "        guppy = lambda wildcard: df_basecall.at[wildcard.sampleSplit, 'guppy'],\n",
      "        model = lambda wildcard: df_basecall.at[wildcard.sampleSplit, 'model'],\n",
      "        barcode = lambda wildcard: df_basecall.at[wildcard.sampleSplit, 'barcode'],\n",
      "    threads:18\n",
      "    priority:0\n",
      "    shell:\n",
      "        \"\"\"\n",
      "cmd=\"{params.guppy} -c {params.model} -i {params.dir_output} --min_qscore 7 -s {params.basecalledDir} -x \"cuda:all:100%\" --disable_pings\"\n",
      "if [ {params.need_h5} = True ]\n",
      "then\n",
      "    cmd=\"$cmd --fast5_out\"\n",
      "fi\n",
      "if [ {params.barcode} != False ]\n",
      "then\n",
      "    cmd=\"$cmd --barcode_kits {params.barcode}\"\n",
      "fi\n",
      "eval $cmd\n",
      "touch {output.basecallFinished}\n",
      "        \"\"\"\n",
      "\n",
      "# parameter's dataframe of mergeFq: \n",
      "# | sample   | sampleSplit                                                                                                    | dir_out   |\n",
      "# |:---------|:---------------------------------------------------------------------------------------------------------------|:----------|\n",
      "# | all      | ['all_0', 'all_1', 'all_2', 'all_3', 'all_4', 'all_5', 'all_6', 'all_7', 'all_8', 'all_9', 'all_10', 'all_11'] | all/      |\n",
      "rule mergeFq:\n",
      "    input:\n",
      "        basecallFinished = parseDfToInput_mergeFq_basecall,\n",
      "        splitH5Finished = resultDir + 'step1_splitH5/' + '{sample}.finished',\n",
      "    output:\n",
      "        mergeFqFinished = resultDir + 'step3_mergeFq/' + '{sample}.finished',\n",
      "    params:\n",
      "        gpu = 0,\n",
      "        basecalledDir = parseDfToParams_mergeFq_basecall_basecalledDir,\n",
      "        need_h5 = lambda wildcard: df_splitH5.at[wildcard.sample, 'need_h5'],\n",
      "        dir_out = lambda wildcard: df_mergeFq.at[wildcard.sample, 'dir_out'],\n",
      "    threads:18\n",
      "    priority:0\n",
      "    shell:\n",
      "        \"\"\"\n",
      "mkdir -p {params.dir_out}\n",
      "cd {pipelineDir}\n",
      "if [ {params.need_h5} = True ]\n",
      "then\n",
      "    python mergeFastq.py {params.basecalledDir} -o {params.dir_out} -t {threads} --f5\n",
      "else\n",
      "    python mergeFastq.py {params.basecalledDir} -o {params.dir_out} -t {threads}\n",
      "fi\n",
      "touch {output.mergeFqFinished}\n",
      "        \"\"\"\n",
      "\n",
      "\n"
     ]
    }
   ],
   "source": [
    "sf.getMain(path_sf)"
   ]
  },
  {
   "cell_type": "code",
   "execution_count": null,
   "metadata": {},
   "outputs": [],
   "source": []
  }
 ],
 "metadata": {
  "interpreter": {
   "hash": "4906a907f3ce955ec173348abbed4e32ce81f1d00a5c31187a4d8f78431ced8f"
  },
  "kernelspec": {
   "display_name": "circadian",
   "language": "python",
   "name": "circadian"
  },
  "language_info": {
   "codemirror_mode": {
    "name": "ipython",
    "version": 3
   },
   "file_extension": ".py",
   "mimetype": "text/x-python",
   "name": "python",
   "nbconvert_exporter": "python",
   "pygments_lexer": "ipython3",
   "version": "3.8.16"
  },
  "toc": {
   "base_numbering": 1,
   "nav_menu": {},
   "number_sections": true,
   "sideBar": true,
   "skip_h1_title": false,
   "title_cell": "Table of Contents",
   "title_sidebar": "Contents",
   "toc_cell": false,
   "toc_position": {},
   "toc_section_display": true,
   "toc_window_display": false
  }
 },
 "nbformat": 4,
 "nbformat_minor": 4
}
