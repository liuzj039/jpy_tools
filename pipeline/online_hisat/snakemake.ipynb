{
 "cells": [
  {
   "cell_type": "code",
   "execution_count": 27,
   "id": "07553ae5",
   "metadata": {
    "ExecuteTime": {
     "end_time": "2021-11-04T02:25:01.341251Z",
     "start_time": "2021-11-04T02:25:01.338416Z"
    }
   },
   "outputs": [],
   "source": [
    "import pandas as pd\n",
    "import jpy_tools.parseSnake2 as jps"
   ]
  },
  {
   "cell_type": "code",
   "execution_count": 28,
   "id": "56349b26",
   "metadata": {
    "ExecuteTime": {
     "end_time": "2021-11-04T02:25:01.559819Z",
     "start_time": "2021-11-04T02:25:01.557287Z"
    }
   },
   "outputs": [],
   "source": [
    "path_config = '/public1/software/liuzj/scripts/pipeline/online_hisat/config.yaml'\n",
    "path_snakefile = '/public1/software/liuzj/scripts/pipeline/online_hisat/snakefile'"
   ]
  },
  {
   "cell_type": "code",
   "execution_count": 29,
   "id": "604e6c3d",
   "metadata": {
    "ExecuteTime": {
     "end_time": "2021-11-04T02:25:01.725687Z",
     "start_time": "2021-11-04T02:25:01.722526Z"
    }
   },
   "outputs": [],
   "source": [
    "snf = jps.SnakeFile()"
   ]
  },
  {
   "cell_type": "code",
   "execution_count": 30,
   "id": "7199f4e9",
   "metadata": {
    "ExecuteTime": {
     "end_time": "2021-11-04T02:25:01.913561Z",
     "start_time": "2021-11-04T02:25:01.904739Z"
    }
   },
   "outputs": [
    {
     "name": "stderr",
     "output_type": "stream",
     "text": [
      "/public/home/liuzj/softwares/anaconda3/lib/python3.8/site-packages/jpy_tools/parseSnake2.py:93: YAMLLoadWarning: calling yaml.load() without Loader=... is deprecated, as the default Loader is unsafe. Please read https://msg.pyyaml.org/load for full details.\n",
      "  self.yaml = yaml.load(open(self.path))\n"
     ]
    },
    {
     "data": {
      "text/plain": [
       "import pandas as pd\n",
       "#configfile: \"/public1/software/liuzj/scripts/pipeline/online_hisat/config.yaml\"\n",
       "pipelineDir = config['pipelineDir']\n",
       "resultDir = config[\"resultDir\"].rstrip(\"/\") + \"/\"\n",
       "pipelineDir = config[\"pipelineDir\"].rstrip(\"/\") + \"/\""
      ]
     },
     "execution_count": 30,
     "metadata": {},
     "output_type": "execute_result"
    }
   ],
   "source": [
    "snh = jps.SnakeHeader(snf, path_config)\n",
    "config = snh.getConfig()\n",
    "snh"
   ]
  },
  {
   "cell_type": "code",
   "execution_count": 31,
   "id": "e822b511",
   "metadata": {
    "ExecuteTime": {
     "end_time": "2021-11-04T02:25:02.101776Z",
     "start_time": "2021-11-04T02:25:02.094957Z"
    }
   },
   "outputs": [],
   "source": [
    "pipelineDir = config['pipelineDir']\n",
    "resultDir = config[\"resultDir\"].rstrip(\"/\") + \"/\"\n",
    "pipelineDir = config[\"pipelineDir\"].rstrip(\"/\") + \"/\""
   ]
  },
  {
   "cell_type": "code",
   "execution_count": 58,
   "id": "9f8a9c64",
   "metadata": {
    "ExecuteTime": {
     "end_time": "2021-11-04T02:54:15.397782Z",
     "start_time": "2021-11-04T02:54:15.135772Z"
    }
   },
   "outputs": [
    {
     "data": {
      "text/html": [
       "<div>\n",
       "<style scoped>\n",
       "    .dataframe tbody tr th:only-of-type {\n",
       "        vertical-align: middle;\n",
       "    }\n",
       "\n",
       "    .dataframe tbody tr th {\n",
       "        vertical-align: top;\n",
       "    }\n",
       "\n",
       "    .dataframe thead th {\n",
       "        text-align: right;\n",
       "    }\n",
       "</style>\n",
       "<table border=\"1\" class=\"dataframe\">\n",
       "  <thead>\n",
       "    <tr style=\"text-align: right;\">\n",
       "      <th></th>\n",
       "      <th>srr</th>\n",
       "      <th>hisat2Index</th>\n",
       "      <th>resultDir</th>\n",
       "    </tr>\n",
       "    <tr>\n",
       "      <th>Experiment</th>\n",
       "      <th></th>\n",
       "      <th></th>\n",
       "      <th></th>\n",
       "    </tr>\n",
       "  </thead>\n",
       "  <tbody>\n",
       "    <tr>\n",
       "      <th>ERX1492305</th>\n",
       "      <td>ERR1421635,ERR1421719,ERR1421695,ERR1421656,ER...</td>\n",
       "      <td>/data/Zhaijx/liuzj/data/medtrA17_4/hisat2index...</td>\n",
       "      <td>ERX1492305</td>\n",
       "    </tr>\n",
       "    <tr>\n",
       "      <th>ERX1492306</th>\n",
       "      <td>ERR1421696,ERR1421667,ERR1421744,ERR1421720,ER...</td>\n",
       "      <td>/data/Zhaijx/liuzj/data/medtrA17_4/hisat2index...</td>\n",
       "      <td>ERX1492306</td>\n",
       "    </tr>\n",
       "    <tr>\n",
       "      <th>ERX1492307</th>\n",
       "      <td>ERR1421637,ERR1421673,ERR1421721,ERR1421746,ER...</td>\n",
       "      <td>/data/Zhaijx/liuzj/data/medtrA17_4/hisat2index...</td>\n",
       "      <td>ERX1492307</td>\n",
       "    </tr>\n",
       "    <tr>\n",
       "      <th>ERX1492308</th>\n",
       "      <td>ERR1421674,ERR1421722,ERR1421747,ERR1421638,ER...</td>\n",
       "      <td>/data/Zhaijx/liuzj/data/medtrA17_4/hisat2index...</td>\n",
       "      <td>ERX1492308</td>\n",
       "    </tr>\n",
       "    <tr>\n",
       "      <th>ERX1492309</th>\n",
       "      <td>ERR1421639,ERR1421748,ERR1421675,ERR1421724,ER...</td>\n",
       "      <td>/data/Zhaijx/liuzj/data/medtrA17_4/hisat2index...</td>\n",
       "      <td>ERX1492309</td>\n",
       "    </tr>\n",
       "  </tbody>\n",
       "</table>\n",
       "</div>"
      ],
      "text/plain": [
       "                                                          srr  ...   resultDir\n",
       "Experiment                                                     ...            \n",
       "ERX1492305  ERR1421635,ERR1421719,ERR1421695,ERR1421656,ER...  ...  ERX1492305\n",
       "ERX1492306  ERR1421696,ERR1421667,ERR1421744,ERR1421720,ER...  ...  ERX1492306\n",
       "ERX1492307  ERR1421637,ERR1421673,ERR1421721,ERR1421746,ER...  ...  ERX1492307\n",
       "ERX1492308  ERR1421674,ERR1421722,ERR1421747,ERR1421638,ER...  ...  ERX1492308\n",
       "ERX1492309  ERR1421639,ERR1421748,ERR1421675,ERR1421724,ER...  ...  ERX1492309\n",
       "\n",
       "[5 rows x 3 columns]"
      ]
     },
     "execution_count": 58,
     "metadata": {},
     "output_type": "execute_result"
    }
   ],
   "source": [
    "df_sra = pd.read_csv(config[\"sraRunTable\"])[[\"Run\", \"Experiment\"]]\n",
    "df_hisat2mapping = (\n",
    "    pd.DataFrame(df_sra.groupby(\"Experiment\")[\"Run\"].agg(list))\n",
    "    .rename(columns={\"Run\": \"srr\"})\n",
    "    .assign(srr=lambda df: df[\"srr\"].map(lambda x: \",\".join(x)))\n",
    ")\n",
    "df_hisat2mapping = df_hisat2mapping.assign(hisat2Index = config['hisat2Index'], resultDir = lambda df:df.index)\n",
    "df_hisat2mapping.head()"
   ]
  },
  {
   "cell_type": "code",
   "execution_count": 64,
   "id": "b3688ae3",
   "metadata": {
    "ExecuteTime": {
     "end_time": "2021-11-04T03:12:52.142146Z",
     "start_time": "2021-11-04T03:12:52.131538Z"
    }
   },
   "outputs": [
    {
     "name": "stderr",
     "output_type": "stream",
     "text": [
      "2021-11-04 11:12:52.134 | INFO     | jpy_tools.parseSnake2:addRule:55 - hisat2mapping step num: 1\n"
     ]
    },
    {
     "data": {
      "text/plain": [
       "\n",
       "## get parameter of rule `hisat2mapping` ##\n",
       "df_sra = pd.read_csv(config[\"sraRunTable\"])[[\"Run\", \"Experiment\"]]\n",
       "df_hisat2mapping = (\n",
       "    pd.DataFrame(df_sra.groupby(\"Experiment\")[\"Run\"].agg(list))\n",
       "    .rename(columns={\"Run\": \"srr\"})\n",
       "    .assign(srr=lambda df: df[\"srr\"].map(lambda x: \",\".join(x)))\n",
       ")\n",
       "df_hisat2mapping = df_hisat2mapping.assign(hisat2Index = config['hisat2Index'], resultDir = lambda df:df.index)\n",
       "for column in ['resultDir']:\n",
       "    df_hisat2mapping[column] = resultDir + 'step1_hisat2mapping/' + df_hisat2mapping[column]\n",
       "----------------\n",
       "IN RULE\n",
       "----------------\n",
       "# parameter's dataframe of hisat2mapping: \n",
       "# | Experiment   | srr                                                    | hisat2Index                                                      | resultDir   |\n",
       "# |:-------------|:-------------------------------------------------------|:-----------------------------------------------------------------|:------------|\n",
       "# | ERX1492305   | ERR1421635,ERR1421719,ERR1421695,ERR1421656,ERR1421743 | /data/Zhaijx/liuzj/data/medtrA17_4/hisat2index/hisat2_tran_index | ERX1492305  |\n",
       "# | ERX1492306   | ERR1421696,ERR1421667,ERR1421744,ERR1421720,ERR1421636 | /data/Zhaijx/liuzj/data/medtrA17_4/hisat2index/hisat2_tran_index | ERX1492306  |\n",
       "rule hisat2mapping:\n",
       "    input:\n",
       "    output:\n",
       "        hisat2mappingFinished = resultDir + 'step1_hisat2mapping/' + '{Experiment}.finished',\n",
       "    params:\n",
       "        gpu = 0,\n",
       "        srr = lambda wildcard: df_hisat2mapping.at[wildcard.Experiment, 'srr'],\n",
       "        hisat2Index = lambda wildcard: df_hisat2mapping.at[wildcard.Experiment, 'hisat2Index'],\n",
       "        resultDir = lambda wildcard: df_hisat2mapping.at[wildcard.Experiment, 'resultDir'],\n",
       "    threads:2\n",
       "    priority:0\n",
       "    shell:\n",
       "        \"\"\"\n",
       "mkdir -p {params.resultDir}\n",
       "/public/apps/hisat2_2.1.0/bin/hisat2 -p {threads} -k 1 --dta -q --phred33 -x {params.hisat2Index} --sra-acc {params.srr} -S {params.resultDir}/unsorted.sam\n",
       "samtools sort {params.resultDir}/unsorted.sam -@ {threads} -O bam -o {params.resultDir}/sorted.bam\n",
       "samtools index {params.resultDir}/sorted.bam\n",
       "rm {params.resultDir}/unsorted.sam\n",
       "java -jar /public/apps/picard_2.20.2/picard.jar MarkDuplicates VALIDATION_STRINGENCY=SILENT REMOVE_DUPLICATES=true SORTING_COLLECTION_SIZE_RATIO=0.01 I={params.resultDir}/sorted.bam O={params.resultDir}/deduped.sorted.bam M={params.resultDir}/dedup.log\n",
       "samtools index {params.resultDir}/deduped.sorted.bam\n",
       "touch {output.hisat2mappingFinished}\n",
       "        \"\"\""
      ]
     },
     "execution_count": 64,
     "metadata": {},
     "output_type": "execute_result"
    }
   ],
   "source": [
    "rule_hisat2mapping = jps.SnakeRule(snf, 'hisat2mapping', threads=2, wildCard='Experiment')\n",
    "rule_hisat2mapping.addCode(\"\"\"\n",
    "df_sra = pd.read_csv(config[\"sraRunTable\"])[[\"Run\", \"Experiment\"]]\n",
    "df_hisat2mapping = (\n",
    "    pd.DataFrame(df_sra.groupby(\"Experiment\")[\"Run\"].agg(list))\n",
    "    .rename(columns={\"Run\": \"srr\"})\n",
    "    .assign(srr=lambda df: df[\"srr\"].map(lambda x: \",\".join(x)))\n",
    ")\n",
    "df_hisat2mapping = df_hisat2mapping.assign(hisat2Index = config['hisat2Index'], resultDir = lambda df:df.index)\n",
    "\"\"\")\n",
    "rule_hisat2mapping.addMetaDf('df_hisat2mapping', needAddRuleDirLs=['resultDir'], metaDf=df_hisat2mapping.head(2))\n",
    "rule_hisat2mapping.addMain('params', ['srr', 'hisat2Index', 'resultDir'])\n",
    "rule_hisat2mapping.setShell(\"\"\"\n",
    "mkdir -p {params.resultDir}\n",
    "/public/apps/hisat2_2.1.0/bin/hisat2 -p {threads} -k 1 --dta -q --phred33 -x {params.hisat2Index} --sra-acc {params.srr} -S {params.resultDir}/unsorted.sam\n",
    "samtools sort {params.resultDir}/unsorted.sam -@ {threads} -O bam -o {params.resultDir}/sorted.bam\n",
    "samtools index {params.resultDir}/sorted.bam\n",
    "rm {params.resultDir}/unsorted.sam\n",
    "java -jar /public/apps/picard_2.20.2/picard.jar MarkDuplicates VALIDATION_STRINGENCY=SILENT REMOVE_DUPLICATES=true SORTING_COLLECTION_SIZE_RATIO=0.01 \\\n",
    "I={params.resultDir}/sorted.bam O={params.resultDir}/deduped.sorted.bam M={params.resultDir}/dedup.log\n",
    "samtools index {params.resultDir}/deduped.sorted.bam\n",
    "\"\"\")\n",
    "rule_hisat2mapping"
   ]
  },
  {
   "cell_type": "code",
   "execution_count": 65,
   "id": "f5e48e45",
   "metadata": {
    "ExecuteTime": {
     "end_time": "2021-11-04T03:12:52.415848Z",
     "start_time": "2021-11-04T03:12:52.410919Z"
    }
   },
   "outputs": [
    {
     "data": {
      "text/plain": [
       "rule all:\n",
       "    input:\n",
       "        hisat2mappingFinished = [resultDir + 'step1_hisat2mapping/' + \"\" + Experiment + \".finished\" for Experiment in df_hisat2mapping.index],"
      ]
     },
     "execution_count": 65,
     "metadata": {},
     "output_type": "execute_result"
    }
   ],
   "source": [
    "sna = jps.SnakeAll(snf, rule_hisat2mapping)\n",
    "sna"
   ]
  },
  {
   "cell_type": "code",
   "execution_count": 66,
   "id": "d3fa929c",
   "metadata": {
    "ExecuteTime": {
     "end_time": "2021-11-04T03:12:52.688060Z",
     "start_time": "2021-11-04T03:12:52.682960Z"
    }
   },
   "outputs": [
    {
     "name": "stdout",
     "output_type": "stream",
     "text": [
      "import pandas as pd\n",
      "#configfile: \"/public1/software/liuzj/scripts/pipeline/online_hisat/config.yaml\"\n",
      "pipelineDir = config['pipelineDir']\n",
      "resultDir = config[\"resultDir\"].rstrip(\"/\") + \"/\"\n",
      "pipelineDir = config[\"pipelineDir\"].rstrip(\"/\") + \"/\"\n",
      "\n",
      "\n",
      "## get parameter of rule `hisat2mapping` ##\n",
      "df_sra = pd.read_csv(config[\"sraRunTable\"])[[\"Run\", \"Experiment\"]]\n",
      "df_hisat2mapping = (\n",
      "    pd.DataFrame(df_sra.groupby(\"Experiment\")[\"Run\"].agg(list))\n",
      "    .rename(columns={\"Run\": \"srr\"})\n",
      "    .assign(srr=lambda df: df[\"srr\"].map(lambda x: \",\".join(x)))\n",
      ")\n",
      "df_hisat2mapping = df_hisat2mapping.assign(hisat2Index = config['hisat2Index'], resultDir = lambda df:df.index)\n",
      "for column in ['resultDir']:\n",
      "    df_hisat2mapping[column] = resultDir + 'step1_hisat2mapping/' + df_hisat2mapping[column]\n",
      "\n",
      "rule all:\n",
      "    input:\n",
      "        hisat2mappingFinished = [resultDir + 'step1_hisat2mapping/' + \"\" + Experiment + \".finished\" for Experiment in df_hisat2mapping.index],\n",
      "\n",
      "# parameter's dataframe of hisat2mapping: \n",
      "# | Experiment   | srr                                                    | hisat2Index                                                      | resultDir   |\n",
      "# |:-------------|:-------------------------------------------------------|:-----------------------------------------------------------------|:------------|\n",
      "# | ERX1492305   | ERR1421635,ERR1421719,ERR1421695,ERR1421656,ERR1421743 | /data/Zhaijx/liuzj/data/medtrA17_4/hisat2index/hisat2_tran_index | ERX1492305  |\n",
      "# | ERX1492306   | ERR1421696,ERR1421667,ERR1421744,ERR1421720,ERR1421636 | /data/Zhaijx/liuzj/data/medtrA17_4/hisat2index/hisat2_tran_index | ERX1492306  |\n",
      "rule hisat2mapping:\n",
      "    input:\n",
      "    output:\n",
      "        hisat2mappingFinished = resultDir + 'step1_hisat2mapping/' + '{Experiment}.finished',\n",
      "    params:\n",
      "        gpu = 0,\n",
      "        srr = lambda wildcard: df_hisat2mapping.at[wildcard.Experiment, 'srr'],\n",
      "        hisat2Index = lambda wildcard: df_hisat2mapping.at[wildcard.Experiment, 'hisat2Index'],\n",
      "        resultDir = lambda wildcard: df_hisat2mapping.at[wildcard.Experiment, 'resultDir'],\n",
      "    threads:2\n",
      "    priority:0\n",
      "    shell:\n",
      "        \"\"\"\n",
      "mkdir -p {params.resultDir}\n",
      "/public/apps/hisat2_2.1.0/bin/hisat2 -p {threads} -k 1 --dta -q --phred33 -x {params.hisat2Index} --sra-acc {params.srr} -S {params.resultDir}/unsorted.sam\n",
      "samtools sort {params.resultDir}/unsorted.sam -@ {threads} -O bam -o {params.resultDir}/sorted.bam\n",
      "samtools index {params.resultDir}/sorted.bam\n",
      "rm {params.resultDir}/unsorted.sam\n",
      "java -jar /public/apps/picard_2.20.2/picard.jar MarkDuplicates VALIDATION_STRINGENCY=SILENT REMOVE_DUPLICATES=true SORTING_COLLECTION_SIZE_RATIO=0.01 I={params.resultDir}/sorted.bam O={params.resultDir}/deduped.sorted.bam M={params.resultDir}/dedup.log\n",
      "samtools index {params.resultDir}/deduped.sorted.bam\n",
      "touch {output.hisat2mappingFinished}\n",
      "        \"\"\"\n",
      "\n",
      "\n"
     ]
    }
   ],
   "source": [
    "snf.getMain(path_snakefile)"
   ]
  },
  {
   "cell_type": "code",
   "execution_count": null,
   "id": "f997269f",
   "metadata": {},
   "outputs": [],
   "source": []
  }
 ],
 "metadata": {
  "kernelspec": {
   "display_name": "Python 3",
   "language": "python",
   "name": "python3"
  },
  "language_info": {
   "codemirror_mode": {
    "name": "ipython",
    "version": 3
   },
   "file_extension": ".py",
   "mimetype": "text/x-python",
   "name": "python",
   "nbconvert_exporter": "python",
   "pygments_lexer": "ipython3",
   "version": "3.8.10"
  },
  "toc": {
   "base_numbering": 1,
   "nav_menu": {},
   "number_sections": true,
   "sideBar": true,
   "skip_h1_title": false,
   "title_cell": "Table of Contents",
   "title_sidebar": "Contents",
   "toc_cell": false,
   "toc_position": {},
   "toc_section_display": true,
   "toc_window_display": false
  }
 },
 "nbformat": 4,
 "nbformat_minor": 5
}
