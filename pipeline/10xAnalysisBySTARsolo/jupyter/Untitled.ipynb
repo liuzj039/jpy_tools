{
 "cells": [
  {
   "cell_type": "code",
   "execution_count": 1,
   "id": "e442306a",
   "metadata": {
    "ExecuteTime": {
     "end_time": "2021-07-12T10:52:57.986031Z",
     "start_time": "2021-07-12T10:52:55.455007Z"
    }
   },
   "outputs": [],
   "source": [
    "import pandas as pd\n",
    "import jpy_tools.parseSnake2 as jps"
   ]
  },
  {
   "cell_type": "code",
   "execution_count": 2,
   "id": "93319176",
   "metadata": {
    "ExecuteTime": {
     "end_time": "2021-07-12T10:52:57.991333Z",
     "start_time": "2021-07-12T10:52:57.988520Z"
    }
   },
   "outputs": [],
   "source": [
    "configPath = '/public/home/liuzj/scripts/pipeline/10xAnalysisBySTARsolo/snakemake/config.yaml'\n",
    "snakePath = '/public/home/liuzj/scripts/pipeline/10xAnalysisBySTARsolo/snakemake/snakefile'"
   ]
  },
  {
   "cell_type": "code",
   "execution_count": 3,
   "id": "ae51a621",
   "metadata": {
    "ExecuteTime": {
     "end_time": "2021-07-12T10:52:57.996762Z",
     "start_time": "2021-07-12T10:52:57.994226Z"
    }
   },
   "outputs": [],
   "source": [
    "snakeFile = jps.SnakeFile()"
   ]
  },
  {
   "cell_type": "code",
   "execution_count": 4,
   "id": "54e04a7b",
   "metadata": {
    "ExecuteTime": {
     "end_time": "2021-07-12T10:52:58.025835Z",
     "start_time": "2021-07-12T10:52:57.998825Z"
    }
   },
   "outputs": [
    {
     "name": "stderr",
     "output_type": "stream",
     "text": [
      "/public/home/liuzj/softwares/anaconda3/lib/python3.8/site-packages/jpy_tools/parseSnake2.py:93: YAMLLoadWarning: calling yaml.load() without Loader=... is deprecated, as the default Loader is unsafe. Please read https://msg.pyyaml.org/load for full details.\n",
      "  self.yaml = yaml.load(open(self.path))\n"
     ]
    },
    {
     "data": {
      "text/plain": [
       "import pandas as pd\n",
       "#configfile: \"/public/home/liuzj/scripts/pipeline/10xAnalysisBySTARsolo/snakemake/config.yaml\"\n",
       "pipelineDir = config['pipelineDir']\n",
       "resultDir = config[\"resultDir\"].rstrip(\"/\") + \"/\"\n",
       "pipelineDir = config[\"pipelineDir\"].rstrip(\"/\") + \"/\"\n",
       "sampleLs = list(config['samples'].keys())"
      ]
     },
     "execution_count": 4,
     "metadata": {},
     "output_type": "execute_result"
    }
   ],
   "source": [
    "snakeHeader = jps.SnakeHeader(snakeFile, configPath)\n",
    "snakeHeader.addCode(\"sampleLs = list(config['samples'].keys())\")\n",
    "config = snakeHeader.getConfig()\n",
    "snakeHeader"
   ]
  },
  {
   "cell_type": "code",
   "execution_count": 5,
   "id": "6af48a9f",
   "metadata": {
    "ExecuteTime": {
     "end_time": "2021-07-12T10:52:58.068205Z",
     "start_time": "2021-07-12T10:52:58.027618Z"
    }
   },
   "outputs": [],
   "source": [
    "import glob\n",
    "df_runStarsolo = pd.DataFrame(config['samples']).T\n",
    "df_runStarsolo = df_runStarsolo.assign(starIndex = config['starIndex'], outputDir=df_runStarsolo.index + '/')\n",
    "df_runStarsolo['sampleR2'] = df_runStarsolo['sampleDir'].map(lambda x:','.join(glob.glob(f\"{x}/*/*R2*.fastq.gz\")))\n",
    "df_runStarsolo['sampleR1'] = df_runStarsolo['sampleDir'].map(lambda x:','.join(glob.glob(f\"{x}/*/*R1*.fastq.gz\")))"
   ]
  },
  {
   "cell_type": "code",
   "execution_count": 6,
   "id": "5556e338",
   "metadata": {
    "ExecuteTime": {
     "end_time": "2021-07-12T10:52:58.080934Z",
     "start_time": "2021-07-12T10:52:58.070171Z"
    }
   },
   "outputs": [
    {
     "name": "stderr",
     "output_type": "stream",
     "text": [
      "2021-07-12 18:52:58.074 | INFO     | jpy_tools.parseSnake2:addRule:55 - runStarsolo step num: 1\n"
     ]
    },
    {
     "data": {
      "text/plain": [
       "import glob\n",
       "df_runStarsolo = pd.DataFrame(config['samples']).T\n",
       "df_runStarsolo = df_runStarsolo.assign(starIndex = config['starIndex'], outputDir=df_runStarsolo.index + '/')\n",
       "df_runStarsolo['sampleR2'] = df_runStarsolo['sampleDir'].map(lambda x:','.join(glob.glob(f\"{x}/*/*R2*.fastq.gz\")))\n",
       "df_runStarsolo['sampleR1'] = df_runStarsolo['sampleDir'].map(lambda x:','.join(glob.glob(f\"{x}/*/*R1*.fastq.gz\")))\n",
       "for column in ['outputDir']:\n",
       "    df_runStarsolo[column] = resultDir + 'step1_runStarsolo/' + df_runStarsolo[column]\n",
       "----------------\n",
       "IN RULE\n",
       "----------------\n",
       "rule runStarsolo:\n",
       "    input:\n",
       "        sampleDir = lambda wildcard: df_runStarsolo.at[wildcard.sample, 'sampleDir'],\n",
       "    output:\n",
       "        runStarsoloFinished = resultDir + 'step1_runStarsolo/' + '{sample}.finished',\n",
       "    params:\n",
       "        gpu = 0,\n",
       "        expectedCell = lambda wildcard: df_runStarsolo.at[wildcard.sample, 'expectedCell'],\n",
       "        umiLength = lambda wildcard: df_runStarsolo.at[wildcard.sample, 'umiLength'],\n",
       "        whiteList = lambda wildcard: df_runStarsolo.at[wildcard.sample, 'whiteList'],\n",
       "        includeIntron = lambda wildcard: df_runStarsolo.at[wildcard.sample, 'includeIntron'],\n",
       "        starIndex = lambda wildcard: df_runStarsolo.at[wildcard.sample, 'starIndex'],\n",
       "        outputDir = lambda wildcard: df_runStarsolo.at[wildcard.sample, 'outputDir'],\n",
       "        sampleR2 = lambda wildcard: df_runStarsolo.at[wildcard.sample, 'sampleR2'],\n",
       "        sampleR1 = lambda wildcard: df_runStarsolo.at[wildcard.sample, 'sampleR1'],\n",
       "    threads:32\n",
       "    priority:20\n",
       "    shell:\n",
       "        \"\"\"\n",
       "mkdir -p {params.outputDir}\n",
       "cd {params.outputDir}\n",
       "if [ {params.includeIntron} = True ]\n",
       "then\n",
       "    STAR --runThreadN {threads} --genomeDir {params.starIndex} --soloType CB_UMI_Simple --soloCBwhitelist {params.whiteList}        --soloUMIlen {params.umiLength} --readFilesIn {params.sampleR2} {params.sampleR1} --soloFeatures Gene GeneFull Velocyto        --clipAdapterType CellRanger4 --outFilterScoreMin 30 --soloCBmatchWLtype 1MM_multi_Nbase_pseudocounts --soloUMIfiltering MultiGeneUMI_CR        --soloUMIdedup 1MM_CR --soloCellFilter  EmptyDrops_CR {params.expectedCell} 0.99 10 45000 90000 500 0.01 20000 0.01 10000         --readFilesCommand zcat\n",
       "else\n",
       "    STAR --runThreadN {threads} --genomeDir {params.starIndex} --soloType CB_UMI_Simple --soloCBwhitelist {params.whiteList}        --soloUMIlen {params.umiLength} --readFilesIn {params.sampleR2} {params.sampleR1} --soloFeatures Gene Velocyto        --clipAdapterType CellRanger4 --outFilterScoreMin 30 --soloCBmatchWLtype 1MM_multi_Nbase_pseudocounts --soloUMIfiltering MultiGeneUMI_CR        --soloUMIdedup 1MM_CR --soloCellFilter  EmptyDrops_CR {params.expectedCell} 0.99 10 45000 90000 500 0.01 20000 0.01 10000         --readFilesCommand zcat\n",
       "fi\n",
       "samtools view -@ {threads} -S -O BAM ./Aligned.out.sam  | samtools sort -@ {threads} - -O BAM -o ./Aligned.out.bam\n",
       "samtools index -@ {threads} ./Aligned.out.bam\n",
       "rm ./Aligned.out.sam\n",
       "touch {output.runStarsoloFinished}\n",
       "        \"\"\""
      ]
     },
     "execution_count": 6,
     "metadata": {},
     "output_type": "execute_result"
    }
   ],
   "source": [
    "runStarsolo = jps.SnakeRule(snakeFile, \"runStarsolo\", 32, priority=20)\n",
    "runStarsolo.addCode(\n",
    "    \"\"\"\n",
    "import glob\n",
    "df_runStarsolo = pd.DataFrame(config['samples']).T\n",
    "df_runStarsolo = df_runStarsolo.assign(starIndex = config['starIndex'], outputDir=df_runStarsolo.index + '/')\n",
    "df_runStarsolo['sampleR2'] = df_runStarsolo['sampleDir'].map(lambda x:','.join(glob.glob(f\"{x}/*/*R2*.fastq.gz\")))\n",
    "df_runStarsolo['sampleR1'] = df_runStarsolo['sampleDir'].map(lambda x:','.join(glob.glob(f\"{x}/*/*R1*.fastq.gz\")))\n",
    "\"\"\"\n",
    ")\n",
    "runStarsolo.addMetaDf(\n",
    "    \"df_runStarsolo\",\n",
    "    [\"outputDir\"]\n",
    ")\n",
    "runStarsolo.addMain('input', ['sampleDir'])\n",
    "runStarsolo.addMain('params', ['expectedCell', 'umiLength', 'whiteList', 'includeIntron', 'starIndex', 'outputDir', 'sampleR2', 'sampleR1'])\n",
    "runStarsolo.setShell(\"\"\"\n",
    "mkdir -p {params.outputDir}\n",
    "cd {params.outputDir}\n",
    "if [ {params.includeIntron} = True ]\n",
    "then\n",
    "    STAR --runThreadN {threads} --genomeDir {params.starIndex} --soloType CB_UMI_Simple --soloCBwhitelist {params.whiteList}\\\n",
    "        --soloUMIlen {params.umiLength} --readFilesIn {params.sampleR2} {params.sampleR1} --soloFeatures Gene GeneFull Velocyto\\\n",
    "        --clipAdapterType CellRanger4 --outFilterScoreMin 30 --soloCBmatchWLtype 1MM_multi_Nbase_pseudocounts --soloUMIfiltering MultiGeneUMI_CR\\\n",
    "        --soloUMIdedup 1MM_CR --soloCellFilter  EmptyDrops_CR {params.expectedCell} 0.99 10 45000 90000 500 0.01 20000 0.01 10000 \\\n",
    "        --readFilesCommand zcat\n",
    "else\n",
    "    STAR --runThreadN {threads} --genomeDir {params.starIndex} --soloType CB_UMI_Simple --soloCBwhitelist {params.whiteList}\\\n",
    "        --soloUMIlen {params.umiLength} --readFilesIn {params.sampleR2} {params.sampleR1} --soloFeatures Gene Velocyto\\\n",
    "        --clipAdapterType CellRanger4 --outFilterScoreMin 30 --soloCBmatchWLtype 1MM_multi_Nbase_pseudocounts --soloUMIfiltering MultiGeneUMI_CR\\\n",
    "        --soloUMIdedup 1MM_CR --soloCellFilter  EmptyDrops_CR {params.expectedCell} 0.99 10 45000 90000 500 0.01 20000 0.01 10000 \\\n",
    "        --readFilesCommand zcat\n",
    "fi\n",
    "samtools view -@ {threads} -S -O BAM ./Aligned.out.sam  | samtools sort -@ {threads} - -O BAM -o ./Aligned.out.bam\n",
    "samtools index -@ {threads} ./Aligned.out.bam\n",
    "rm ./Aligned.out.sam\n",
    "\"\"\")\n",
    "runStarsolo"
   ]
  },
  {
   "cell_type": "code",
   "execution_count": 7,
   "id": "df5fdaf0",
   "metadata": {
    "ExecuteTime": {
     "end_time": "2021-07-12T10:53:07.082333Z",
     "start_time": "2021-07-12T10:53:07.058702Z"
    }
   },
   "outputs": [],
   "source": [
    "import glob\n",
    "df_runStarsoloWithAt = pd.DataFrame(config['samples']).T\n",
    "df_runStarsoloWithAt = df_runStarsoloWithAt.assign(starIndex = config['starIndex'], outputDir=df_runStarsoloWithAt.index + '/')\n",
    "df_runStarsoloWithAt['sampleR2'] = df_runStarsoloWithAt['sampleDir'].map(lambda x:','.join(glob.glob(f\"{x}/*/*R2*.fastq.gz\")))\n",
    "df_runStarsoloWithAt['sampleR1'] = df_runStarsoloWithAt['sampleDir'].map(lambda x:','.join(glob.glob(f\"{x}/*/*R1*.fastq.gz\")))"
   ]
  },
  {
   "cell_type": "code",
   "execution_count": 8,
   "id": "5b3cb793",
   "metadata": {
    "ExecuteTime": {
     "end_time": "2021-07-12T10:53:07.527388Z",
     "start_time": "2021-07-12T10:53:07.517312Z"
    }
   },
   "outputs": [
    {
     "name": "stderr",
     "output_type": "stream",
     "text": [
      "2021-07-12 18:53:07.521 | INFO     | jpy_tools.parseSnake2:addRule:55 - runStarsoloWithAt step num: 2\n"
     ]
    },
    {
     "data": {
      "text/plain": [
       "import glob\n",
       "df_runStarsoloWithAt = pd.DataFrame(config['samples']).T\n",
       "df_runStarsoloWithAt = df_runStarsoloWithAt.assign(starIndex = config['starIndex'], outputDir=df_runStarsoloWithAt.index + '/')\n",
       "df_runStarsoloWithAt['sampleR2'] = df_runStarsoloWithAt['sampleDir'].map(lambda x:','.join(glob.glob(f\"{x}/*/*R2*.fastq.gz\")))\n",
       "df_runStarsoloWithAt['sampleR1'] = df_runStarsoloWithAt['sampleDir'].map(lambda x:','.join(glob.glob(f\"{x}/*/*R1*.fastq.gz\")))\n",
       "for column in ['outputDir']:\n",
       "    df_runStarsoloWithAt[column] = resultDir + 'step2_runStarsoloWithAt/' + df_runStarsoloWithAt[column]\n",
       "----------------\n",
       "IN RULE\n",
       "----------------\n",
       "rule runStarsoloWithAt:\n",
       "    input:\n",
       "        sampleDir = lambda wildcard: df_runStarsoloWithAt.at[wildcard.sample, 'sampleDir'],\n",
       "    output:\n",
       "        runStarsoloWithAtFinished = resultDir + 'step2_runStarsoloWithAt/' + '{sample}.finished',\n",
       "    params:\n",
       "        gpu = 0,\n",
       "        expectedCell = lambda wildcard: df_runStarsoloWithAt.at[wildcard.sample, 'expectedCell'],\n",
       "        umiLength = lambda wildcard: df_runStarsoloWithAt.at[wildcard.sample, 'umiLength'],\n",
       "        whiteList = lambda wildcard: df_runStarsoloWithAt.at[wildcard.sample, 'whiteList'],\n",
       "        includeIntron = lambda wildcard: df_runStarsoloWithAt.at[wildcard.sample, 'includeIntron'],\n",
       "        starIndex = lambda wildcard: df_runStarsoloWithAt.at[wildcard.sample, 'starIndex'],\n",
       "        outputDir = lambda wildcard: df_runStarsoloWithAt.at[wildcard.sample, 'outputDir'],\n",
       "        sampleR2 = lambda wildcard: df_runStarsoloWithAt.at[wildcard.sample, 'sampleR2'],\n",
       "        sampleR1 = lambda wildcard: df_runStarsoloWithAt.at[wildcard.sample, 'sampleR1'],\n",
       "    threads:32\n",
       "    priority:0\n",
       "    shell:\n",
       "        \"\"\"\n",
       "mkdir -p {params.outputDir}\n",
       "cd {params.outputDir}\n",
       "if [ {params.includeIntron} = True ]\n",
       "then\n",
       "    STAR --runThreadN {threads} --genomeDir {params.starIndex} --soloType CB_UMI_Simple --soloCBwhitelist {params.whiteList}        --soloUMIlen {params.umiLength} --readFilesIn {params.sampleR2} {params.sampleR1} --soloFeatures Gene GeneFull Velocyto        --clipAdapterType CellRanger4 --outFilterScoreMin 30 --soloCBmatchWLtype 1MM_multi_Nbase_pseudocounts --soloUMIfiltering MultiGeneUMI_CR        --soloUMIdedup 1MM_CR --soloCellFilter  EmptyDrops_CR {params.expectedCell} 0.99 10 45000 90000 500 0.01 20000 0.01 10000         --readFilesCommand zcat --soloStrand Unstranded\n",
       "else\n",
       "    STAR --runThreadN {threads} --genomeDir {params.starIndex} --soloType CB_UMI_Simple --soloCBwhitelist {params.whiteList}        --soloUMIlen {params.umiLength} --readFilesIn {params.sampleR2} {params.sampleR1} --soloFeatures Gene Velocyto        --clipAdapterType CellRanger4 --outFilterScoreMin 30 --soloCBmatchWLtype 1MM_multi_Nbase_pseudocounts --soloUMIfiltering MultiGeneUMI_CR        --soloUMIdedup 1MM_CR --soloCellFilter  EmptyDrops_CR {params.expectedCell} 0.99 10 45000 90000 500 0.01 20000 0.01 10000         --readFilesCommand zcat --soloStrand Unstranded\n",
       "fi\n",
       "samtools view -@ {threads} -S -O BAM ./Aligned.out.sam  | samtools sort -@ {threads} - -O BAM -o ./Aligned.out.bam\n",
       "samtools index -@ {threads} ./Aligned.out.bam\n",
       "rm ./Aligned.out.sam\n",
       "touch {output.runStarsoloWithAtFinished}\n",
       "        \"\"\""
      ]
     },
     "execution_count": 8,
     "metadata": {},
     "output_type": "execute_result"
    }
   ],
   "source": [
    "runStarsoloWithAt = jps.SnakeRule(snakeFile, \"runStarsoloWithAt\", 32)\n",
    "runStarsoloWithAt.addCode(\n",
    "    \"\"\"\n",
    "import glob\n",
    "df_runStarsoloWithAt = pd.DataFrame(config['samples']).T\n",
    "df_runStarsoloWithAt = df_runStarsoloWithAt.assign(starIndex = config['starIndex'], outputDir=df_runStarsoloWithAt.index + '/')\n",
    "df_runStarsoloWithAt['sampleR2'] = df_runStarsoloWithAt['sampleDir'].map(lambda x:','.join(glob.glob(f\"{x}/*/*R2*.fastq.gz\")))\n",
    "df_runStarsoloWithAt['sampleR1'] = df_runStarsoloWithAt['sampleDir'].map(lambda x:','.join(glob.glob(f\"{x}/*/*R1*.fastq.gz\")))\n",
    "\"\"\"\n",
    ")\n",
    "runStarsoloWithAt.addMetaDf(\n",
    "    \"df_runStarsoloWithAt\",\n",
    "    [\"outputDir\"]\n",
    ")\n",
    "runStarsoloWithAt.addMain('input', ['sampleDir'])\n",
    "runStarsoloWithAt.addMain('params', ['expectedCell', 'umiLength', 'whiteList', 'includeIntron', 'starIndex', 'outputDir', 'sampleR2', 'sampleR1'])\n",
    "runStarsoloWithAt.setShell(\"\"\"\n",
    "mkdir -p {params.outputDir}\n",
    "cd {params.outputDir}\n",
    "if [ {params.includeIntron} = True ]\n",
    "then\n",
    "    STAR --runThreadN {threads} --genomeDir {params.starIndex} --soloType CB_UMI_Simple --soloCBwhitelist {params.whiteList}\\\n",
    "        --soloUMIlen {params.umiLength} --readFilesIn {params.sampleR2} {params.sampleR1} --soloFeatures Gene GeneFull Velocyto\\\n",
    "        --clipAdapterType CellRanger4 --outFilterScoreMin 30 --soloCBmatchWLtype 1MM_multi_Nbase_pseudocounts --soloUMIfiltering MultiGeneUMI_CR\\\n",
    "        --soloUMIdedup 1MM_CR --soloCellFilter  EmptyDrops_CR {params.expectedCell} 0.99 10 45000 90000 500 0.01 20000 0.01 10000 \\\n",
    "        --readFilesCommand zcat --soloStrand Unstranded\n",
    "else\n",
    "    STAR --runThreadN {threads} --genomeDir {params.starIndex} --soloType CB_UMI_Simple --soloCBwhitelist {params.whiteList}\\\n",
    "        --soloUMIlen {params.umiLength} --readFilesIn {params.sampleR2} {params.sampleR1} --soloFeatures Gene Velocyto\\\n",
    "        --clipAdapterType CellRanger4 --outFilterScoreMin 30 --soloCBmatchWLtype 1MM_multi_Nbase_pseudocounts --soloUMIfiltering MultiGeneUMI_CR\\\n",
    "        --soloUMIdedup 1MM_CR --soloCellFilter  EmptyDrops_CR {params.expectedCell} 0.99 10 45000 90000 500 0.01 20000 0.01 10000 \\\n",
    "        --readFilesCommand zcat --soloStrand Unstranded\n",
    "fi\n",
    "samtools view -@ {threads} -S -O BAM ./Aligned.out.sam  | samtools sort -@ {threads} - -O BAM -o ./Aligned.out.bam\n",
    "samtools index -@ {threads} ./Aligned.out.bam\n",
    "rm ./Aligned.out.sam\n",
    "\"\"\")\n",
    "runStarsoloWithAt"
   ]
  },
  {
   "cell_type": "code",
   "execution_count": 9,
   "id": "76261678",
   "metadata": {
    "ExecuteTime": {
     "end_time": "2021-07-12T10:53:12.444010Z",
     "start_time": "2021-07-12T10:53:12.436193Z"
    }
   },
   "outputs": [
    {
     "data": {
      "text/plain": [
       "rule all:\n",
       "    input:\n",
       "        runStarsoloFinished = [resultDir + 'step1_runStarsolo/' + \"\" + sample + \".finished\" for sample in sampleLs],\n",
       "        runStarsoloWithAtFinished = [resultDir + 'step2_runStarsoloWithAt/' + \"\" + sample + \".finished\" for sample in sampleLs],"
      ]
     },
     "execution_count": 9,
     "metadata": {},
     "output_type": "execute_result"
    }
   ],
   "source": [
    "snakeAll = jps.SnakeAll(snakeFile, runStarsolo, runStarsoloWithAt)\n",
    "snakeAll"
   ]
  },
  {
   "cell_type": "code",
   "execution_count": 13,
   "id": "3a41532b",
   "metadata": {
    "ExecuteTime": {
     "end_time": "2021-07-12T10:55:39.906908Z",
     "start_time": "2021-07-12T10:55:39.692417Z"
    }
   },
   "outputs": [
    {
     "name": "stdout",
     "output_type": "stream",
     "text": [
      "import pandas as pd\n",
      "#configfile: \"/public/home/liuzj/scripts/pipeline/10xAnalysisBySTARsolo/snakemake/config.yaml\"\n",
      "pipelineDir = config['pipelineDir']\n",
      "resultDir = config[\"resultDir\"].rstrip(\"/\") + \"/\"\n",
      "pipelineDir = config[\"pipelineDir\"].rstrip(\"/\") + \"/\"\n",
      "sampleLs = list(config['samples'].keys())\n",
      "import glob\n",
      "df_runStarsolo = pd.DataFrame(config['samples']).T\n",
      "df_runStarsolo = df_runStarsolo.assign(starIndex = config['starIndex'], outputDir=df_runStarsolo.index + '/')\n",
      "df_runStarsolo['sampleR2'] = df_runStarsolo['sampleDir'].map(lambda x:','.join(glob.glob(f\"{x}/*/*R2*.fastq.gz\")))\n",
      "df_runStarsolo['sampleR1'] = df_runStarsolo['sampleDir'].map(lambda x:','.join(glob.glob(f\"{x}/*/*R1*.fastq.gz\")))\n",
      "for column in ['outputDir']:\n",
      "    df_runStarsolo[column] = resultDir + 'step1_runStarsolo/' + df_runStarsolo[column]\n",
      "\n",
      "import glob\n",
      "df_runStarsoloWithAt = pd.DataFrame(config['samples']).T\n",
      "df_runStarsoloWithAt = df_runStarsoloWithAt.assign(starIndex = config['starIndex'], outputDir=df_runStarsoloWithAt.index + '/')\n",
      "df_runStarsoloWithAt['sampleR2'] = df_runStarsoloWithAt['sampleDir'].map(lambda x:','.join(glob.glob(f\"{x}/*/*R2*.fastq.gz\")))\n",
      "df_runStarsoloWithAt['sampleR1'] = df_runStarsoloWithAt['sampleDir'].map(lambda x:','.join(glob.glob(f\"{x}/*/*R1*.fastq.gz\")))\n",
      "for column in ['outputDir']:\n",
      "    df_runStarsoloWithAt[column] = resultDir + 'step2_runStarsoloWithAt/' + df_runStarsoloWithAt[column]\n",
      "\n",
      "rule all:\n",
      "    input:\n",
      "        runStarsoloFinished = [resultDir + 'step1_runStarsolo/' + \"\" + sample + \".finished\" for sample in sampleLs],\n",
      "        runStarsoloWithAtFinished = [resultDir + 'step2_runStarsoloWithAt/' + \"\" + sample + \".finished\" for sample in sampleLs],\n",
      "\n",
      "rule runStarsolo:\n",
      "    input:\n",
      "        sampleDir = lambda wildcard: df_runStarsolo.at[wildcard.sample, 'sampleDir'],\n",
      "    output:\n",
      "        runStarsoloFinished = resultDir + 'step1_runStarsolo/' + '{sample}.finished',\n",
      "    params:\n",
      "        gpu = 0,\n",
      "        expectedCell = lambda wildcard: df_runStarsolo.at[wildcard.sample, 'expectedCell'],\n",
      "        umiLength = lambda wildcard: df_runStarsolo.at[wildcard.sample, 'umiLength'],\n",
      "        whiteList = lambda wildcard: df_runStarsolo.at[wildcard.sample, 'whiteList'],\n",
      "        includeIntron = lambda wildcard: df_runStarsolo.at[wildcard.sample, 'includeIntron'],\n",
      "        starIndex = lambda wildcard: df_runStarsolo.at[wildcard.sample, 'starIndex'],\n",
      "        outputDir = lambda wildcard: df_runStarsolo.at[wildcard.sample, 'outputDir'],\n",
      "        sampleR2 = lambda wildcard: df_runStarsolo.at[wildcard.sample, 'sampleR2'],\n",
      "        sampleR1 = lambda wildcard: df_runStarsolo.at[wildcard.sample, 'sampleR1'],\n",
      "    threads:32\n",
      "    priority:20\n",
      "    shell:\n",
      "        \"\"\"\n",
      "mkdir -p {params.outputDir}\n",
      "cd {params.outputDir}\n",
      "if [ {params.includeIntron} = True ]\n",
      "then\n",
      "    STAR --runThreadN {threads} --genomeDir {params.starIndex} --soloType CB_UMI_Simple --soloCBwhitelist {params.whiteList}        --soloUMIlen {params.umiLength} --readFilesIn {params.sampleR2} {params.sampleR1} --soloFeatures Gene GeneFull Velocyto        --clipAdapterType CellRanger4 --outFilterScoreMin 30 --soloCBmatchWLtype 1MM_multi_Nbase_pseudocounts --soloUMIfiltering MultiGeneUMI_CR        --soloUMIdedup 1MM_CR --soloCellFilter  EmptyDrops_CR {params.expectedCell} 0.99 10 45000 90000 500 0.01 20000 0.01 10000         --readFilesCommand zcat\n",
      "else\n",
      "    STAR --runThreadN {threads} --genomeDir {params.starIndex} --soloType CB_UMI_Simple --soloCBwhitelist {params.whiteList}        --soloUMIlen {params.umiLength} --readFilesIn {params.sampleR2} {params.sampleR1} --soloFeatures Gene Velocyto        --clipAdapterType CellRanger4 --outFilterScoreMin 30 --soloCBmatchWLtype 1MM_multi_Nbase_pseudocounts --soloUMIfiltering MultiGeneUMI_CR        --soloUMIdedup 1MM_CR --soloCellFilter  EmptyDrops_CR {params.expectedCell} 0.99 10 45000 90000 500 0.01 20000 0.01 10000         --readFilesCommand zcat\n",
      "fi\n",
      "samtools view -@ {threads} -S -O BAM ./Aligned.out.sam  | samtools sort -@ {threads} - -O BAM -o ./Aligned.out.bam\n",
      "samtools index -@ {threads} ./Aligned.out.bam\n",
      "rm ./Aligned.out.sam\n",
      "touch {output.runStarsoloFinished}\n",
      "        \"\"\"\n",
      "\n",
      "rule runStarsoloWithAt:\n",
      "    input:\n",
      "        sampleDir = lambda wildcard: df_runStarsoloWithAt.at[wildcard.sample, 'sampleDir'],\n",
      "    output:\n",
      "        runStarsoloWithAtFinished = resultDir + 'step2_runStarsoloWithAt/' + '{sample}.finished',\n",
      "    params:\n",
      "        gpu = 0,\n",
      "        expectedCell = lambda wildcard: df_runStarsoloWithAt.at[wildcard.sample, 'expectedCell'],\n",
      "        umiLength = lambda wildcard: df_runStarsoloWithAt.at[wildcard.sample, 'umiLength'],\n",
      "        whiteList = lambda wildcard: df_runStarsoloWithAt.at[wildcard.sample, 'whiteList'],\n",
      "        includeIntron = lambda wildcard: df_runStarsoloWithAt.at[wildcard.sample, 'includeIntron'],\n",
      "        starIndex = lambda wildcard: df_runStarsoloWithAt.at[wildcard.sample, 'starIndex'],\n",
      "        outputDir = lambda wildcard: df_runStarsoloWithAt.at[wildcard.sample, 'outputDir'],\n",
      "        sampleR2 = lambda wildcard: df_runStarsoloWithAt.at[wildcard.sample, 'sampleR2'],\n",
      "        sampleR1 = lambda wildcard: df_runStarsoloWithAt.at[wildcard.sample, 'sampleR1'],\n",
      "    threads:32\n",
      "    priority:0\n",
      "    shell:\n",
      "        \"\"\"\n",
      "mkdir -p {params.outputDir}\n",
      "cd {params.outputDir}\n",
      "if [ {params.includeIntron} = True ]\n",
      "then\n",
      "    STAR --runThreadN {threads} --genomeDir {params.starIndex} --soloType CB_UMI_Simple --soloCBwhitelist {params.whiteList}        --soloUMIlen {params.umiLength} --readFilesIn {params.sampleR2} {params.sampleR1} --soloFeatures Gene GeneFull Velocyto        --clipAdapterType CellRanger4 --outFilterScoreMin 30 --soloCBmatchWLtype 1MM_multi_Nbase_pseudocounts --soloUMIfiltering MultiGeneUMI_CR        --soloUMIdedup 1MM_CR --soloCellFilter  EmptyDrops_CR {params.expectedCell} 0.99 10 45000 90000 500 0.01 20000 0.01 10000         --readFilesCommand zcat --soloStrand Unstranded\n",
      "else\n",
      "    STAR --runThreadN {threads} --genomeDir {params.starIndex} --soloType CB_UMI_Simple --soloCBwhitelist {params.whiteList}        --soloUMIlen {params.umiLength} --readFilesIn {params.sampleR2} {params.sampleR1} --soloFeatures Gene Velocyto        --clipAdapterType CellRanger4 --outFilterScoreMin 30 --soloCBmatchWLtype 1MM_multi_Nbase_pseudocounts --soloUMIfiltering MultiGeneUMI_CR        --soloUMIdedup 1MM_CR --soloCellFilter  EmptyDrops_CR {params.expectedCell} 0.99 10 45000 90000 500 0.01 20000 0.01 10000         --readFilesCommand zcat --soloStrand Unstranded\n",
      "fi\n",
      "samtools view -@ {threads} -S -O BAM ./Aligned.out.sam  | samtools sort -@ {threads} - -O BAM -o ./Aligned.out.bam\n",
      "samtools index -@ {threads} ./Aligned.out.bam\n",
      "rm ./Aligned.out.sam\n",
      "touch {output.runStarsoloWithAtFinished}\n",
      "        \"\"\"\n",
      "\n",
      "\n"
     ]
    }
   ],
   "source": [
    "snakeFile.getMain(snakePath)"
   ]
  },
  {
   "cell_type": "code",
   "execution_count": 12,
   "id": "c6602c10",
   "metadata": {
    "ExecuteTime": {
     "end_time": "2021-07-12T10:55:02.695145Z",
     "start_time": "2021-07-12T10:55:02.688218Z"
    }
   },
   "outputs": [
    {
     "data": {
      "text/plain": [
       "'/public/home/liuzj/scripts/pipeline/10xAnalysisBySTARsolo/snakemake/snakefile'"
      ]
     },
     "execution_count": 12,
     "metadata": {},
     "output_type": "execute_result"
    }
   ],
   "source": [
    "snakePath"
   ]
  }
 ],
 "metadata": {
  "kernelspec": {
   "display_name": "Python 3",
   "language": "python",
   "name": "python3"
  },
  "language_info": {
   "codemirror_mode": {
    "name": "ipython",
    "version": 3
   },
   "file_extension": ".py",
   "mimetype": "text/x-python",
   "name": "python",
   "nbconvert_exporter": "python",
   "pygments_lexer": "ipython3",
   "version": "3.8.10"
  },
  "toc": {
   "base_numbering": 1,
   "nav_menu": {},
   "number_sections": true,
   "sideBar": true,
   "skip_h1_title": false,
   "title_cell": "Table of Contents",
   "title_sidebar": "Contents",
   "toc_cell": false,
   "toc_position": {},
   "toc_section_display": true,
   "toc_window_display": false
  },
  "varInspector": {
   "cols": {
    "lenName": 16,
    "lenType": 16,
    "lenVar": 40
   },
   "kernels_config": {
    "python": {
     "delete_cmd_postfix": "",
     "delete_cmd_prefix": "del ",
     "library": "var_list.py",
     "varRefreshCmd": "print(var_dic_list())"
    },
    "r": {
     "delete_cmd_postfix": ") ",
     "delete_cmd_prefix": "rm(",
     "library": "var_list.r",
     "varRefreshCmd": "cat(var_dic_list()) "
    }
   },
   "types_to_exclude": [
    "module",
    "function",
    "builtin_function_or_method",
    "instance",
    "_Feature"
   ],
   "window_display": false
  }
 },
 "nbformat": 4,
 "nbformat_minor": 5
}
