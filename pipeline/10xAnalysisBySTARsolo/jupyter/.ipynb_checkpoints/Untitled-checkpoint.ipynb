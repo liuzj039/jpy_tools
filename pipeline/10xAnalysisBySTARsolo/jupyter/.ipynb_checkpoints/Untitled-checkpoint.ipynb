{
 "cells": [
  {
   "cell_type": "code",
   "execution_count": 181,
   "id": "e442306a",
   "metadata": {
    "ExecuteTime": {
     "end_time": "2021-06-21T12:19:49.010798Z",
     "start_time": "2021-06-21T12:19:49.007003Z"
    }
   },
   "outputs": [],
   "source": [
    "import pandas as pd\n",
    "import jpy_tools.parseSnake2 as jps"
   ]
  },
  {
   "cell_type": "code",
   "execution_count": 182,
   "id": "93319176",
   "metadata": {
    "ExecuteTime": {
     "end_time": "2021-06-21T12:19:49.818608Z",
     "start_time": "2021-06-21T12:19:49.013855Z"
    }
   },
   "outputs": [],
   "source": [
    "configPath = '/public/home/liuzj/scripts/pipeline/10xAnalysisBySTARsolo/snakemake/config.yaml'\n",
    "snakePath = '/public/home/liuzj/scripts/pipeline/10xAnalysisBySTARsolo/snakemake/snakefile'"
   ]
  },
  {
   "cell_type": "code",
   "execution_count": 183,
   "id": "ae51a621",
   "metadata": {
    "ExecuteTime": {
     "end_time": "2021-06-21T12:19:50.648269Z",
     "start_time": "2021-06-21T12:19:49.822467Z"
    }
   },
   "outputs": [],
   "source": [
    "snakeFile = jps.SnakeFile()"
   ]
  },
  {
   "cell_type": "code",
   "execution_count": 184,
   "id": "54e04a7b",
   "metadata": {
    "ExecuteTime": {
     "end_time": "2021-06-21T12:19:51.210260Z",
     "start_time": "2021-06-21T12:19:50.651502Z"
    }
   },
   "outputs": [
    {
     "name": "stderr",
     "output_type": "stream",
     "text": [
      "/public/home/liuzj/softwares/anaconda3/lib/python3.8/site-packages/jpy_tools/parseSnake2.py:93: YAMLLoadWarning: calling yaml.load() without Loader=... is deprecated, as the default Loader is unsafe. Please read https://msg.pyyaml.org/load for full details.\n",
      "  self.yaml = yaml.load(open(self.path))\n"
     ]
    },
    {
     "data": {
      "text/plain": [
       "import pandas as pd\n",
       "#configfile: \"/public/home/liuzj/scripts/pipeline/10xAnalysisBySTARsolo/snakemake/config.yaml\"\n",
       "pipelineDir = config['pipelineDir']\n",
       "resultDir = config[\"resultDir\"].rstrip(\"/\") + \"/\"\n",
       "pipelineDir = config[\"pipelineDir\"].rstrip(\"/\") + \"/\"\n",
       "sampleLs = list(config['samples'].keys())"
      ]
     },
     "execution_count": 184,
     "metadata": {},
     "output_type": "execute_result"
    }
   ],
   "source": [
    "snakeHeader = jps.SnakeHeader(snakeFile, configPath)\n",
    "snakeHeader.addCode(\"sampleLs = list(config['samples'].keys())\")\n",
    "config = snakeHeader.getConfig()\n",
    "snakeHeader"
   ]
  },
  {
   "cell_type": "code",
   "execution_count": 185,
   "id": "6af48a9f",
   "metadata": {
    "ExecuteTime": {
     "end_time": "2021-06-21T12:19:51.300983Z",
     "start_time": "2021-06-21T12:19:51.212931Z"
    }
   },
   "outputs": [],
   "source": [
    "import glob\n",
    "df_runStarsolo = pd.DataFrame(config['samples']).T\n",
    "df_runStarsolo = df_runStarsolo.assign(starIndex = config['starIndex'], outputDir=df_runStarsolo.index + '/')\n",
    "df_runStarsolo['sampleR2'] = df_runStarsolo['sampleDir'].map(lambda x:','.join(glob.glob(f\"{x}/*/*R2*.fastq.gz\")))\n",
    "df_runStarsolo['sampleR1'] = df_runStarsolo['sampleDir'].map(lambda x:','.join(glob.glob(f\"{x}/*/*R1*.fastq.gz\")))"
   ]
  },
  {
   "cell_type": "code",
   "execution_count": 186,
   "id": "5556e338",
   "metadata": {
    "ExecuteTime": {
     "end_time": "2021-06-21T12:19:51.318889Z",
     "start_time": "2021-06-21T12:19:51.303714Z"
    }
   },
   "outputs": [
    {
     "name": "stderr",
     "output_type": "stream",
     "text": [
      "2021-06-21 20:19:51.310 | INFO     | jpy_tools.parseSnake2:addRule:55 - runStarsolo step num: 1\n"
     ]
    },
    {
     "data": {
      "text/plain": [
       "import glob\n",
       "df_runStarsolo = pd.DataFrame(config['samples']).T\n",
       "df_runStarsolo = df_runStarsolo.assign(starIndex = config['starIndex'], outputDir=df_runStarsolo.index + '/')\n",
       "df_runStarsolo['sampleR2'] = df_runStarsolo['sampleDir'].map(lambda x:','.join(glob.glob(f\"{x}/*/*R2*.fastq.gz\")))\n",
       "df_runStarsolo['sampleR1'] = df_runStarsolo['sampleDir'].map(lambda x:','.join(glob.glob(f\"{x}/*/*R1*.fastq.gz\")))\n",
       "for column in ['outputDir']:\n",
       "    df_runStarsolo[column] = resultDir + 'step1_runStarsolo/' + df_runStarsolo[column]\n",
       "----------------\n",
       "IN RULE\n",
       "----------------\n",
       "rule runStarsolo:\n",
       "    input:\n",
       "        sampleDir = lambda wildcard: df_runStarsolo.at[wildcard.sample, 'sampleDir'],\n",
       "    output:\n",
       "        runStarsoloFinished = resultDir + 'step1_runStarsolo/' + '{sample}.finished',\n",
       "    params:\n",
       "        gpu = 0,\n",
       "        expectedCell = lambda wildcard: df_runStarsolo.at[wildcard.sample, 'expectedCell'],\n",
       "        umiLength = lambda wildcard: df_runStarsolo.at[wildcard.sample, 'umiLength'],\n",
       "        whiteList = lambda wildcard: df_runStarsolo.at[wildcard.sample, 'whiteList'],\n",
       "        includeIntron = lambda wildcard: df_runStarsolo.at[wildcard.sample, 'includeIntron'],\n",
       "        starIndex = lambda wildcard: df_runStarsolo.at[wildcard.sample, 'starIndex'],\n",
       "        outputDir = lambda wildcard: df_runStarsolo.at[wildcard.sample, 'outputDir'],\n",
       "        sampleR2 = lambda wildcard: df_runStarsolo.at[wildcard.sample, 'sampleR2'],\n",
       "        sampleR1 = lambda wildcard: df_runStarsolo.at[wildcard.sample, 'sampleR1'],\n",
       "    threads:48\n",
       "    shell:\n",
       "        \"\"\"\n",
       "ulimit -n 5000000\n",
       "mkdir -p {params.outputDir}\n",
       "cd {params.outputDir}\n",
       "if [ {params.includeIntron} = True ]\n",
       "then\n",
       "    STAR --runThreadN {threads} --genomeDir {params.starIndex} --soloType CB_UMI_Simple --soloCBwhitelist {params.whiteList}        --soloUMIlen {params.umiLength} --readFilesIn {params.sampleR2} {params.sampleR1} --soloFeatures Gene GeneFull Velocyto        --clipAdapterType CellRanger4 --outFilterScoreMin 30 --soloCBmatchWLtype 1MM_multi_Nbase_pseudocounts --soloUMIfiltering MultiGeneUMI_CR        --soloUMIdedup 1MM_CR --soloCellFilter  EmptyDrops_CR {params.expectedCell} 0.99 10 45000 90000 500 0.01 20000 0.01 10000         --readFilesCommand zcat --outSAMtype BAM SortedByCoordinate\n",
       "else\n",
       "    STAR --runThreadN {threads} --genomeDir {params.starIndex} --soloType CB_UMI_Simple --soloCBwhitelist {params.whiteList}        --soloUMIlen {params.umiLength} --readFilesIn {params.sampleR2} {params.sampleR1} --soloFeatures Gene Velocyto        --clipAdapterType CellRanger4 --outFilterScoreMin 30 --soloCBmatchWLtype 1MM_multi_Nbase_pseudocounts --soloUMIfiltering MultiGeneUMI_CR        --soloUMIdedup 1MM_CR --soloCellFilter  EmptyDrops_CR {params.expectedCell} 0.99 10 45000 90000 500 0.01 20000 0.01 10000         --readFilesCommand zcat --outSAMtype BAM SortedByCoordinate\n",
       "fi\n",
       "samtools index -@ {threads} ./Aligned.sortedByCoord.out.bam\n",
       "touch {output.runStarsoloFinished}\n",
       "        \"\"\""
      ]
     },
     "execution_count": 186,
     "metadata": {},
     "output_type": "execute_result"
    }
   ],
   "source": [
    "runStarsolo = jps.SnakeRule(snakeFile, \"runStarsolo\", 48)\n",
    "runStarsolo.addCode(\n",
    "    \"\"\"\n",
    "import glob\n",
    "df_runStarsolo = pd.DataFrame(config['samples']).T\n",
    "df_runStarsolo = df_runStarsolo.assign(starIndex = config['starIndex'], outputDir=df_runStarsolo.index + '/')\n",
    "df_runStarsolo['sampleR2'] = df_runStarsolo['sampleDir'].map(lambda x:','.join(glob.glob(f\"{x}/*/*R2*.fastq.gz\")))\n",
    "df_runStarsolo['sampleR1'] = df_runStarsolo['sampleDir'].map(lambda x:','.join(glob.glob(f\"{x}/*/*R1*.fastq.gz\")))\n",
    "\"\"\"\n",
    ")\n",
    "runStarsolo.addMetaDf(\n",
    "    \"df_runStarsolo\",\n",
    "    [\"outputDir\"]\n",
    ")\n",
    "runStarsolo.addMain('input', ['sampleDir'])\n",
    "runStarsolo.addMain('params', ['expectedCell', 'umiLength', 'whiteList', 'includeIntron', 'starIndex', 'outputDir', 'sampleR2', 'sampleR1'])\n",
    "runStarsolo.setShell(\"\"\"\n",
    "ulimit -n 1000000\n",
    "mkdir -p {params.outputDir}\n",
    "cd {params.outputDir}\n",
    "if [ {params.includeIntron} = True ]\n",
    "then\n",
    "    STAR --runThreadN {threads} --genomeDir {params.starIndex} --soloType CB_UMI_Simple --soloCBwhitelist {params.whiteList}\\\n",
    "        --soloUMIlen {params.umiLength} --readFilesIn {params.sampleR2} {params.sampleR1} --soloFeatures Gene GeneFull Velocyto\\\n",
    "        --clipAdapterType CellRanger4 --outFilterScoreMin 30 --soloCBmatchWLtype 1MM_multi_Nbase_pseudocounts --soloUMIfiltering MultiGeneUMI_CR\\\n",
    "        --soloUMIdedup 1MM_CR --soloCellFilter  EmptyDrops_CR {params.expectedCell} 0.99 10 45000 90000 500 0.01 20000 0.01 10000 \\\n",
    "        --readFilesCommand zcat --outSAMtype BAM SortedByCoordinate\n",
    "else\n",
    "    STAR --runThreadN {threads} --genomeDir {params.starIndex} --soloType CB_UMI_Simple --soloCBwhitelist {params.whiteList}\\\n",
    "        --soloUMIlen {params.umiLength} --readFilesIn {params.sampleR2} {params.sampleR1} --soloFeatures Gene Velocyto\\\n",
    "        --clipAdapterType CellRanger4 --outFilterScoreMin 30 --soloCBmatchWLtype 1MM_multi_Nbase_pseudocounts --soloUMIfiltering MultiGeneUMI_CR\\\n",
    "        --soloUMIdedup 1MM_CR --soloCellFilter  EmptyDrops_CR {params.expectedCell} 0.99 10 45000 90000 500 0.01 20000 0.01 10000 \\\n",
    "        --readFilesCommand zcat --outSAMtype BAM SortedByCoordinate\n",
    "fi\n",
    "samtools index -@ {threads} ./Aligned.sortedByCoord.out.bam\n",
    "\"\"\")\n",
    "runStarsolo"
   ]
  },
  {
   "cell_type": "code",
   "execution_count": 187,
   "id": "76261678",
   "metadata": {
    "ExecuteTime": {
     "end_time": "2021-06-21T12:19:51.327444Z",
     "start_time": "2021-06-21T12:19:51.321521Z"
    }
   },
   "outputs": [
    {
     "data": {
      "text/plain": [
       "rule all:\n",
       "    input:\n",
       "        runStarsoloFinished = [resultDir + 'step1_runStarsolo/' + \"\" + sample + \".finished\" for sample in sampleLs],"
      ]
     },
     "execution_count": 187,
     "metadata": {},
     "output_type": "execute_result"
    }
   ],
   "source": [
    "snakeAll = jps.SnakeAll(snakeFile, runStarsolo)\n",
    "snakeAll"
   ]
  },
  {
   "cell_type": "code",
   "execution_count": 188,
   "id": "3a41532b",
   "metadata": {
    "ExecuteTime": {
     "end_time": "2021-06-21T12:19:51.342762Z",
     "start_time": "2021-06-21T12:19:51.332142Z"
    }
   },
   "outputs": [
    {
     "name": "stdout",
     "output_type": "stream",
     "text": [
      "import pandas as pd\n",
      "#configfile: \"/public/home/liuzj/scripts/pipeline/10xAnalysisBySTARsolo/snakemake/config.yaml\"\n",
      "pipelineDir = config['pipelineDir']\n",
      "resultDir = config[\"resultDir\"].rstrip(\"/\") + \"/\"\n",
      "pipelineDir = config[\"pipelineDir\"].rstrip(\"/\") + \"/\"\n",
      "sampleLs = list(config['samples'].keys())\n",
      "import glob\n",
      "df_runStarsolo = pd.DataFrame(config['samples']).T\n",
      "df_runStarsolo = df_runStarsolo.assign(starIndex = config['starIndex'], outputDir=df_runStarsolo.index + '/')\n",
      "df_runStarsolo['sampleR2'] = df_runStarsolo['sampleDir'].map(lambda x:','.join(glob.glob(f\"{x}/*/*R2*.fastq.gz\")))\n",
      "df_runStarsolo['sampleR1'] = df_runStarsolo['sampleDir'].map(lambda x:','.join(glob.glob(f\"{x}/*/*R1*.fastq.gz\")))\n",
      "for column in ['outputDir']:\n",
      "    df_runStarsolo[column] = resultDir + 'step1_runStarsolo/' + df_runStarsolo[column]\n",
      "\n",
      "rule all:\n",
      "    input:\n",
      "        runStarsoloFinished = [resultDir + 'step1_runStarsolo/' + \"\" + sample + \".finished\" for sample in sampleLs],\n",
      "\n",
      "rule runStarsolo:\n",
      "    input:\n",
      "        sampleDir = lambda wildcard: df_runStarsolo.at[wildcard.sample, 'sampleDir'],\n",
      "    output:\n",
      "        runStarsoloFinished = resultDir + 'step1_runStarsolo/' + '{sample}.finished',\n",
      "    params:\n",
      "        gpu = 0,\n",
      "        expectedCell = lambda wildcard: df_runStarsolo.at[wildcard.sample, 'expectedCell'],\n",
      "        umiLength = lambda wildcard: df_runStarsolo.at[wildcard.sample, 'umiLength'],\n",
      "        whiteList = lambda wildcard: df_runStarsolo.at[wildcard.sample, 'whiteList'],\n",
      "        includeIntron = lambda wildcard: df_runStarsolo.at[wildcard.sample, 'includeIntron'],\n",
      "        starIndex = lambda wildcard: df_runStarsolo.at[wildcard.sample, 'starIndex'],\n",
      "        outputDir = lambda wildcard: df_runStarsolo.at[wildcard.sample, 'outputDir'],\n",
      "        sampleR2 = lambda wildcard: df_runStarsolo.at[wildcard.sample, 'sampleR2'],\n",
      "        sampleR1 = lambda wildcard: df_runStarsolo.at[wildcard.sample, 'sampleR1'],\n",
      "    threads:48\n",
      "    shell:\n",
      "        \"\"\"\n",
      "ulimit -n 5000000\n",
      "mkdir -p {params.outputDir}\n",
      "cd {params.outputDir}\n",
      "if [ {params.includeIntron} = True ]\n",
      "then\n",
      "    STAR --runThreadN {threads} --genomeDir {params.starIndex} --soloType CB_UMI_Simple --soloCBwhitelist {params.whiteList}        --soloUMIlen {params.umiLength} --readFilesIn {params.sampleR2} {params.sampleR1} --soloFeatures Gene GeneFull Velocyto        --clipAdapterType CellRanger4 --outFilterScoreMin 30 --soloCBmatchWLtype 1MM_multi_Nbase_pseudocounts --soloUMIfiltering MultiGeneUMI_CR        --soloUMIdedup 1MM_CR --soloCellFilter  EmptyDrops_CR {params.expectedCell} 0.99 10 45000 90000 500 0.01 20000 0.01 10000         --readFilesCommand zcat --outSAMtype BAM SortedByCoordinate\n",
      "else\n",
      "    STAR --runThreadN {threads} --genomeDir {params.starIndex} --soloType CB_UMI_Simple --soloCBwhitelist {params.whiteList}        --soloUMIlen {params.umiLength} --readFilesIn {params.sampleR2} {params.sampleR1} --soloFeatures Gene Velocyto        --clipAdapterType CellRanger4 --outFilterScoreMin 30 --soloCBmatchWLtype 1MM_multi_Nbase_pseudocounts --soloUMIfiltering MultiGeneUMI_CR        --soloUMIdedup 1MM_CR --soloCellFilter  EmptyDrops_CR {params.expectedCell} 0.99 10 45000 90000 500 0.01 20000 0.01 10000         --readFilesCommand zcat --outSAMtype BAM SortedByCoordinate\n",
      "fi\n",
      "samtools index -@ {threads} ./Aligned.sortedByCoord.out.bam\n",
      "touch {output.runStarsoloFinished}\n",
      "        \"\"\"\n",
      "\n",
      "\n"
     ]
    }
   ],
   "source": [
    "snakeFile.getMain(snakePath)"
   ]
  },
  {
   "cell_type": "code",
   "execution_count": null,
   "id": "c6602c10",
   "metadata": {},
   "outputs": [],
   "source": []
  }
 ],
 "metadata": {
  "kernelspec": {
   "display_name": "Python 3",
   "language": "python",
   "name": "python3"
  },
  "language_info": {
   "codemirror_mode": {
    "name": "ipython",
    "version": 3
   },
   "file_extension": ".py",
   "mimetype": "text/x-python",
   "name": "python",
   "nbconvert_exporter": "python",
   "pygments_lexer": "ipython3",
   "version": "3.8.10"
  },
  "toc": {
   "base_numbering": 1,
   "nav_menu": {},
   "number_sections": true,
   "sideBar": true,
   "skip_h1_title": false,
   "title_cell": "Table of Contents",
   "title_sidebar": "Contents",
   "toc_cell": false,
   "toc_position": {},
   "toc_section_display": true,
   "toc_window_display": false
  },
  "varInspector": {
   "cols": {
    "lenName": 16,
    "lenType": 16,
    "lenVar": 40
   },
   "kernels_config": {
    "python": {
     "delete_cmd_postfix": "",
     "delete_cmd_prefix": "del ",
     "library": "var_list.py",
     "varRefreshCmd": "print(var_dic_list())"
    },
    "r": {
     "delete_cmd_postfix": ") ",
     "delete_cmd_prefix": "rm(",
     "library": "var_list.r",
     "varRefreshCmd": "cat(var_dic_list()) "
    }
   },
   "types_to_exclude": [
    "module",
    "function",
    "builtin_function_or_method",
    "instance",
    "_Feature"
   ],
   "window_display": false
  }
 },
 "nbformat": 4,
 "nbformat_minor": 5
}
