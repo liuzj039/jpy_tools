{
 "cells": [
  {
   "cell_type": "code",
   "execution_count": 27,
   "metadata": {},
   "outputs": [],
   "source": [
    "import pandas as pd\n",
    "import jpy_tools.parseSnake2 as jps"
   ]
  },
  {
   "cell_type": "code",
   "execution_count": 28,
   "metadata": {},
   "outputs": [],
   "source": [
    "configPath = '/public/home/liuzj/scripts/pipeline/10xAnalysis/snakemake/config.yaml'\n",
    "snakemakeFilePath = '/public/home/liuzj/scripts/pipeline/10xAnalysis/snakemake/snakefile'"
   ]
  },
  {
   "cell_type": "code",
   "execution_count": 29,
   "metadata": {},
   "outputs": [],
   "source": [
    "snakeFile = jps.SnakeFile()"
   ]
  },
  {
   "cell_type": "code",
   "execution_count": 30,
   "metadata": {},
   "outputs": [
    {
     "data": {
      "text/plain": [
       "import pandas as pd\n",
       "#configfile: \"/public/home/liuzj/scripts/pipeline/10xAnalysis/snakemake/config.yaml\"\n",
       "pipelineDir = config['pipelineDir']\n",
       "resultDir = config[\"resultDir\"].rstrip(\"/\") + \"/\"\n",
       "pipelineDir = config[\"pipelineDir\"].rstrip(\"/\") + \"/\"\n",
       "sampleLs = list(config['Samples'].keys())"
      ]
     },
     "execution_count": 30,
     "metadata": {},
     "output_type": "execute_result"
    }
   ],
   "source": [
    "snakeHeader = jps.SnakeHeader(snakeFile, configPath)\n",
    "snakeHeader.addCode(\"sampleLs = list(config['Samples'].keys())\")\n",
    "config = snakeHeader.getConfig()\n",
    "snakeHeader"
   ]
  },
  {
   "cell_type": "code",
   "execution_count": 31,
   "metadata": {},
   "outputs": [
    {
     "data": {
      "text/plain": [
       "{'cellRangerPath': '/public/home/liuzj/softwares/environment/cellranger6',\n",
       " 'cellRangerIndex': '/public/home/liuzj/data/singleCellRef/mm10_UCSC_ensGene',\n",
       " 'resultDir': '/public/home/liuzj/projects/singleCell/singleCellMouseNeuron/01_data/publicData/',\n",
       " 'pipelineDir': '/public/home/liuzj/projects/singleCell/singleCellMouseNeuron/01_data/publicData/',\n",
       " 'genomeBed': '/public/home/liuzj/data/mm10_UCSC/mm10.ensGene.noScaffold.gtf.changeTrsId.bed',\n",
       " 'Samples': {'artis_A3': {'fastq': '/public/home/liuzj/projects/singleCell/singleCellMouseNeuron/01_data/publicData/SRR9895509_medialPrefrontalCortex/artis_A3',\n",
       "   'includeIntron': True,\n",
       "   'expectCell': 5000,\n",
       "   'r2Length': 91},\n",
       "  'artis_A4': {'fastq': '/public/home/liuzj/projects/singleCell/singleCellMouseNeuron/01_data/publicData/allen_biorxiv/Raw_data_scRNA_10X_v3_A',\n",
       "   'includeIntron': True,\n",
       "   'expectCell': 5000,\n",
       "   'r2Length': 91}}}"
      ]
     },
     "execution_count": 31,
     "metadata": {},
     "output_type": "execute_result"
    }
   ],
   "source": [
    "config"
   ]
  },
  {
   "cell_type": "code",
   "execution_count": 32,
   "metadata": {},
   "outputs": [],
   "source": [
    "pipelineDir = config['pipelineDir']\n",
    "resultDir = config[\"resultDir\"].rstrip(\"/\") + \"/\"\n",
    "pipelineDir = config[\"pipelineDir\"].rstrip(\"/\") + \"/\"\n",
    "sampleLs = list(config['Samples'].keys())"
   ]
  },
  {
   "cell_type": "code",
   "execution_count": 33,
   "metadata": {},
   "outputs": [
    {
     "data": {
      "text/html": [
       "<div>\n",
       "<style scoped>\n",
       "    .dataframe tbody tr th:only-of-type {\n",
       "        vertical-align: middle;\n",
       "    }\n",
       "\n",
       "    .dataframe tbody tr th {\n",
       "        vertical-align: top;\n",
       "    }\n",
       "\n",
       "    .dataframe thead th {\n",
       "        text-align: right;\n",
       "    }\n",
       "</style>\n",
       "<table border=\"1\" class=\"dataframe\">\n",
       "  <thead>\n",
       "    <tr style=\"text-align: right;\">\n",
       "      <th></th>\n",
       "      <th>fastq</th>\n",
       "      <th>includeIntron</th>\n",
       "      <th>expectCell</th>\n",
       "      <th>r2Length</th>\n",
       "      <th>id</th>\n",
       "      <th>outputDir</th>\n",
       "      <th>bamFile</th>\n",
       "      <th>barcodeFile</th>\n",
       "      <th>tenXResultDir</th>\n",
       "      <th>cellRangerIndex</th>\n",
       "      <th>sample</th>\n",
       "    </tr>\n",
       "  </thead>\n",
       "  <tbody>\n",
       "    <tr>\n",
       "      <th>artis_A3</th>\n",
       "      <td>/public/home/liuzj/projects/singleCell/singleC...</td>\n",
       "      <td>True</td>\n",
       "      <td>5000</td>\n",
       "      <td>91</td>\n",
       "      <td>artis_A3</td>\n",
       "      <td>artis_A3</td>\n",
       "      <td>artis_A3/artis_A3/outs/possorted_genome_bam.bam</td>\n",
       "      <td>artis_A3/artis_A3/outs/filtered_feature_bc_mat...</td>\n",
       "      <td>artis_A3/artis_A3</td>\n",
       "      <td>/public/home/liuzj/data/singleCellRef/mm10_UCS...</td>\n",
       "      <td>False</td>\n",
       "    </tr>\n",
       "    <tr>\n",
       "      <th>artis_A4</th>\n",
       "      <td>/public/home/liuzj/projects/singleCell/singleC...</td>\n",
       "      <td>True</td>\n",
       "      <td>5000</td>\n",
       "      <td>91</td>\n",
       "      <td>artis_A4</td>\n",
       "      <td>artis_A4</td>\n",
       "      <td>artis_A4/artis_A4/outs/possorted_genome_bam.bam</td>\n",
       "      <td>artis_A4/artis_A4/outs/filtered_feature_bc_mat...</td>\n",
       "      <td>artis_A4/artis_A4</td>\n",
       "      <td>/public/home/liuzj/data/singleCellRef/mm10_UCS...</td>\n",
       "      <td>False</td>\n",
       "    </tr>\n",
       "  </tbody>\n",
       "</table>\n",
       "</div>"
      ],
      "text/plain": [
       "                                                      fastq includeIntron  \\\n",
       "artis_A3  /public/home/liuzj/projects/singleCell/singleC...          True   \n",
       "artis_A4  /public/home/liuzj/projects/singleCell/singleC...          True   \n",
       "\n",
       "         expectCell r2Length        id outputDir  \\\n",
       "artis_A3       5000       91  artis_A3  artis_A3   \n",
       "artis_A4       5000       91  artis_A4  artis_A4   \n",
       "\n",
       "                                                  bamFile  \\\n",
       "artis_A3  artis_A3/artis_A3/outs/possorted_genome_bam.bam   \n",
       "artis_A4  artis_A4/artis_A4/outs/possorted_genome_bam.bam   \n",
       "\n",
       "                                                barcodeFile  \\\n",
       "artis_A3  artis_A3/artis_A3/outs/filtered_feature_bc_mat...   \n",
       "artis_A4  artis_A4/artis_A4/outs/filtered_feature_bc_mat...   \n",
       "\n",
       "              tenXResultDir  \\\n",
       "artis_A3  artis_A3/artis_A3   \n",
       "artis_A4  artis_A4/artis_A4   \n",
       "\n",
       "                                            cellRangerIndex  sample  \n",
       "artis_A3  /public/home/liuzj/data/singleCellRef/mm10_UCS...   False  \n",
       "artis_A4  /public/home/liuzj/data/singleCellRef/mm10_UCS...   False  "
      ]
     },
     "execution_count": 33,
     "metadata": {},
     "output_type": "execute_result"
    }
   ],
   "source": [
    "cellRangerParamsDt = config[\"Samples\"]\n",
    "cellRangerParamsDf = pd.DataFrame(cellRangerParamsDt).T.pipe(\n",
    "    lambda df: df.assign(id=df.index, outputDir=df.index)\n",
    ")\n",
    "cellRangerParamsDf = cellRangerParamsDf.pipe(\n",
    "    lambda df: df.assign(\n",
    "        bamFile = df.outputDir+ \"/\" + df.index  + \"/outs/possorted_genome_bam.bam\",\n",
    "        barcodeFile = df.outputDir+ \"/\" + df.index  + \"/outs/filtered_feature_bc_matrix/barcodes.tsv.gz\",\n",
    "        tenXResultDir = df.outputDir+ \"/\" + df.index\n",
    "    )\n",
    ")\n",
    "cellRangerParamsDf[\"cellRangerIndex\"] = config[\"cellRangerIndex\"]\n",
    "if 'sample' in cellRangerParamsDf.columns:\n",
    "    pass\n",
    "else:\n",
    "    cellRangerParamsDf['sample'] = False\n",
    "cellRangerParamsDf"
   ]
  },
  {
   "cell_type": "code",
   "execution_count": 34,
   "metadata": {},
   "outputs": [
    {
     "name": "stderr",
     "output_type": "stream",
     "text": [
      "2022-10-19 16:26:13.798 | INFO     | jpy_tools.parseSnake2:addRule:55 - cellRanger step num: 1\n",
      "2022-10-19 16:26:13.799 | WARNING  | jpy_tools.parseSnake2:addMetaDf:203 - please set `metaDf` if you want to record dataframe content in snakefile\n"
     ]
    },
    {
     "data": {
      "text/plain": [
       "\n",
       "## get parameter of rule `cellRanger` ##\n",
       "cellRangerParamsDt = config[\"Samples\"]\n",
       "cellRangerParamsDf = pd.DataFrame(cellRangerParamsDt).T.pipe(\n",
       "    lambda df: df.assign(id=df.index, outputDir=df.index)\n",
       ")\n",
       "cellRangerParamsDf = cellRangerParamsDf.pipe(\n",
       "    lambda df: df.assign(\n",
       "        bamFile = df.outputDir+ \"/\" + df.index  + \"/outs/possorted_genome_bam.bam\",\n",
       "        barcodeFile = df.outputDir+ \"/\" + df.index  + \"/outs/filtered_feature_bc_matrix/barcodes.tsv.gz\",\n",
       "        tenXResultDir = df.outputDir+ \"/\" + df.index\n",
       "    )\n",
       ")\n",
       "cellRangerParamsDf[\"cellRangerIndex\"] = config[\"cellRangerIndex\"]\n",
       "if 'sample' in cellRangerParamsDf.columns:\n",
       "    pass\n",
       "else:\n",
       "    cellRangerParamsDf['sample'] = False\n",
       "for column in ['outputDir', 'bamFile', 'barcodeFile', 'tenXResultDir']:\n",
       "    cellRangerParamsDf[column] = resultDir + 'step1_cellRanger/' + cellRangerParamsDf[column]\n",
       "----------------\n",
       "IN RULE\n",
       "----------------\n",
       "rule cellRanger:\n",
       "    input:\n",
       "        fastq = lambda wildcard: cellRangerParamsDf.at[wildcard.sample, 'fastq'],\n",
       "    output:\n",
       "        cellRangerFinished = resultDir + 'step1_cellRanger/' + '{sample}.finished',\n",
       "    params:\n",
       "        gpu = 0,\n",
       "        includeIntron = lambda wildcard: cellRangerParamsDf.at[wildcard.sample, 'includeIntron'],\n",
       "        expectCell = lambda wildcard: cellRangerParamsDf.at[wildcard.sample, 'expectCell'],\n",
       "        r2Length = lambda wildcard: cellRangerParamsDf.at[wildcard.sample, 'r2Length'],\n",
       "        id = lambda wildcard: cellRangerParamsDf.at[wildcard.sample, 'id'],\n",
       "        outputDir = lambda wildcard: cellRangerParamsDf.at[wildcard.sample, 'outputDir'],\n",
       "        cellRangerIndex = lambda wildcard: cellRangerParamsDf.at[wildcard.sample, 'cellRangerIndex'],\n",
       "        sample = lambda wildcard: cellRangerParamsDf.at[wildcard.sample, 'sample'],\n",
       "    threads:48\n",
       "    priority:0\n",
       "    shell:\n",
       "        \"\"\"\n",
       "mkdir -p {params.outputDir}\n",
       "cd {params.outputDir}\n",
       "cmd=\"cellranger6 count --id {params.id} --transcriptome {params.cellRangerIndex} --fastqs {input.fastq} --expect-cells {params.expectCell} --localcores {threads} --r2-length {params.r2Length}\"\n",
       "if [ {params.includeIntron} = True ]\n",
       "then\n",
       "    cmd=\"${{cmd}} --include-introns\"\n",
       "fi\n",
       "if [ {params.sample} != True ]\n",
       "then\n",
       "    cmd=\"${{cmd}} --sample {params.sample}\"\n",
       "fi\n",
       "echo $cmd\n",
       "eval $cmd\n",
       "touch {output.cellRangerFinished}\n",
       "touch {output.cellRangerFinished}\n",
       "        \"\"\""
      ]
     },
     "execution_count": 34,
     "metadata": {},
     "output_type": "execute_result"
    }
   ],
   "source": [
    "cellRangerRule = jps.SnakeRule(snakeFile, 'cellRanger', 48)\n",
    "cellRangerRule.addCode(\"\"\"\n",
    "cellRangerParamsDt = config[\"Samples\"]\n",
    "cellRangerParamsDf = pd.DataFrame(cellRangerParamsDt).T.pipe(\n",
    "    lambda df: df.assign(id=df.index, outputDir=df.index)\n",
    ")\n",
    "cellRangerParamsDf = cellRangerParamsDf.pipe(\n",
    "    lambda df: df.assign(\n",
    "        bamFile = df.outputDir+ \"/\" + df.index  + \"/outs/possorted_genome_bam.bam\",\n",
    "        barcodeFile = df.outputDir+ \"/\" + df.index  + \"/outs/filtered_feature_bc_matrix/barcodes.tsv.gz\",\n",
    "        tenXResultDir = df.outputDir+ \"/\" + df.index\n",
    "    )\n",
    ")\n",
    "cellRangerParamsDf[\"cellRangerIndex\"] = config[\"cellRangerIndex\"]\n",
    "if 'sample' in cellRangerParamsDf.columns:\n",
    "    pass\n",
    "else:\n",
    "    cellRangerParamsDf['sample'] = False\n",
    "\"\"\")\n",
    "cellRangerRule.addMetaDf('cellRangerParamsDf', ['outputDir', 'bamFile', 'barcodeFile', 'tenXResultDir'])\n",
    "cellRangerRule.addMain('input', ['fastq'], )\n",
    "cellRangerRule.addMain('params', ['includeIntron', 'expectCell', 'r2Length', 'id', 'outputDir','cellRangerIndex', 'sample'])\n",
    "cellRangerRule.setShell(\"\"\"\n",
    "mkdir -p {params.outputDir}\n",
    "cd {params.outputDir}\n",
    "cmd=\"cellranger6 count --id {params.id} --transcriptome {params.cellRangerIndex} --fastqs {input.fastq} --expect-cells {params.expectCell} --localcores {threads} --r2-length {params.r2Length}\"\n",
    "if [ {params.includeIntron} = True ]\n",
    "then\n",
    "    cmd=\"${{cmd}} --include-introns\"\n",
    "fi\n",
    "if [ {params.sample} != True ]\n",
    "then\n",
    "    cmd=\"${{cmd}} --sample {params.sample}\"\n",
    "fi\n",
    "echo $cmd\n",
    "eval $cmd\n",
    "touch {output.cellRangerFinished}\n",
    "\"\"\")\n",
    "cellRangerRule"
   ]
  },
  {
   "cell_type": "code",
   "execution_count": 35,
   "metadata": {},
   "outputs": [
    {
     "name": "stderr",
     "output_type": "stream",
     "text": [
      "2022-10-19 16:26:13.874 | INFO     | jpy_tools.parseSnake2:addRule:55 - parseUmiDr step num: 2\n",
      "2022-10-19 16:26:13.876 | WARNING  | jpy_tools.parseSnake2:addMetaDf:203 - please set `metaDf` if you want to record dataframe content in snakefile\n"
     ]
    },
    {
     "data": {
      "text/plain": [
       "\n",
       "## get parameter of rule `parseUmiDr` ##\n",
       "parseUmiDrParamsDf = pd.DataFrame(index=sampleLs)\n",
       "parseUmiDrParamsDf = parseUmiDrParamsDf.assign(output = lambda df:df.index + '_umiDr.tsv', bed = config['genomeBed'])\n",
       "for column in ['output']:\n",
       "    parseUmiDrParamsDf[column] = resultDir + 'step2_parseUmiDr/' + parseUmiDrParamsDf[column]\n",
       "----------------\n",
       "IN RULE\n",
       "----------------\n",
       "rule parseUmiDr:\n",
       "    input:\n",
       "        cellRangerFinished = resultDir + 'step1_cellRanger/' + '{sample}.finished',\n",
       "    output:\n",
       "        parseUmiDrFinished = resultDir + 'step2_parseUmiDr/' + '{sample}.finished',\n",
       "    params:\n",
       "        gpu = 0,\n",
       "        bamFile = lambda wildcard: cellRangerParamsDf.at[wildcard.sample, 'bamFile'],\n",
       "        barcodeFile = lambda wildcard: cellRangerParamsDf.at[wildcard.sample, 'barcodeFile'],\n",
       "        output = lambda wildcard: parseUmiDrParamsDf.at[wildcard.sample, 'output'],\n",
       "        bed = lambda wildcard: parseUmiDrParamsDf.at[wildcard.sample, 'bed'],\n",
       "    threads:12\n",
       "    priority:0\n",
       "    shell:\n",
       "        \"\"\"\n",
       "python ~/scripts/tools/singleCell/parseUmiDirectionFromCellrangerBam.py     -i {params.bamFile} -o {params.output} -t {threads} --bed {params.bed} --barcode {params.barcodeFile}\n",
       "touch {output.parseUmiDrFinished}\n",
       "        \"\"\""
      ]
     },
     "execution_count": 35,
     "metadata": {},
     "output_type": "execute_result"
    }
   ],
   "source": [
    "parseUmiDrRule = jps.SnakeRule(snakeFile, 'parseUmiDr', 12)\n",
    "parseUmiDrRule.addCode(\"\"\"\n",
    "parseUmiDrParamsDf = pd.DataFrame(index=sampleLs)\n",
    "parseUmiDrParamsDf = parseUmiDrParamsDf.assign(output = lambda df:df.index + '_umiDr.tsv', bed = config['genomeBed'])\n",
    "\"\"\")\n",
    "parseUmiDrRule.addMetaDf('parseUmiDrParamsDf', ['output'])\n",
    "parseUmiDrRule.addMain('params', ['bamFile', 'barcodeFile'], fromRule=cellRangerRule)\n",
    "parseUmiDrRule.addMain('params', ['output', 'bed'])\n",
    "parseUmiDrRule.setShell(\"\"\"\n",
    "\n",
    "python ~/scripts/tools/singleCell/parseUmiDirectionFromCellrangerBam.py \\\n",
    "    -i {params.bamFile} -o {params.output} -t {threads} --bed {params.bed} --barcode {params.barcodeFile}\n",
    "\"\"\")\n",
    "parseUmiDrRule"
   ]
  },
  {
   "cell_type": "code",
   "execution_count": 36,
   "metadata": {},
   "outputs": [
    {
     "name": "stderr",
     "output_type": "stream",
     "text": [
      "2022-10-19 16:26:14.042 | INFO     | jpy_tools.parseSnake2:addRule:55 - velocyto step num: 3\n",
      "2022-10-19 16:26:14.043 | WARNING  | jpy_tools.parseSnake2:addMetaDf:203 - please set `metaDf` if you want to record dataframe content in snakefile\n"
     ]
    },
    {
     "data": {
      "text/plain": [
       "\n",
       "## get parameter of rule `velocyto` ##\n",
       "velocytoParamsDf = pd.DataFrame(index=sampleLs)\n",
       "velocytoParamsDf = velocytoParamsDf.assign(gtf = config['cellRangerIndex'].rstrip('/') + '/genes/genes.gtf')\n",
       "----------------\n",
       "IN RULE\n",
       "----------------\n",
       "rule velocyto:\n",
       "    input:\n",
       "        cellRangerFinished = resultDir + 'step1_cellRanger/' + '{sample}.finished',\n",
       "    output:\n",
       "        velocytoFinished = resultDir + 'step3_velocyto/' + '{sample}.finished',\n",
       "    params:\n",
       "        gpu = 0,\n",
       "        tenXResultDir = lambda wildcard: cellRangerParamsDf.at[wildcard.sample, 'tenXResultDir'],\n",
       "        gtf = lambda wildcard: velocytoParamsDf.at[wildcard.sample, 'gtf'],\n",
       "    threads:12\n",
       "    priority:0\n",
       "    shell:\n",
       "        \"\"\"\n",
       "velocyto run10x -@ {threads} --samtools-memory 2048 {params.tenXResultDir} {params.gtf}\n",
       "touch {output.velocytoFinished}\n",
       "        \"\"\""
      ]
     },
     "execution_count": 36,
     "metadata": {},
     "output_type": "execute_result"
    }
   ],
   "source": [
    "velocytoRule = jps.SnakeRule(snakeFile, 'velocyto', 12)\n",
    "velocytoRule.addCode(\"\"\"\n",
    "velocytoParamsDf = pd.DataFrame(index=sampleLs)\n",
    "velocytoParamsDf = velocytoParamsDf.assign(gtf = config['cellRangerIndex'].rstrip('/') + '/genes/genes.gtf')\n",
    "\"\"\")\n",
    "velocytoRule.addMetaDf('velocytoParamsDf')\n",
    "velocytoRule.addMain('params', ['tenXResultDir'], fromRule=cellRangerRule)\n",
    "velocytoRule.addMain('params', ['gtf'])\n",
    "velocytoRule.setShell(\"\"\"\n",
    "velocyto run10x -@ {threads} --samtools-memory 2048 {params.tenXResultDir} {params.gtf}\n",
    "\"\"\")\n",
    "velocytoRule"
   ]
  },
  {
   "cell_type": "code",
   "execution_count": 37,
   "metadata": {},
   "outputs": [
    {
     "data": {
      "text/html": [
       "<div>\n",
       "<style scoped>\n",
       "    .dataframe tbody tr th:only-of-type {\n",
       "        vertical-align: middle;\n",
       "    }\n",
       "\n",
       "    .dataframe tbody tr th {\n",
       "        vertical-align: top;\n",
       "    }\n",
       "\n",
       "    .dataframe thead th {\n",
       "        text-align: right;\n",
       "    }\n",
       "</style>\n",
       "<table border=\"1\" class=\"dataframe\">\n",
       "  <thead>\n",
       "    <tr style=\"text-align: right;\">\n",
       "      <th></th>\n",
       "      <th>gtf</th>\n",
       "    </tr>\n",
       "  </thead>\n",
       "  <tbody>\n",
       "    <tr>\n",
       "      <th>artis_A3</th>\n",
       "      <td>/public/home/liuzj/data/singleCellRef/mm10_UCS...</td>\n",
       "    </tr>\n",
       "    <tr>\n",
       "      <th>artis_A4</th>\n",
       "      <td>/public/home/liuzj/data/singleCellRef/mm10_UCS...</td>\n",
       "    </tr>\n",
       "  </tbody>\n",
       "</table>\n",
       "</div>"
      ],
      "text/plain": [
       "                                                        gtf\n",
       "artis_A3  /public/home/liuzj/data/singleCellRef/mm10_UCS...\n",
       "artis_A4  /public/home/liuzj/data/singleCellRef/mm10_UCS..."
      ]
     },
     "execution_count": 37,
     "metadata": {},
     "output_type": "execute_result"
    }
   ],
   "source": [
    "velocytoParamsDf = pd.DataFrame(index=sampleLs)\n",
    "velocytoParamsDf.assign(gtf = config['cellRangerIndex'].rstrip('/') + '/genes/genes.gtf')"
   ]
  },
  {
   "cell_type": "code",
   "execution_count": 38,
   "metadata": {},
   "outputs": [
    {
     "data": {
      "text/plain": [
       "rule all:\n",
       "    input:\n",
       "        parseUmiDrFinished = [resultDir + 'step2_parseUmiDr/' + \"\" + sample + \".finished\" for sample in parseUmiDrParamsDf.index],\n",
       "        velocytoFinished = [resultDir + 'step3_velocyto/' + \"\" + sample + \".finished\" for sample in velocytoParamsDf.index],"
      ]
     },
     "execution_count": 38,
     "metadata": {},
     "output_type": "execute_result"
    }
   ],
   "source": [
    "snakeAll = jps.SnakeAll(snakeFile, parseUmiDrRule, velocytoRule)\n",
    "snakeAll"
   ]
  },
  {
   "cell_type": "code",
   "execution_count": 39,
   "metadata": {},
   "outputs": [
    {
     "name": "stdout",
     "output_type": "stream",
     "text": [
      "import pandas as pd\n",
      "#configfile: \"/public/home/liuzj/scripts/pipeline/10xAnalysis/snakemake/config.yaml\"\n",
      "pipelineDir = config['pipelineDir']\n",
      "resultDir = config[\"resultDir\"].rstrip(\"/\") + \"/\"\n",
      "pipelineDir = config[\"pipelineDir\"].rstrip(\"/\") + \"/\"\n",
      "sampleLs = list(config['Samples'].keys())\n",
      "\n",
      "## get parameter of rule `cellRanger` ##\n",
      "cellRangerParamsDt = config[\"Samples\"]\n",
      "cellRangerParamsDf = pd.DataFrame(cellRangerParamsDt).T.pipe(\n",
      "    lambda df: df.assign(id=df.index, outputDir=df.index)\n",
      ")\n",
      "cellRangerParamsDf = cellRangerParamsDf.pipe(\n",
      "    lambda df: df.assign(\n",
      "        bamFile = df.outputDir+ \"/\" + df.index  + \"/outs/possorted_genome_bam.bam\",\n",
      "        barcodeFile = df.outputDir+ \"/\" + df.index  + \"/outs/filtered_feature_bc_matrix/barcodes.tsv.gz\",\n",
      "        tenXResultDir = df.outputDir+ \"/\" + df.index\n",
      "    )\n",
      ")\n",
      "cellRangerParamsDf[\"cellRangerIndex\"] = config[\"cellRangerIndex\"]\n",
      "if 'sample' in cellRangerParamsDf.columns:\n",
      "    pass\n",
      "else:\n",
      "    cellRangerParamsDf['sample'] = False\n",
      "for column in ['outputDir', 'bamFile', 'barcodeFile', 'tenXResultDir']:\n",
      "    cellRangerParamsDf[column] = resultDir + 'step1_cellRanger/' + cellRangerParamsDf[column]\n",
      "\n",
      "\n",
      "## get parameter of rule `parseUmiDr` ##\n",
      "parseUmiDrParamsDf = pd.DataFrame(index=sampleLs)\n",
      "parseUmiDrParamsDf = parseUmiDrParamsDf.assign(output = lambda df:df.index + '_umiDr.tsv', bed = config['genomeBed'])\n",
      "for column in ['output']:\n",
      "    parseUmiDrParamsDf[column] = resultDir + 'step2_parseUmiDr/' + parseUmiDrParamsDf[column]\n",
      "\n",
      "\n",
      "## get parameter of rule `velocyto` ##\n",
      "velocytoParamsDf = pd.DataFrame(index=sampleLs)\n",
      "velocytoParamsDf = velocytoParamsDf.assign(gtf = config['cellRangerIndex'].rstrip('/') + '/genes/genes.gtf')\n",
      "\n",
      "rule all:\n",
      "    input:\n",
      "        parseUmiDrFinished = [resultDir + 'step2_parseUmiDr/' + \"\" + sample + \".finished\" for sample in parseUmiDrParamsDf.index],\n",
      "        velocytoFinished = [resultDir + 'step3_velocyto/' + \"\" + sample + \".finished\" for sample in velocytoParamsDf.index],\n",
      "\n",
      "rule cellRanger:\n",
      "    input:\n",
      "        fastq = lambda wildcard: cellRangerParamsDf.at[wildcard.sample, 'fastq'],\n",
      "    output:\n",
      "        cellRangerFinished = resultDir + 'step1_cellRanger/' + '{sample}.finished',\n",
      "    params:\n",
      "        gpu = 0,\n",
      "        includeIntron = lambda wildcard: cellRangerParamsDf.at[wildcard.sample, 'includeIntron'],\n",
      "        expectCell = lambda wildcard: cellRangerParamsDf.at[wildcard.sample, 'expectCell'],\n",
      "        r2Length = lambda wildcard: cellRangerParamsDf.at[wildcard.sample, 'r2Length'],\n",
      "        id = lambda wildcard: cellRangerParamsDf.at[wildcard.sample, 'id'],\n",
      "        outputDir = lambda wildcard: cellRangerParamsDf.at[wildcard.sample, 'outputDir'],\n",
      "        cellRangerIndex = lambda wildcard: cellRangerParamsDf.at[wildcard.sample, 'cellRangerIndex'],\n",
      "        sample = lambda wildcard: cellRangerParamsDf.at[wildcard.sample, 'sample'],\n",
      "    threads:48\n",
      "    priority:0\n",
      "    shell:\n",
      "        \"\"\"\n",
      "mkdir -p {params.outputDir}\n",
      "cd {params.outputDir}\n",
      "cmd=\"cellranger6 count --id {params.id} --transcriptome {params.cellRangerIndex} --fastqs {input.fastq} --expect-cells {params.expectCell} --localcores {threads} --r2-length {params.r2Length}\"\n",
      "if [ {params.includeIntron} = True ]\n",
      "then\n",
      "    cmd=\"${{cmd}} --include-introns\"\n",
      "fi\n",
      "if [ {params.sample} != True ]\n",
      "then\n",
      "    cmd=\"${{cmd}} --sample {params.sample}\"\n",
      "fi\n",
      "echo $cmd\n",
      "eval $cmd\n",
      "touch {output.cellRangerFinished}\n",
      "touch {output.cellRangerFinished}\n",
      "        \"\"\"\n",
      "\n",
      "rule parseUmiDr:\n",
      "    input:\n",
      "        cellRangerFinished = resultDir + 'step1_cellRanger/' + '{sample}.finished',\n",
      "    output:\n",
      "        parseUmiDrFinished = resultDir + 'step2_parseUmiDr/' + '{sample}.finished',\n",
      "    params:\n",
      "        gpu = 0,\n",
      "        bamFile = lambda wildcard: cellRangerParamsDf.at[wildcard.sample, 'bamFile'],\n",
      "        barcodeFile = lambda wildcard: cellRangerParamsDf.at[wildcard.sample, 'barcodeFile'],\n",
      "        output = lambda wildcard: parseUmiDrParamsDf.at[wildcard.sample, 'output'],\n",
      "        bed = lambda wildcard: parseUmiDrParamsDf.at[wildcard.sample, 'bed'],\n",
      "    threads:12\n",
      "    priority:0\n",
      "    shell:\n",
      "        \"\"\"\n",
      "python ~/scripts/tools/singleCell/parseUmiDirectionFromCellrangerBam.py     -i {params.bamFile} -o {params.output} -t {threads} --bed {params.bed} --barcode {params.barcodeFile}\n",
      "touch {output.parseUmiDrFinished}\n",
      "        \"\"\"\n",
      "\n",
      "rule velocyto:\n",
      "    input:\n",
      "        cellRangerFinished = resultDir + 'step1_cellRanger/' + '{sample}.finished',\n",
      "    output:\n",
      "        velocytoFinished = resultDir + 'step3_velocyto/' + '{sample}.finished',\n",
      "    params:\n",
      "        gpu = 0,\n",
      "        tenXResultDir = lambda wildcard: cellRangerParamsDf.at[wildcard.sample, 'tenXResultDir'],\n",
      "        gtf = lambda wildcard: velocytoParamsDf.at[wildcard.sample, 'gtf'],\n",
      "    threads:12\n",
      "    priority:0\n",
      "    shell:\n",
      "        \"\"\"\n",
      "velocyto run10x -@ {threads} --samtools-memory 2048 {params.tenXResultDir} {params.gtf}\n",
      "touch {output.velocytoFinished}\n",
      "        \"\"\"\n",
      "\n",
      "\n"
     ]
    }
   ],
   "source": [
    "snakeFile.getMain(snakemakeFilePath)"
   ]
  },
  {
   "cell_type": "code",
   "execution_count": null,
   "metadata": {},
   "outputs": [],
   "source": []
  },
  {
   "cell_type": "code",
   "execution_count": null,
   "metadata": {},
   "outputs": [],
   "source": []
  }
 ],
 "metadata": {
  "kernelspec": {
   "display_name": "Python 3.8.13 ('sc_py')",
   "language": "python",
   "name": "python3"
  },
  "language_info": {
   "codemirror_mode": {
    "name": "ipython",
    "version": 3
   },
   "file_extension": ".py",
   "mimetype": "text/x-python",
   "name": "python",
   "nbconvert_exporter": "python",
   "pygments_lexer": "ipython3",
   "version": "3.8.13"
  },
  "toc": {
   "base_numbering": 1,
   "nav_menu": {},
   "number_sections": true,
   "sideBar": true,
   "skip_h1_title": false,
   "title_cell": "Table of Contents",
   "title_sidebar": "Contents",
   "toc_cell": false,
   "toc_position": {},
   "toc_section_display": true,
   "toc_window_display": false
  },
  "varInspector": {
   "cols": {
    "lenName": 16,
    "lenType": 16,
    "lenVar": 40
   },
   "kernels_config": {
    "python": {
     "delete_cmd_postfix": "",
     "delete_cmd_prefix": "del ",
     "library": "var_list.py",
     "varRefreshCmd": "print(var_dic_list())"
    },
    "r": {
     "delete_cmd_postfix": ") ",
     "delete_cmd_prefix": "rm(",
     "library": "var_list.r",
     "varRefreshCmd": "cat(var_dic_list()) "
    }
   },
   "types_to_exclude": [
    "module",
    "function",
    "builtin_function_or_method",
    "instance",
    "_Feature"
   ],
   "window_display": false
  },
  "vscode": {
   "interpreter": {
    "hash": "5166c4e5a33ca604fb3646f453e1bac224cc1b62660099e04fee02aacb4dd089"
   }
  }
 },
 "nbformat": 4,
 "nbformat_minor": 2
}
