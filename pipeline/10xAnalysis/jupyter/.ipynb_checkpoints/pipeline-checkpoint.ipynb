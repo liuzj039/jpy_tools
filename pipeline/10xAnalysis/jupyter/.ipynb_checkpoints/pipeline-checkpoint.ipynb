{
 "cells": [
  {
   "cell_type": "code",
   "execution_count": 42,
   "metadata": {},
   "outputs": [],
   "source": [
    "import pandas as pd\n",
    "import jpy_tools.parseSnake2 as jps"
   ]
  },
  {
   "cell_type": "code",
   "execution_count": 43,
   "metadata": {},
   "outputs": [],
   "source": [
    "configPath = '/public/home/liuzj/scripts/pipeline/10xAnalysis/snakemake/config.yaml'\n",
    "snakemakeFilePath = '/public/home/liuzj/scripts/pipeline/10xAnalysis/snakemake/snakefile'"
   ]
  },
  {
   "cell_type": "code",
   "execution_count": 44,
   "metadata": {},
   "outputs": [],
   "source": [
    "snakeFile = jps.SnakeFile()"
   ]
  },
  {
   "cell_type": "code",
   "execution_count": 45,
   "metadata": {},
   "outputs": [
    {
     "name": "stderr",
     "output_type": "stream",
     "text": [
      "/public/home/liuzj/softwares/anaconda3/lib/python3.8/site-packages/jpy_tools/parseSnake2.py:93: YAMLLoadWarning: calling yaml.load() without Loader=... is deprecated, as the default Loader is unsafe. Please read https://msg.pyyaml.org/load for full details.\n",
      "  self.yaml = yaml.load(open(self.path))\n"
     ]
    },
    {
     "data": {
      "text/plain": [
       "import pandas as pd\n",
       "#configfile: \"/public/home/liuzj/scripts/pipeline/10xAnalysis/snakemake/config.yaml\"\n",
       "pipelineDir = config['pipelineDir']\n",
       "resultDir = config[\"resultDir\"].rstrip(\"/\") + \"/\"\n",
       "pipelineDir = config[\"pipelineDir\"].rstrip(\"/\") + \"/\"\n",
       "sampleLs = list(config['Samples'].keys())"
      ]
     },
     "execution_count": 45,
     "metadata": {},
     "output_type": "execute_result"
    }
   ],
   "source": [
    "snakeHeader = jps.SnakeHeader(snakeFile, configPath)\n",
    "snakeHeader.addCode(\"sampleLs = list(config['Samples'].keys())\")\n",
    "config = snakeHeader.getConfig()\n",
    "snakeHeader"
   ]
  },
  {
   "cell_type": "code",
   "execution_count": 46,
   "metadata": {},
   "outputs": [],
   "source": [
    "pipelineDir = config['pipelineDir']\n",
    "resultDir = config[\"resultDir\"].rstrip(\"/\") + \"/\"\n",
    "pipelineDir = config[\"pipelineDir\"].rstrip(\"/\") + \"/\"\n",
    "sampleLs = list(config['Samples'].keys())"
   ]
  },
  {
   "cell_type": "code",
   "execution_count": 47,
   "metadata": {},
   "outputs": [
    {
     "name": "stderr",
     "output_type": "stream",
     "text": [
      "2021-06-01 20:42:21.808 | INFO     | jpy_tools.parseSnake2:addRule:55 - cellRanger step num: 1\n"
     ]
    },
    {
     "data": {
      "text/plain": [
       "cellRangerParamsDt = config[\"Samples\"]\n",
       "cellRangerParamsDf = pd.DataFrame(cellRangerParamsDt).T.pipe(\n",
       "    lambda df: df.assign(id=df.index, outputDir=df.index)\n",
       ")\n",
       "cellRangerParamsDf = cellRangerParamsDf.pipe(\n",
       "    lambda df: df.assign(\n",
       "        bamFile = df.outputDir+ \"/\" + df.index  + \"/outs/possorted_genome_bam.bam\",\n",
       "        barcodeFile = df.outputDir+ \"/\" + df.index  + \"/outs/filtered_feature_bc_matrix/barcodes.tsv.gz\",\n",
       "        tenXResultDir = df.outputDir+ \"/\" + df.index\n",
       "    )\n",
       ")\n",
       "cellRangerParamsDf[\"cellRangerIndex\"] = config[\"cellRangerIndex\"]\n",
       "for column in ['outputDir', 'bamFile', 'barcodeFile', 'tenXResultDir']:\n",
       "    cellRangerParamsDf[column] = resultDir + 'step1_cellRanger/' + cellRangerParamsDf[column]\n",
       "----------------\n",
       "IN RULE\n",
       "----------------\n",
       "rule cellRanger:\n",
       "    input:\n",
       "        fastq = lambda wildcard: cellRangerParamsDf.at[wildcard.sample, 'fastq'],\n",
       "    output:\n",
       "        cellRangerFinished = resultDir + 'step1_cellRanger/' + '{sample}.finished',\n",
       "    params:\n",
       "        gpu = 0,\n",
       "        includeIntron = lambda wildcard: cellRangerParamsDf.at[wildcard.sample, 'includeIntron'],\n",
       "        expectCell = lambda wildcard: cellRangerParamsDf.at[wildcard.sample, 'expectCell'],\n",
       "        r2Length = lambda wildcard: cellRangerParamsDf.at[wildcard.sample, 'r2Length'],\n",
       "        id = lambda wildcard: cellRangerParamsDf.at[wildcard.sample, 'id'],\n",
       "        outputDir = lambda wildcard: cellRangerParamsDf.at[wildcard.sample, 'outputDir'],\n",
       "        cellRangerIndex = lambda wildcard: cellRangerParamsDf.at[wildcard.sample, 'cellRangerIndex'],\n",
       "    threads:48\n",
       "    shell:\n",
       "        \"\"\"\n",
       "mkdir -p {params.outputDir}\n",
       "cd {params.outputDir}\n",
       "if [ {params.includeIntron} = True ]\n",
       "then\n",
       "    cellranger6 count --id {params.id} --include-introns --transcriptome {params.cellRangerIndex} --fastqs {input.fastq} --expect-cells {params.expectCell} --localcores {threads} --r2-length {params.r2Length}\n",
       "else\n",
       "    cellranger6 count --id {params.id} --transcriptome {params.cellRangerIndex} --fastqs {input.fastq} --expect-cells {params.expectCell} --localcores {threads} --r2-length {params.r2Length}\n",
       "fi\n",
       "touch {output.cellRangerFinished}\n",
       "        \"\"\""
      ]
     },
     "execution_count": 47,
     "metadata": {},
     "output_type": "execute_result"
    }
   ],
   "source": [
    "cellRangerRule = jps.SnakeRule(snakeFile, 'cellRanger', 48)\n",
    "cellRangerRule.addCode(\"\"\"\n",
    "cellRangerParamsDt = config[\"Samples\"]\n",
    "cellRangerParamsDf = pd.DataFrame(cellRangerParamsDt).T.pipe(\n",
    "    lambda df: df.assign(id=df.index, outputDir=df.index)\n",
    ")\n",
    "cellRangerParamsDf = cellRangerParamsDf.pipe(\n",
    "    lambda df: df.assign(\n",
    "        bamFile = df.outputDir+ \"/\" + df.index  + \"/outs/possorted_genome_bam.bam\",\n",
    "        barcodeFile = df.outputDir+ \"/\" + df.index  + \"/outs/filtered_feature_bc_matrix/barcodes.tsv.gz\",\n",
    "        tenXResultDir = df.outputDir+ \"/\" + df.index\n",
    "    )\n",
    ")\n",
    "cellRangerParamsDf[\"cellRangerIndex\"] = config[\"cellRangerIndex\"]\n",
    "\"\"\")\n",
    "cellRangerRule.addMetaDf('cellRangerParamsDf', ['outputDir', 'bamFile', 'barcodeFile', 'tenXResultDir'])\n",
    "cellRangerRule.addMain('input', ['fastq'], )\n",
    "cellRangerRule.addMain('params', ['includeIntron', 'expectCell', 'r2Length', 'id', 'outputDir','cellRangerIndex'])\n",
    "cellRangerRule.setShell(\"\"\"\n",
    "mkdir -p {params.outputDir}\n",
    "cd {params.outputDir}\n",
    "if [ {params.includeIntron} = True ]\n",
    "then\n",
    "    cellranger6 count --id {params.id} --include-introns --transcriptome {params.cellRangerIndex} --fastqs {input.fastq} --expect-cells {params.expectCell} --localcores {threads} --r2-length {params.r2Length}\n",
    "else\n",
    "    cellranger6 count --id {params.id} --transcriptome {params.cellRangerIndex} --fastqs {input.fastq} --expect-cells {params.expectCell} --localcores {threads} --r2-length {params.r2Length}\n",
    "fi\n",
    "\"\"\")\n",
    "cellRangerRule"
   ]
  },
  {
   "cell_type": "code",
   "execution_count": 48,
   "metadata": {},
   "outputs": [
    {
     "data": {
      "text/html": [
       "<div>\n",
       "<style scoped>\n",
       "    .dataframe tbody tr th:only-of-type {\n",
       "        vertical-align: middle;\n",
       "    }\n",
       "\n",
       "    .dataframe tbody tr th {\n",
       "        vertical-align: top;\n",
       "    }\n",
       "\n",
       "    .dataframe thead th {\n",
       "        text-align: right;\n",
       "    }\n",
       "</style>\n",
       "<table border=\"1\" class=\"dataframe\">\n",
       "  <thead>\n",
       "    <tr style=\"text-align: right;\">\n",
       "      <th></th>\n",
       "      <th>fastq</th>\n",
       "      <th>includeIntron</th>\n",
       "      <th>expectCell</th>\n",
       "      <th>r2Length</th>\n",
       "      <th>id</th>\n",
       "      <th>outputDir</th>\n",
       "      <th>bamFile</th>\n",
       "      <th>barcodeFile</th>\n",
       "      <th>tenXResultDir</th>\n",
       "      <th>cellRangerIndex</th>\n",
       "    </tr>\n",
       "  </thead>\n",
       "  <tbody>\n",
       "    <tr>\n",
       "      <th>artis_A3</th>\n",
       "      <td>/public/home/liuzj/projects/singleCell/singleC...</td>\n",
       "      <td>True</td>\n",
       "      <td>5000</td>\n",
       "      <td>91</td>\n",
       "      <td>artis_A3</td>\n",
       "      <td>artis_A3</td>\n",
       "      <td>artis_A3/artis_A3/outs/possorted_genome_bam.bam</td>\n",
       "      <td>artis_A3/artis_A3/outs/filtered_feature_bc_mat...</td>\n",
       "      <td>artis_A3/artis_A3</td>\n",
       "      <td>/public/home/liuzj/data/singleCellRef/mm10_UCS...</td>\n",
       "    </tr>\n",
       "    <tr>\n",
       "      <th>artis_A4</th>\n",
       "      <td>/public/home/liuzj/projects/singleCell/singleC...</td>\n",
       "      <td>True</td>\n",
       "      <td>5000</td>\n",
       "      <td>91</td>\n",
       "      <td>artis_A4</td>\n",
       "      <td>artis_A4</td>\n",
       "      <td>artis_A4/artis_A4/outs/possorted_genome_bam.bam</td>\n",
       "      <td>artis_A4/artis_A4/outs/filtered_feature_bc_mat...</td>\n",
       "      <td>artis_A4/artis_A4</td>\n",
       "      <td>/public/home/liuzj/data/singleCellRef/mm10_UCS...</td>\n",
       "    </tr>\n",
       "  </tbody>\n",
       "</table>\n",
       "</div>"
      ],
      "text/plain": [
       "                                                      fastq includeIntron  \\\n",
       "artis_A3  /public/home/liuzj/projects/singleCell/singleC...          True   \n",
       "artis_A4  /public/home/liuzj/projects/singleCell/singleC...          True   \n",
       "\n",
       "         expectCell r2Length        id outputDir  \\\n",
       "artis_A3       5000       91  artis_A3  artis_A3   \n",
       "artis_A4       5000       91  artis_A4  artis_A4   \n",
       "\n",
       "                                                  bamFile  \\\n",
       "artis_A3  artis_A3/artis_A3/outs/possorted_genome_bam.bam   \n",
       "artis_A4  artis_A4/artis_A4/outs/possorted_genome_bam.bam   \n",
       "\n",
       "                                                barcodeFile  \\\n",
       "artis_A3  artis_A3/artis_A3/outs/filtered_feature_bc_mat...   \n",
       "artis_A4  artis_A4/artis_A4/outs/filtered_feature_bc_mat...   \n",
       "\n",
       "              tenXResultDir                                    cellRangerIndex  \n",
       "artis_A3  artis_A3/artis_A3  /public/home/liuzj/data/singleCellRef/mm10_UCS...  \n",
       "artis_A4  artis_A4/artis_A4  /public/home/liuzj/data/singleCellRef/mm10_UCS...  "
      ]
     },
     "execution_count": 48,
     "metadata": {},
     "output_type": "execute_result"
    }
   ],
   "source": [
    "cellRangerParamsDt = config[\"Samples\"]\n",
    "cellRangerParamsDf = pd.DataFrame(cellRangerParamsDt).T.pipe(\n",
    "    lambda df: df.assign(id=df.index, outputDir=df.index)\n",
    ")\n",
    "cellRangerParamsDf = cellRangerParamsDf.pipe(\n",
    "    lambda df: df.assign(\n",
    "        bamFile = df.outputDir+ \"/\" + df.index  + \"/outs/possorted_genome_bam.bam\",\n",
    "        barcodeFile = df.outputDir+ \"/\" + df.index  + \"/outs/filtered_feature_bc_matrix/barcodes.tsv.gz\",\n",
    "        tenXResultDir = df.outputDir+ \"/\" + df.index\n",
    "    )\n",
    ")\n",
    "cellRangerParamsDf[\"cellRangerIndex\"] = config[\"cellRangerIndex\"]\n",
    "cellRangerParamsDf"
   ]
  },
  {
   "cell_type": "code",
   "execution_count": 49,
   "metadata": {},
   "outputs": [
    {
     "name": "stderr",
     "output_type": "stream",
     "text": [
      "2021-06-01 20:42:22.534 | INFO     | jpy_tools.parseSnake2:addRule:55 - parseUmiDr step num: 2\n"
     ]
    },
    {
     "data": {
      "text/plain": [
       "parseUmiDrParamsDf = pd.DataFrame(index=sampleLs)\n",
       "parseUmiDrParamsDf = parseUmiDrParamsDf.assign(output = lambda df:df.index + '_umiDr.tsv', bed = config['genomeBed'])\n",
       "for column in ['output']:\n",
       "    parseUmiDrParamsDf[column] = resultDir + 'step2_parseUmiDr/' + parseUmiDrParamsDf[column]\n",
       "----------------\n",
       "IN RULE\n",
       "----------------\n",
       "rule parseUmiDr:\n",
       "    input:\n",
       "        cellRangerFinished = resultDir + 'step1_cellRanger/' + '{sample}.finished',\n",
       "    output:\n",
       "        parseUmiDrFinished = resultDir + 'step2_parseUmiDr/' + '{sample}.finished',\n",
       "    params:\n",
       "        gpu = 0,\n",
       "        bamFile = lambda wildcard: cellRangerParamsDf.at[wildcard.sample, 'bamFile'],\n",
       "        barcodeFile = lambda wildcard: cellRangerParamsDf.at[wildcard.sample, 'barcodeFile'],\n",
       "        output = lambda wildcard: parseUmiDrParamsDf.at[wildcard.sample, 'output'],\n",
       "        bed = lambda wildcard: parseUmiDrParamsDf.at[wildcard.sample, 'bed'],\n",
       "    threads:12\n",
       "    shell:\n",
       "        \"\"\"\n",
       "python ~/scripts/tools/singleCell/parseUmiDirectionFromCellrangerBam.py     -i {params.bamFile} -o {params.output} -t {threads} --bed {params.bed} --barcode {params.barcodeFile}\n",
       "touch {output.parseUmiDrFinished}\n",
       "        \"\"\""
      ]
     },
     "execution_count": 49,
     "metadata": {},
     "output_type": "execute_result"
    }
   ],
   "source": [
    "parseUmiDrRule = jps.SnakeRule(snakeFile, 'parseUmiDr', 12)\n",
    "parseUmiDrRule.addCode(\"\"\"\n",
    "parseUmiDrParamsDf = pd.DataFrame(index=sampleLs)\n",
    "parseUmiDrParamsDf = parseUmiDrParamsDf.assign(output = lambda df:df.index + '_umiDr.tsv', bed = config['genomeBed'])\n",
    "\"\"\")\n",
    "parseUmiDrRule.addMetaDf('parseUmiDrParamsDf', ['output'])\n",
    "parseUmiDrRule.addMain('params', ['bamFile', 'barcodeFile'], fromRule=cellRangerRule)\n",
    "parseUmiDrRule.addMain('params', ['output', 'bed'])\n",
    "parseUmiDrRule.setShell(\"\"\"\n",
    "\n",
    "python ~/scripts/tools/singleCell/parseUmiDirectionFromCellrangerBam.py \\\n",
    "    -i {params.bamFile} -o {params.output} -t {threads} --bed {params.bed} --barcode {params.barcodeFile}\n",
    "\"\"\")\n",
    "parseUmiDrRule"
   ]
  },
  {
   "cell_type": "code",
   "execution_count": 50,
   "metadata": {},
   "outputs": [
    {
     "name": "stderr",
     "output_type": "stream",
     "text": [
      "2021-06-01 20:42:22.651 | INFO     | jpy_tools.parseSnake2:addRule:55 - velocyto step num: 3\n"
     ]
    },
    {
     "data": {
      "text/plain": [
       "velocytoParamsDf = pd.DataFrame(index=sampleLs)\n",
       "velocytoParamsDf = velocytoParamsDf.assign(gtf = config['cellRangerIndex'].rstrip('/') + '/genes/genes.gtf')\n",
       "----------------\n",
       "IN RULE\n",
       "----------------\n",
       "rule velocyto:\n",
       "    input:\n",
       "        cellRangerFinished = resultDir + 'step1_cellRanger/' + '{sample}.finished',\n",
       "    output:\n",
       "        velocytoFinished = resultDir + 'step3_velocyto/' + '{sample}.finished',\n",
       "    params:\n",
       "        gpu = 0,\n",
       "        tenXResultDir = lambda wildcard: cellRangerParamsDf.at[wildcard.sample, 'tenXResultDir'],\n",
       "        gtf = lambda wildcard: velocytoParamsDf.at[wildcard.sample, 'gtf'],\n",
       "    threads:12\n",
       "    shell:\n",
       "        \"\"\"\n",
       "velocyto run10x -@ {threads} --samtools-memory 2048 {params.tenXResultDir} {params.gtf}\n",
       "touch {output.velocytoFinished}\n",
       "        \"\"\""
      ]
     },
     "execution_count": 50,
     "metadata": {},
     "output_type": "execute_result"
    }
   ],
   "source": [
    "velocytoRule = jps.SnakeRule(snakeFile, 'velocyto', 12)\n",
    "velocytoRule.addCode(\"\"\"\n",
    "velocytoParamsDf = pd.DataFrame(index=sampleLs)\n",
    "velocytoParamsDf = velocytoParamsDf.assign(gtf = config['cellRangerIndex'].rstrip('/') + '/genes/genes.gtf')\n",
    "\"\"\")\n",
    "velocytoRule.addMetaDf('velocytoParamsDf')\n",
    "velocytoRule.addMain('params', ['tenXResultDir'], fromRule=cellRangerRule)\n",
    "velocytoRule.addMain('params', ['gtf'])\n",
    "velocytoRule.setShell(\"\"\"\n",
    "velocyto run10x -@ {threads} --samtools-memory 2048 {params.tenXResultDir} {params.gtf}\n",
    "\"\"\")\n",
    "velocytoRule"
   ]
  },
  {
   "cell_type": "code",
   "execution_count": 51,
   "metadata": {},
   "outputs": [
    {
     "data": {
      "text/html": [
       "<div>\n",
       "<style scoped>\n",
       "    .dataframe tbody tr th:only-of-type {\n",
       "        vertical-align: middle;\n",
       "    }\n",
       "\n",
       "    .dataframe tbody tr th {\n",
       "        vertical-align: top;\n",
       "    }\n",
       "\n",
       "    .dataframe thead th {\n",
       "        text-align: right;\n",
       "    }\n",
       "</style>\n",
       "<table border=\"1\" class=\"dataframe\">\n",
       "  <thead>\n",
       "    <tr style=\"text-align: right;\">\n",
       "      <th></th>\n",
       "      <th>gtf</th>\n",
       "    </tr>\n",
       "  </thead>\n",
       "  <tbody>\n",
       "    <tr>\n",
       "      <th>artis_A3</th>\n",
       "      <td>/public/home/liuzj/data/singleCellRef/mm10_UCS...</td>\n",
       "    </tr>\n",
       "    <tr>\n",
       "      <th>artis_A4</th>\n",
       "      <td>/public/home/liuzj/data/singleCellRef/mm10_UCS...</td>\n",
       "    </tr>\n",
       "  </tbody>\n",
       "</table>\n",
       "</div>"
      ],
      "text/plain": [
       "                                                        gtf\n",
       "artis_A3  /public/home/liuzj/data/singleCellRef/mm10_UCS...\n",
       "artis_A4  /public/home/liuzj/data/singleCellRef/mm10_UCS..."
      ]
     },
     "execution_count": 51,
     "metadata": {},
     "output_type": "execute_result"
    }
   ],
   "source": [
    "velocytoParamsDf = pd.DataFrame(index=sampleLs)\n",
    "velocytoParamsDf.assign(gtf = config['cellRangerIndex'].rstrip('/') + '/genes/genes.gtf')"
   ]
  },
  {
   "cell_type": "code",
   "execution_count": 52,
   "metadata": {},
   "outputs": [
    {
     "data": {
      "text/plain": [
       "rule all:\n",
       "    input:\n",
       "        parseUmiDrFinished = [resultDir + 'step2_parseUmiDr/' + \"\" + sample + \".finished\" for sample in sampleLs],\n",
       "        velocytoFinished = [resultDir + 'step3_velocyto/' + \"\" + sample + \".finished\" for sample in sampleLs],"
      ]
     },
     "execution_count": 52,
     "metadata": {},
     "output_type": "execute_result"
    }
   ],
   "source": [
    "snakeAll = jps.SnakeAll(snakeFile, parseUmiDrRule, velocytoRule)\n",
    "snakeAll"
   ]
  },
  {
   "cell_type": "code",
   "execution_count": 53,
   "metadata": {},
   "outputs": [
    {
     "name": "stdout",
     "output_type": "stream",
     "text": [
      "import pandas as pd\n",
      "#configfile: \"/public/home/liuzj/scripts/pipeline/10xAnalysis/snakemake/config.yaml\"\n",
      "pipelineDir = config['pipelineDir']\n",
      "resultDir = config[\"resultDir\"].rstrip(\"/\") + \"/\"\n",
      "pipelineDir = config[\"pipelineDir\"].rstrip(\"/\") + \"/\"\n",
      "sampleLs = list(config['Samples'].keys())\n",
      "cellRangerParamsDt = config[\"Samples\"]\n",
      "cellRangerParamsDf = pd.DataFrame(cellRangerParamsDt).T.pipe(\n",
      "    lambda df: df.assign(id=df.index, outputDir=df.index)\n",
      ")\n",
      "cellRangerParamsDf = cellRangerParamsDf.pipe(\n",
      "    lambda df: df.assign(\n",
      "        bamFile = df.outputDir+ \"/\" + df.index  + \"/outs/possorted_genome_bam.bam\",\n",
      "        barcodeFile = df.outputDir+ \"/\" + df.index  + \"/outs/filtered_feature_bc_matrix/barcodes.tsv.gz\",\n",
      "        tenXResultDir = df.outputDir+ \"/\" + df.index\n",
      "    )\n",
      ")\n",
      "cellRangerParamsDf[\"cellRangerIndex\"] = config[\"cellRangerIndex\"]\n",
      "for column in ['outputDir', 'bamFile', 'barcodeFile', 'tenXResultDir']:\n",
      "    cellRangerParamsDf[column] = resultDir + 'step1_cellRanger/' + cellRangerParamsDf[column]\n",
      "\n",
      "parseUmiDrParamsDf = pd.DataFrame(index=sampleLs)\n",
      "parseUmiDrParamsDf = parseUmiDrParamsDf.assign(output = lambda df:df.index + '_umiDr.tsv', bed = config['genomeBed'])\n",
      "for column in ['output']:\n",
      "    parseUmiDrParamsDf[column] = resultDir + 'step2_parseUmiDr/' + parseUmiDrParamsDf[column]\n",
      "\n",
      "velocytoParamsDf = pd.DataFrame(index=sampleLs)\n",
      "velocytoParamsDf = velocytoParamsDf.assign(gtf = config['cellRangerIndex'].rstrip('/') + '/genes/genes.gtf')\n",
      "\n",
      "rule all:\n",
      "    input:\n",
      "        parseUmiDrFinished = [resultDir + 'step2_parseUmiDr/' + \"\" + sample + \".finished\" for sample in sampleLs],\n",
      "        velocytoFinished = [resultDir + 'step3_velocyto/' + \"\" + sample + \".finished\" for sample in sampleLs],\n",
      "\n",
      "rule cellRanger:\n",
      "    input:\n",
      "        fastq = lambda wildcard: cellRangerParamsDf.at[wildcard.sample, 'fastq'],\n",
      "    output:\n",
      "        cellRangerFinished = resultDir + 'step1_cellRanger/' + '{sample}.finished',\n",
      "    params:\n",
      "        gpu = 0,\n",
      "        includeIntron = lambda wildcard: cellRangerParamsDf.at[wildcard.sample, 'includeIntron'],\n",
      "        expectCell = lambda wildcard: cellRangerParamsDf.at[wildcard.sample, 'expectCell'],\n",
      "        r2Length = lambda wildcard: cellRangerParamsDf.at[wildcard.sample, 'r2Length'],\n",
      "        id = lambda wildcard: cellRangerParamsDf.at[wildcard.sample, 'id'],\n",
      "        outputDir = lambda wildcard: cellRangerParamsDf.at[wildcard.sample, 'outputDir'],\n",
      "        cellRangerIndex = lambda wildcard: cellRangerParamsDf.at[wildcard.sample, 'cellRangerIndex'],\n",
      "    threads:48\n",
      "    shell:\n",
      "        \"\"\"\n",
      "mkdir -p {params.outputDir}\n",
      "cd {params.outputDir}\n",
      "if [ {params.includeIntron} = True ]\n",
      "then\n",
      "    cellranger6 count --id {params.id} --include-introns --transcriptome {params.cellRangerIndex} --fastqs {input.fastq} --expect-cells {params.expectCell} --localcores {threads} --r2-length {params.r2Length}\n",
      "else\n",
      "    cellranger6 count --id {params.id} --transcriptome {params.cellRangerIndex} --fastqs {input.fastq} --expect-cells {params.expectCell} --localcores {threads} --r2-length {params.r2Length}\n",
      "fi\n",
      "touch {output.cellRangerFinished}\n",
      "        \"\"\"\n",
      "\n",
      "rule parseUmiDr:\n",
      "    input:\n",
      "        cellRangerFinished = resultDir + 'step1_cellRanger/' + '{sample}.finished',\n",
      "    output:\n",
      "        parseUmiDrFinished = resultDir + 'step2_parseUmiDr/' + '{sample}.finished',\n",
      "    params:\n",
      "        gpu = 0,\n",
      "        bamFile = lambda wildcard: cellRangerParamsDf.at[wildcard.sample, 'bamFile'],\n",
      "        barcodeFile = lambda wildcard: cellRangerParamsDf.at[wildcard.sample, 'barcodeFile'],\n",
      "        output = lambda wildcard: parseUmiDrParamsDf.at[wildcard.sample, 'output'],\n",
      "        bed = lambda wildcard: parseUmiDrParamsDf.at[wildcard.sample, 'bed'],\n",
      "    threads:12\n",
      "    shell:\n",
      "        \"\"\"\n",
      "python ~/scripts/tools/singleCell/parseUmiDirectionFromCellrangerBam.py     -i {params.bamFile} -o {params.output} -t {threads} --bed {params.bed} --barcode {params.barcodeFile}\n",
      "touch {output.parseUmiDrFinished}\n",
      "        \"\"\"\n",
      "\n",
      "rule velocyto:\n",
      "    input:\n",
      "        cellRangerFinished = resultDir + 'step1_cellRanger/' + '{sample}.finished',\n",
      "    output:\n",
      "        velocytoFinished = resultDir + 'step3_velocyto/' + '{sample}.finished',\n",
      "    params:\n",
      "        gpu = 0,\n",
      "        tenXResultDir = lambda wildcard: cellRangerParamsDf.at[wildcard.sample, 'tenXResultDir'],\n",
      "        gtf = lambda wildcard: velocytoParamsDf.at[wildcard.sample, 'gtf'],\n",
      "    threads:12\n",
      "    shell:\n",
      "        \"\"\"\n",
      "velocyto run10x -@ {threads} --samtools-memory 2048 {params.tenXResultDir} {params.gtf}\n",
      "touch {output.velocytoFinished}\n",
      "        \"\"\"\n",
      "\n",
      "\n"
     ]
    }
   ],
   "source": [
    "snakeFile.getMain(snakemakeFilePath)"
   ]
  },
  {
   "cell_type": "code",
   "execution_count": null,
   "metadata": {},
   "outputs": [],
   "source": []
  },
  {
   "cell_type": "code",
   "execution_count": null,
   "metadata": {},
   "outputs": [],
   "source": []
  }
 ],
 "metadata": {
  "interpreter": {
   "hash": "ae9efb5ead58f53b1bb672b9781db4cd40887b0d0d4abebec673ddf3dda01809"
  },
  "kernelspec": {
   "display_name": "Python 3",
   "language": "python",
   "name": "python3"
  },
  "language_info": {
   "codemirror_mode": {
    "name": "ipython",
    "version": 3
   },
   "file_extension": ".py",
   "mimetype": "text/x-python",
   "name": "python",
   "nbconvert_exporter": "python",
   "pygments_lexer": "ipython3",
   "version": "3.8.10"
  },
  "toc": {
   "base_numbering": 1,
   "nav_menu": {},
   "number_sections": true,
   "sideBar": true,
   "skip_h1_title": false,
   "title_cell": "Table of Contents",
   "title_sidebar": "Contents",
   "toc_cell": false,
   "toc_position": {},
   "toc_section_display": true,
   "toc_window_display": false
  },
  "varInspector": {
   "cols": {
    "lenName": 16,
    "lenType": 16,
    "lenVar": 40
   },
   "kernels_config": {
    "python": {
     "delete_cmd_postfix": "",
     "delete_cmd_prefix": "del ",
     "library": "var_list.py",
     "varRefreshCmd": "print(var_dic_list())"
    },
    "r": {
     "delete_cmd_postfix": ") ",
     "delete_cmd_prefix": "rm(",
     "library": "var_list.r",
     "varRefreshCmd": "cat(var_dic_list()) "
    }
   },
   "types_to_exclude": [
    "module",
    "function",
    "builtin_function_or_method",
    "instance",
    "_Feature"
   ],
   "window_display": false
  }
 },
 "nbformat": 4,
 "nbformat_minor": 2
}
