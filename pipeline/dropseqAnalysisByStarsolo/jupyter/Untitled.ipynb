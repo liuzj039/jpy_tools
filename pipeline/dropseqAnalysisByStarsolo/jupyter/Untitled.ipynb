{
 "cells": [
  {
   "cell_type": "code",
   "execution_count": 68,
   "id": "e442306a",
   "metadata": {
    "ExecuteTime": {
     "end_time": "2021-07-12T10:52:57.986031Z",
     "start_time": "2021-07-12T10:52:55.455007Z"
    }
   },
   "outputs": [],
   "source": [
    "import pandas as pd\n",
    "import jpy_tools.parseSnake2 as jps"
   ]
  },
  {
   "cell_type": "code",
   "execution_count": 69,
   "id": "93319176",
   "metadata": {
    "ExecuteTime": {
     "end_time": "2021-07-12T10:52:57.991333Z",
     "start_time": "2021-07-12T10:52:57.988520Z"
    }
   },
   "outputs": [],
   "source": [
    "configPath = '/public1/software/liuzj/scripts/pipeline/dropseqAnalysisByStarsolo/snakemake/config.yaml'\n",
    "snakePath = '/public/home/liuzj/scripts/pipeline/dropseqAnalysisByStarsolo/snakemake/snakefile'"
   ]
  },
  {
   "cell_type": "code",
   "execution_count": 70,
   "id": "ae51a621",
   "metadata": {
    "ExecuteTime": {
     "end_time": "2021-07-12T10:52:57.996762Z",
     "start_time": "2021-07-12T10:52:57.994226Z"
    }
   },
   "outputs": [],
   "source": [
    "snakeFile = jps.SnakeFile()"
   ]
  },
  {
   "cell_type": "code",
   "execution_count": 71,
   "id": "54e04a7b",
   "metadata": {
    "ExecuteTime": {
     "end_time": "2021-07-12T10:52:58.025835Z",
     "start_time": "2021-07-12T10:52:57.998825Z"
    }
   },
   "outputs": [
    {
     "data": {
      "text/plain": [
       "import pandas as pd\n",
       "#configfile: \"/public1/software/liuzj/scripts/pipeline/dropseqAnalysisByStarsolo/snakemake/config.yaml\"\n",
       "pipelineDir = config['pipelineDir']\n",
       "resultDir = config[\"resultDir\"].rstrip(\"/\") + \"/\"\n",
       "pipelineDir = config[\"pipelineDir\"].rstrip(\"/\") + \"/\"\n",
       "sampleLs = list(config['samples'].keys())"
      ]
     },
     "execution_count": 71,
     "metadata": {},
     "output_type": "execute_result"
    }
   ],
   "source": [
    "snakeHeader = jps.SnakeHeader(snakeFile, configPath)\n",
    "snakeHeader.addCode(\"sampleLs = list(config['samples'].keys())\")\n",
    "config = snakeHeader.getConfig()\n",
    "snakeHeader"
   ]
  },
  {
   "cell_type": "code",
   "execution_count": 72,
   "id": "6af48a9f",
   "metadata": {
    "ExecuteTime": {
     "end_time": "2021-07-12T10:52:58.068205Z",
     "start_time": "2021-07-12T10:52:58.027618Z"
    }
   },
   "outputs": [],
   "source": [
    "pipelineDir = config['pipelineDir']\n",
    "resultDir = config[\"resultDir\"].rstrip(\"/\") + \"/\"\n",
    "pipelineDir = config[\"pipelineDir\"].rstrip(\"/\") + \"/\"\n",
    "sampleLs = list(config['samples'].keys())"
   ]
  },
  {
   "cell_type": "code",
   "execution_count": 73,
   "id": "49455298",
   "metadata": {},
   "outputs": [
    {
     "data": {
      "text/html": [
       "<div>\n",
       "<style scoped>\n",
       "    .dataframe tbody tr th:only-of-type {\n",
       "        vertical-align: middle;\n",
       "    }\n",
       "\n",
       "    .dataframe tbody tr th {\n",
       "        vertical-align: top;\n",
       "    }\n",
       "\n",
       "    .dataframe thead th {\n",
       "        text-align: right;\n",
       "    }\n",
       "</style>\n",
       "<table border=\"1\" class=\"dataframe\">\n",
       "  <thead>\n",
       "    <tr style=\"text-align: right;\">\n",
       "      <th></th>\n",
       "      <th>dir_fastq</th>\n",
       "      <th>r1</th>\n",
       "      <th>r2</th>\n",
       "      <th>expectedCell</th>\n",
       "      <th>umiLength</th>\n",
       "      <th>umiStart</th>\n",
       "      <th>cbLength</th>\n",
       "      <th>cbStart</th>\n",
       "      <th>r1Length</th>\n",
       "      <th>includeIntron</th>\n",
       "      <th>starIndex</th>\n",
       "      <th>outputDir</th>\n",
       "    </tr>\n",
       "  </thead>\n",
       "  <tbody>\n",
       "    <tr>\n",
       "      <th>ED1</th>\n",
       "      <td>/public/home/liuzj/projects/singleCell/clock/0...</td>\n",
       "      <td>/public/home/liuzj/projects/singleCell/clock/0...</td>\n",
       "      <td>/public/home/liuzj/projects/singleCell/clock/0...</td>\n",
       "      <td>5000</td>\n",
       "      <td>8</td>\n",
       "      <td>13</td>\n",
       "      <td>12</td>\n",
       "      <td>1</td>\n",
       "      <td>150</td>\n",
       "      <td>True</td>\n",
       "      <td>/public/home/liuzj/data/Araport11/STAR_INDEX</td>\n",
       "      <td>ED1/</td>\n",
       "    </tr>\n",
       "    <tr>\n",
       "      <th>ED2</th>\n",
       "      <td>/public/home/liuzj/projects/singleCell/clock/0...</td>\n",
       "      <td>/public/home/liuzj/projects/singleCell/clock/0...</td>\n",
       "      <td>/public/home/liuzj/projects/singleCell/clock/0...</td>\n",
       "      <td>5000</td>\n",
       "      <td>8</td>\n",
       "      <td>13</td>\n",
       "      <td>12</td>\n",
       "      <td>1</td>\n",
       "      <td>150</td>\n",
       "      <td>True</td>\n",
       "      <td>/public/home/liuzj/data/Araport11/STAR_INDEX</td>\n",
       "      <td>ED2/</td>\n",
       "    </tr>\n",
       "    <tr>\n",
       "      <th>ED3</th>\n",
       "      <td>/public/home/liuzj/projects/singleCell/clock/0...</td>\n",
       "      <td>/public/home/liuzj/projects/singleCell/clock/0...</td>\n",
       "      <td>/public/home/liuzj/projects/singleCell/clock/0...</td>\n",
       "      <td>5000</td>\n",
       "      <td>8</td>\n",
       "      <td>13</td>\n",
       "      <td>12</td>\n",
       "      <td>1</td>\n",
       "      <td>150</td>\n",
       "      <td>True</td>\n",
       "      <td>/public/home/liuzj/data/Araport11/STAR_INDEX</td>\n",
       "      <td>ED3/</td>\n",
       "    </tr>\n",
       "    <tr>\n",
       "      <th>EN1</th>\n",
       "      <td>/public/home/liuzj/projects/singleCell/clock/0...</td>\n",
       "      <td>/public/home/liuzj/projects/singleCell/clock/0...</td>\n",
       "      <td>/public/home/liuzj/projects/singleCell/clock/0...</td>\n",
       "      <td>5000</td>\n",
       "      <td>8</td>\n",
       "      <td>13</td>\n",
       "      <td>12</td>\n",
       "      <td>1</td>\n",
       "      <td>150</td>\n",
       "      <td>True</td>\n",
       "      <td>/public/home/liuzj/data/Araport11/STAR_INDEX</td>\n",
       "      <td>EN1/</td>\n",
       "    </tr>\n",
       "    <tr>\n",
       "      <th>EN2</th>\n",
       "      <td>/public/home/liuzj/projects/singleCell/clock/0...</td>\n",
       "      <td>/public/home/liuzj/projects/singleCell/clock/0...</td>\n",
       "      <td>/public/home/liuzj/projects/singleCell/clock/0...</td>\n",
       "      <td>5000</td>\n",
       "      <td>8</td>\n",
       "      <td>13</td>\n",
       "      <td>12</td>\n",
       "      <td>1</td>\n",
       "      <td>150</td>\n",
       "      <td>True</td>\n",
       "      <td>/public/home/liuzj/data/Araport11/STAR_INDEX</td>\n",
       "      <td>EN2/</td>\n",
       "    </tr>\n",
       "    <tr>\n",
       "      <th>EN3</th>\n",
       "      <td>/public/home/liuzj/projects/singleCell/clock/0...</td>\n",
       "      <td>/public/home/liuzj/projects/singleCell/clock/0...</td>\n",
       "      <td>/public/home/liuzj/projects/singleCell/clock/0...</td>\n",
       "      <td>5000</td>\n",
       "      <td>8</td>\n",
       "      <td>13</td>\n",
       "      <td>12</td>\n",
       "      <td>1</td>\n",
       "      <td>150</td>\n",
       "      <td>True</td>\n",
       "      <td>/public/home/liuzj/data/Araport11/STAR_INDEX</td>\n",
       "      <td>EN3/</td>\n",
       "    </tr>\n",
       "  </tbody>\n",
       "</table>\n",
       "</div>"
      ],
      "text/plain": [
       "                                             dir_fastq  \\\n",
       "ED1  /public/home/liuzj/projects/singleCell/clock/0...   \n",
       "ED2  /public/home/liuzj/projects/singleCell/clock/0...   \n",
       "ED3  /public/home/liuzj/projects/singleCell/clock/0...   \n",
       "EN1  /public/home/liuzj/projects/singleCell/clock/0...   \n",
       "EN2  /public/home/liuzj/projects/singleCell/clock/0...   \n",
       "EN3  /public/home/liuzj/projects/singleCell/clock/0...   \n",
       "\n",
       "                                                    r1  \\\n",
       "ED1  /public/home/liuzj/projects/singleCell/clock/0...   \n",
       "ED2  /public/home/liuzj/projects/singleCell/clock/0...   \n",
       "ED3  /public/home/liuzj/projects/singleCell/clock/0...   \n",
       "EN1  /public/home/liuzj/projects/singleCell/clock/0...   \n",
       "EN2  /public/home/liuzj/projects/singleCell/clock/0...   \n",
       "EN3  /public/home/liuzj/projects/singleCell/clock/0...   \n",
       "\n",
       "                                                    r2  expectedCell  \\\n",
       "ED1  /public/home/liuzj/projects/singleCell/clock/0...          5000   \n",
       "ED2  /public/home/liuzj/projects/singleCell/clock/0...          5000   \n",
       "ED3  /public/home/liuzj/projects/singleCell/clock/0...          5000   \n",
       "EN1  /public/home/liuzj/projects/singleCell/clock/0...          5000   \n",
       "EN2  /public/home/liuzj/projects/singleCell/clock/0...          5000   \n",
       "EN3  /public/home/liuzj/projects/singleCell/clock/0...          5000   \n",
       "\n",
       "     umiLength  umiStart  cbLength  cbStart  r1Length  includeIntron  \\\n",
       "ED1          8        13        12        1       150           True   \n",
       "ED2          8        13        12        1       150           True   \n",
       "ED3          8        13        12        1       150           True   \n",
       "EN1          8        13        12        1       150           True   \n",
       "EN2          8        13        12        1       150           True   \n",
       "EN3          8        13        12        1       150           True   \n",
       "\n",
       "                                        starIndex outputDir  \n",
       "ED1  /public/home/liuzj/data/Araport11/STAR_INDEX      ED1/  \n",
       "ED2  /public/home/liuzj/data/Araport11/STAR_INDEX      ED2/  \n",
       "ED3  /public/home/liuzj/data/Araport11/STAR_INDEX      ED3/  \n",
       "EN1  /public/home/liuzj/data/Araport11/STAR_INDEX      EN1/  \n",
       "EN2  /public/home/liuzj/data/Araport11/STAR_INDEX      EN2/  \n",
       "EN3  /public/home/liuzj/data/Araport11/STAR_INDEX      EN3/  "
      ]
     },
     "execution_count": 73,
     "metadata": {},
     "output_type": "execute_result"
    }
   ],
   "source": [
    "def addDirToFastq(sr):\n",
    "    dir_fastq = sr.at['dir_fastq']\n",
    "    path_r1 = sr.at['r1']\n",
    "    ls_pathR1 = path_r1.split(',')\n",
    "    ls_pathR1 = [f\"{dir_fastq}/{x}\" for x in ls_pathR1]\n",
    "    sr.at['r1'] = \",\".join(ls_pathR1)\n",
    "    path_r2 = sr.at['r2']\n",
    "    ls_pathR2 = path_r2.split(',')\n",
    "    ls_pathR2 = [f\"{dir_fastq}/{x}\" for x in ls_pathR2]\n",
    "    sr.at['r2'] = \",\".join(ls_pathR2)\n",
    "    return sr\n",
    "    \n",
    "df_runStarsolo = pd.DataFrame(config['samples']).T\n",
    "df_runStarsolo = df_runStarsolo.assign(starIndex = config['starIndex'], outputDir=df_runStarsolo.index + '/').apply(addDirToFastq, axis=1)\n",
    "df_runStarsolo"
   ]
  },
  {
   "cell_type": "code",
   "execution_count": 77,
   "id": "5556e338",
   "metadata": {
    "ExecuteTime": {
     "end_time": "2021-07-12T10:52:58.080934Z",
     "start_time": "2021-07-12T10:52:58.070171Z"
    }
   },
   "outputs": [
    {
     "name": "stderr",
     "output_type": "stream",
     "text": [
      "2022-10-20 16:37:46.065 | INFO     | jpy_tools.parseSnake2:addRule:55 - runStarsolo step num: 1\n",
      "2022-10-20 16:37:46.067 | WARNING  | jpy_tools.parseSnake2:addMetaDf:203 - please set `metaDf` if you want to record dataframe content in snakefile\n"
     ]
    },
    {
     "data": {
      "text/plain": [
       "\n",
       "## get parameter of rule `runStarsolo` ##\n",
       "def addDirToFastq(sr):\n",
       "    dir_fastq = sr.at['dir_fastq']\n",
       "    path_r1 = sr.at['r1']\n",
       "    ls_pathR1 = path_r1.split(',')\n",
       "    ls_pathR1 = [f\"{dir_fastq}/{x}\" for x in ls_pathR1]\n",
       "    sr.at['r1'] = \",\".join(ls_pathR1)\n",
       "    path_r2 = sr.at['r2']\n",
       "    ls_pathR2 = path_r2.split(',')\n",
       "    ls_pathR2 = [f\"{dir_fastq}/{x}\" for x in ls_pathR2]\n",
       "    sr.at['r2'] = \",\".join(ls_pathR2)\n",
       "    return sr\n",
       "    \n",
       "df_runStarsolo = pd.DataFrame(config['samples']).T\n",
       "df_runStarsolo = df_runStarsolo.assign(starIndex = config['starIndex'], outputDir=df_runStarsolo.index + '/').apply(addDirToFastq, axis=1)\n",
       "for column in ['outputDir']:\n",
       "    df_runStarsolo[column] = resultDir + 'step1_runStarsolo/' + df_runStarsolo[column]\n",
       "----------------\n",
       "IN RULE\n",
       "----------------\n",
       "rule runStarsolo:\n",
       "    input:\n",
       "        dir_fastq = lambda wildcard: df_runStarsolo.at[wildcard.sample, 'dir_fastq'],\n",
       "    output:\n",
       "        runStarsoloFinished = resultDir + 'step1_runStarsolo/' + '{sample}.finished',\n",
       "    params:\n",
       "        gpu = 0,\n",
       "        expectedCell = lambda wildcard: df_runStarsolo.at[wildcard.sample, 'expectedCell'],\n",
       "        r1 = lambda wildcard: df_runStarsolo.at[wildcard.sample, 'r1'],\n",
       "        r2 = lambda wildcard: df_runStarsolo.at[wildcard.sample, 'r2'],\n",
       "        includeIntron = lambda wildcard: df_runStarsolo.at[wildcard.sample, 'includeIntron'],\n",
       "        starIndex = lambda wildcard: df_runStarsolo.at[wildcard.sample, 'starIndex'],\n",
       "        outputDir = lambda wildcard: df_runStarsolo.at[wildcard.sample, 'outputDir'],\n",
       "        umiLength = lambda wildcard: df_runStarsolo.at[wildcard.sample, 'umiLength'],\n",
       "        umiStart = lambda wildcard: df_runStarsolo.at[wildcard.sample, 'umiStart'],\n",
       "        cbLength = lambda wildcard: df_runStarsolo.at[wildcard.sample, 'cbLength'],\n",
       "        cbStart = lambda wildcard: df_runStarsolo.at[wildcard.sample, 'cbStart'],\n",
       "        r1Length = lambda wildcard: df_runStarsolo.at[wildcard.sample, 'r1Length'],\n",
       "    threads:32\n",
       "    priority:20\n",
       "    shell:\n",
       "        \"\"\"\n",
       "mkdir -p {params.outputDir}\n",
       "cd {params.outputDir}\n",
       "if [ {params.includeIntron} = True ]\n",
       "then\n",
       "    STAR --runThreadN {threads} --genomeDir {params.starIndex} --soloType CB_UMI_Simple --soloCBwhitelist None --soloBarcodeReadLength {params.r1Length}        --soloUMIlen {params.umiLength} --soloCBlen {params.cbLength} --soloUMIstart {params.umiStart} --soloCBstart {params.cbStart} --readFilesIn {params.r2} {params.r1} --soloFeatures Gene GeneFull Velocyto        --clipAdapterType CellRanger4 --outFilterScoreMin 30 --soloCBmatchWLtype 1MM_multi_Nbase_pseudocounts --soloUMIfiltering MultiGeneUMI_CR        --soloUMIdedup 1MM_CR --soloCellFilter  EmptyDrops_CR {params.expectedCell} 0.99 10 45000 90000 500 0.01 20000 0.01 10000         --readFilesCommand zcat\n",
       "else\n",
       "    STAR --runThreadN {threads} --genomeDir {params.starIndex} --soloType CB_UMI_Simple --soloCBwhitelist None --soloBarcodeReadLength {params.r1Length}        --soloUMIlen {params.umiLength} --soloCBlen {params.cbLength} --soloUMIstart {params.umiStart} --soloCBstart {params.cbStart}  --readFilesIn {params.r2} {params.r1} --soloFeatures Gene Velocyto        --clipAdapterType CellRanger4 --outFilterScoreMin 30 --soloCBmatchWLtype 1MM_multi_Nbase_pseudocounts --soloUMIfiltering MultiGeneUMI_CR        --soloUMIdedup 1MM_CR --soloCellFilter  EmptyDrops_CR {params.expectedCell} 0.99 10 45000 90000 500 0.01 20000 0.01 10000         --readFilesCommand zcat\n",
       "fi\n",
       "samtools view -@ {threads} -S -O BAM ./Aligned.out.sam  | samtools sort -@ {threads} - -O BAM -o ./Aligned.out.bam\n",
       "samtools index -@ {threads} ./Aligned.out.bam\n",
       "rm ./Aligned.out.sam\n",
       "touch {output.runStarsoloFinished}\n",
       "        \"\"\""
      ]
     },
     "execution_count": 77,
     "metadata": {},
     "output_type": "execute_result"
    }
   ],
   "source": [
    "runStarsolo = jps.SnakeRule(snakeFile, \"runStarsolo\", 32, priority=20)\n",
    "runStarsolo.addCode(\n",
    "    \"\"\"\n",
    "def addDirToFastq(sr):\n",
    "    dir_fastq = sr.at['dir_fastq']\n",
    "    path_r1 = sr.at['r1']\n",
    "    ls_pathR1 = path_r1.split(',')\n",
    "    ls_pathR1 = [f\"{dir_fastq}/{x}\" for x in ls_pathR1]\n",
    "    sr.at['r1'] = \",\".join(ls_pathR1)\n",
    "    path_r2 = sr.at['r2']\n",
    "    ls_pathR2 = path_r2.split(',')\n",
    "    ls_pathR2 = [f\"{dir_fastq}/{x}\" for x in ls_pathR2]\n",
    "    sr.at['r2'] = \",\".join(ls_pathR2)\n",
    "    return sr\n",
    "    \n",
    "df_runStarsolo = pd.DataFrame(config['samples']).T\n",
    "df_runStarsolo = df_runStarsolo.assign(starIndex = config['starIndex'], outputDir=df_runStarsolo.index + '/').apply(addDirToFastq, axis=1)\n",
    "\"\"\"\n",
    ")\n",
    "runStarsolo.addMetaDf(\n",
    "    \"df_runStarsolo\",\n",
    "    [\"outputDir\"]\n",
    ")\n",
    "runStarsolo.addMain('input', ['dir_fastq'])\n",
    "runStarsolo.addMain('params', ['expectedCell', 'r1', 'r2', 'includeIntron', 'starIndex', 'outputDir', 'umiLength', 'umiStart', 'cbLength', 'cbStart', 'r1Length'])\n",
    "runStarsolo.setShell(\"\"\"\n",
    "mkdir -p {params.outputDir}\n",
    "cd {params.outputDir}\n",
    "if [ {params.includeIntron} = True ]\n",
    "then\n",
    "    STAR --runThreadN {threads} --genomeDir {params.starIndex} --soloType CB_UMI_Simple --soloCBwhitelist None --soloBarcodeReadLength {params.r1Length}\\\n",
    "        --soloUMIlen {params.umiLength} --soloCBlen {params.cbLength} --soloUMIstart {params.umiStart} --soloCBstart {params.cbStart} --readFilesIn {params.r2} {params.r1} --soloFeatures Gene GeneFull Velocyto\\\n",
    "        --clipAdapterType CellRanger4 --outFilterScoreMin 30 --soloCBmatchWLtype 1MM_multi_Nbase_pseudocounts --soloUMIfiltering MultiGeneUMI_CR\\\n",
    "        --soloUMIdedup 1MM_CR --soloCellFilter  EmptyDrops_CR {params.expectedCell} 0.99 10 45000 90000 500 0.01 20000 0.01 10000 \\\n",
    "        --readFilesCommand zcat\n",
    "else\n",
    "    STAR --runThreadN {threads} --genomeDir {params.starIndex} --soloType CB_UMI_Simple --soloCBwhitelist None --soloBarcodeReadLength {params.r1Length}\\\n",
    "        --soloUMIlen {params.umiLength} --soloCBlen {params.cbLength} --soloUMIstart {params.umiStart} --soloCBstart {params.cbStart}  --readFilesIn {params.r2} {params.r1} --soloFeatures Gene Velocyto\\\n",
    "        --clipAdapterType CellRanger4 --outFilterScoreMin 30 --soloCBmatchWLtype 1MM_multi_Nbase_pseudocounts --soloUMIfiltering MultiGeneUMI_CR\\\n",
    "        --soloUMIdedup 1MM_CR --soloCellFilter  EmptyDrops_CR {params.expectedCell} 0.99 10 45000 90000 500 0.01 20000 0.01 10000 \\\n",
    "        --readFilesCommand zcat\n",
    "fi\n",
    "samtools view -@ {threads} -S -O BAM ./Aligned.out.sam  | samtools sort -@ {threads} - -O BAM -o ./Aligned.out.bam\n",
    "samtools index -@ {threads} ./Aligned.out.bam\n",
    "rm ./Aligned.out.sam\n",
    "\"\"\")\n",
    "runStarsolo"
   ]
  },
  {
   "cell_type": "code",
   "execution_count": 78,
   "id": "76261678",
   "metadata": {
    "ExecuteTime": {
     "end_time": "2021-07-12T10:53:12.444010Z",
     "start_time": "2021-07-12T10:53:12.436193Z"
    }
   },
   "outputs": [
    {
     "data": {
      "text/plain": [
       "rule all:\n",
       "    input:\n",
       "        runStarsoloFinished = [resultDir + 'step1_runStarsolo/' + \"\" + sample + \".finished\" for sample in df_runStarsolo.index],"
      ]
     },
     "execution_count": 78,
     "metadata": {},
     "output_type": "execute_result"
    }
   ],
   "source": [
    "snakeAll = jps.SnakeAll(snakeFile, runStarsolo)\n",
    "snakeAll"
   ]
  },
  {
   "cell_type": "code",
   "execution_count": 79,
   "id": "3a41532b",
   "metadata": {
    "ExecuteTime": {
     "end_time": "2021-07-12T10:55:39.906908Z",
     "start_time": "2021-07-12T10:55:39.692417Z"
    }
   },
   "outputs": [
    {
     "name": "stdout",
     "output_type": "stream",
     "text": [
      "import pandas as pd\n",
      "#configfile: \"/public1/software/liuzj/scripts/pipeline/dropseqAnalysisByStarsolo/snakemake/config.yaml\"\n",
      "pipelineDir = config['pipelineDir']\n",
      "resultDir = config[\"resultDir\"].rstrip(\"/\") + \"/\"\n",
      "pipelineDir = config[\"pipelineDir\"].rstrip(\"/\") + \"/\"\n",
      "sampleLs = list(config['samples'].keys())\n",
      "\n",
      "## get parameter of rule `runStarsolo` ##\n",
      "def addDirToFastq(sr):\n",
      "    dir_fastq = sr.at['dir_fastq']\n",
      "    path_r1 = sr.at['r1']\n",
      "    ls_pathR1 = path_r1.split(',')\n",
      "    ls_pathR1 = [f\"{dir_fastq}/{x}\" for x in ls_pathR1]\n",
      "    sr.at['r1'] = \",\".join(ls_pathR1)\n",
      "    path_r2 = sr.at['r2']\n",
      "    ls_pathR2 = path_r2.split(',')\n",
      "    ls_pathR2 = [f\"{dir_fastq}/{x}\" for x in ls_pathR2]\n",
      "    sr.at['r2'] = \",\".join(ls_pathR2)\n",
      "    return sr\n",
      "    \n",
      "df_runStarsolo = pd.DataFrame(config['samples']).T\n",
      "df_runStarsolo = df_runStarsolo.assign(starIndex = config['starIndex'], outputDir=df_runStarsolo.index + '/').apply(addDirToFastq, axis=1)\n",
      "for column in ['outputDir']:\n",
      "    df_runStarsolo[column] = resultDir + 'step1_runStarsolo/' + df_runStarsolo[column]\n",
      "\n",
      "rule all:\n",
      "    input:\n",
      "        runStarsoloFinished = [resultDir + 'step1_runStarsolo/' + \"\" + sample + \".finished\" for sample in df_runStarsolo.index],\n",
      "\n",
      "rule runStarsolo:\n",
      "    input:\n",
      "        dir_fastq = lambda wildcard: df_runStarsolo.at[wildcard.sample, 'dir_fastq'],\n",
      "    output:\n",
      "        runStarsoloFinished = resultDir + 'step1_runStarsolo/' + '{sample}.finished',\n",
      "    params:\n",
      "        gpu = 0,\n",
      "        expectedCell = lambda wildcard: df_runStarsolo.at[wildcard.sample, 'expectedCell'],\n",
      "        r1 = lambda wildcard: df_runStarsolo.at[wildcard.sample, 'r1'],\n",
      "        r2 = lambda wildcard: df_runStarsolo.at[wildcard.sample, 'r2'],\n",
      "        includeIntron = lambda wildcard: df_runStarsolo.at[wildcard.sample, 'includeIntron'],\n",
      "        starIndex = lambda wildcard: df_runStarsolo.at[wildcard.sample, 'starIndex'],\n",
      "        outputDir = lambda wildcard: df_runStarsolo.at[wildcard.sample, 'outputDir'],\n",
      "        umiLength = lambda wildcard: df_runStarsolo.at[wildcard.sample, 'umiLength'],\n",
      "        umiStart = lambda wildcard: df_runStarsolo.at[wildcard.sample, 'umiStart'],\n",
      "        cbLength = lambda wildcard: df_runStarsolo.at[wildcard.sample, 'cbLength'],\n",
      "        cbStart = lambda wildcard: df_runStarsolo.at[wildcard.sample, 'cbStart'],\n",
      "        r1Length = lambda wildcard: df_runStarsolo.at[wildcard.sample, 'r1Length'],\n",
      "    threads:32\n",
      "    priority:20\n",
      "    shell:\n",
      "        \"\"\"\n",
      "mkdir -p {params.outputDir}\n",
      "cd {params.outputDir}\n",
      "if [ {params.includeIntron} = True ]\n",
      "then\n",
      "    STAR --runThreadN {threads} --genomeDir {params.starIndex} --soloType CB_UMI_Simple --soloCBwhitelist None --soloBarcodeReadLength {params.r1Length}        --soloUMIlen {params.umiLength} --soloCBlen {params.cbLength} --soloUMIstart {params.umiStart} --soloCBstart {params.cbStart} --readFilesIn {params.r2} {params.r1} --soloFeatures Gene GeneFull Velocyto        --clipAdapterType CellRanger4 --outFilterScoreMin 30 --soloCBmatchWLtype 1MM_multi_Nbase_pseudocounts --soloUMIfiltering MultiGeneUMI_CR        --soloUMIdedup 1MM_CR --soloCellFilter  EmptyDrops_CR {params.expectedCell} 0.99 10 45000 90000 500 0.01 20000 0.01 10000         --readFilesCommand zcat\n",
      "else\n",
      "    STAR --runThreadN {threads} --genomeDir {params.starIndex} --soloType CB_UMI_Simple --soloCBwhitelist None --soloBarcodeReadLength {params.r1Length}        --soloUMIlen {params.umiLength} --soloCBlen {params.cbLength} --soloUMIstart {params.umiStart} --soloCBstart {params.cbStart}  --readFilesIn {params.r2} {params.r1} --soloFeatures Gene Velocyto        --clipAdapterType CellRanger4 --outFilterScoreMin 30 --soloCBmatchWLtype 1MM_multi_Nbase_pseudocounts --soloUMIfiltering MultiGeneUMI_CR        --soloUMIdedup 1MM_CR --soloCellFilter  EmptyDrops_CR {params.expectedCell} 0.99 10 45000 90000 500 0.01 20000 0.01 10000         --readFilesCommand zcat\n",
      "fi\n",
      "samtools view -@ {threads} -S -O BAM ./Aligned.out.sam  | samtools sort -@ {threads} - -O BAM -o ./Aligned.out.bam\n",
      "samtools index -@ {threads} ./Aligned.out.bam\n",
      "rm ./Aligned.out.sam\n",
      "touch {output.runStarsoloFinished}\n",
      "        \"\"\"\n",
      "\n",
      "\n"
     ]
    }
   ],
   "source": [
    "snakeFile.getMain(snakePath)"
   ]
  },
  {
   "cell_type": "code",
   "execution_count": null,
   "id": "e6a0d2ca",
   "metadata": {},
   "outputs": [],
   "source": []
  }
 ],
 "metadata": {
  "kernelspec": {
   "display_name": "Python 3.8.13 ('sc_py')",
   "language": "python",
   "name": "python3"
  },
  "language_info": {
   "codemirror_mode": {
    "name": "ipython",
    "version": 3
   },
   "file_extension": ".py",
   "mimetype": "text/x-python",
   "name": "python",
   "nbconvert_exporter": "python",
   "pygments_lexer": "ipython3",
   "version": "3.8.13"
  },
  "toc": {
   "base_numbering": 1,
   "nav_menu": {},
   "number_sections": true,
   "sideBar": true,
   "skip_h1_title": false,
   "title_cell": "Table of Contents",
   "title_sidebar": "Contents",
   "toc_cell": false,
   "toc_position": {},
   "toc_section_display": true,
   "toc_window_display": false
  },
  "varInspector": {
   "cols": {
    "lenName": 16,
    "lenType": 16,
    "lenVar": 40
   },
   "kernels_config": {
    "python": {
     "delete_cmd_postfix": "",
     "delete_cmd_prefix": "del ",
     "library": "var_list.py",
     "varRefreshCmd": "print(var_dic_list())"
    },
    "r": {
     "delete_cmd_postfix": ") ",
     "delete_cmd_prefix": "rm(",
     "library": "var_list.r",
     "varRefreshCmd": "cat(var_dic_list()) "
    }
   },
   "types_to_exclude": [
    "module",
    "function",
    "builtin_function_or_method",
    "instance",
    "_Feature"
   ],
   "window_display": false
  },
  "vscode": {
   "interpreter": {
    "hash": "5166c4e5a33ca604fb3646f453e1bac224cc1b62660099e04fee02aacb4dd089"
   }
  }
 },
 "nbformat": 4,
 "nbformat_minor": 5
}
