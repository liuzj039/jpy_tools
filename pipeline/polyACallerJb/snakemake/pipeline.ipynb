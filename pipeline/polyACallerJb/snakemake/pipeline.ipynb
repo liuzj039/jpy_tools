{
 "metadata": {
  "language_info": {
   "codemirror_mode": {
    "name": "ipython",
    "version": 3
   },
   "file_extension": ".py",
   "mimetype": "text/x-python",
   "name": "python",
   "nbconvert_exporter": "python",
   "pygments_lexer": "ipython3",
   "version": "3.8.3-final"
  },
  "orig_nbformat": 2,
  "kernelspec": {
   "name": "python3",
   "display_name": "Python 3"
  }
 },
 "nbformat": 4,
 "nbformat_minor": 2,
 "cells": [
  {
   "cell_type": "code",
   "execution_count": 1,
   "metadata": {},
   "outputs": [],
   "source": [
    "import jpy_tools.parseSnake as jps"
   ]
  },
  {
   "cell_type": "code",
   "execution_count": 2,
   "metadata": {},
   "outputs": [],
   "source": [
    "snakeFile = jps.SnakeMakeFile()"
   ]
  },
  {
   "cell_type": "code",
   "execution_count": 12,
   "metadata": {},
   "outputs": [
    {
     "output_type": "stream",
     "name": "stdout",
     "text": [
      "config contents:\n\n    pipelineDir     :/public/home/liuzj/scripts/pipeline/polyACallerJb/script/\n\n     resultDir      :/public/home/liuzj/scripts/pipeline/polyACallerJb/results/\n\n     nanoporeFa     :/public/home/liuzj/scripts/pipeline/polyACallerJb/data/nanopore.fa\n\n   nanoporeBasSum   :/public/home/liuzj/scripts/pipeline/polyACallerJb/data/nanoporeSeqSummary.txt\n\n nanoporeWorkSpace  :/public/home/liuzj/scripts/pipeline/polyACallerJb/data/workspace/\n\n      genomeFa      :/public/home/liuzj/data/Araport11/genome.fa\n\n"
     ]
    }
   ],
   "source": [
    "snakeHeader = jps.SnakeHeader(snakeFile, '/public/home/liuzj/scripts/pipeline/polyACallerJb/snakemake/config.yaml')\n",
    "snakeHeader.generateContent()"
   ]
  },
  {
   "cell_type": "code",
   "execution_count": 13,
   "metadata": {},
   "outputs": [],
   "source": [
    "mappingGenome = jps.SnakeRule(snakeFile, 'mappingGenome', 1, 56)\n",
    "mappingGenome.setInput(b=['nanoporeFa'])\n",
    "mappingGenome.setOutput(a=['mappingBam.bam'])\n",
    "mappingGenome.setParams(b=['genomeFa'])\n",
    "mappingGenome.setShell(\"\"\"\n",
    "minimap2 -t {threads} -ax splice --secondary=no -G 12000 {params.genomeFa} {input.nanoporeFa} | samtools sort -@ {threads} -o {output.mappingBam} -\n",
    "samtools index -@ {threads} {output.mappingBam}\n",
    "\"\"\")\n",
    "mappingGenome.generateContent()"
   ]
  },
  {
   "cell_type": "code",
   "execution_count": 19,
   "metadata": {},
   "outputs": [],
   "source": [
    "findAdapter = jps.SnakeRule(snakeFile, 'findAdapter', 2, 56)\n",
    "findAdapter.setInput(b=['nanoporeFa'], a=['mappingBam.bam'])\n",
    "findAdapter.setOutput(a=['adapterResult.tsv'])\n",
    "findAdapter.setShell(\"\"\"\n",
    "python adapterFinder.py --inbam {input.mappingBam} --inseq {input.nanoporeFa} --out {output.adapterResult} --threads {threads}\n",
    "\"\"\")\n",
    "findAdapter.generateContent()"
   ]
  },
  {
   "cell_type": "code",
   "execution_count": 20,
   "metadata": {},
   "outputs": [],
   "source": [
    "polyacaller = jps.SnakeRule(snakeFile, 'polyacaller', 3, 56)\n",
    "polyacaller.setInput(a=['adapterResult.tsv'], b=['nanoporeSum', 'nanoporeWorkSpace'])\n",
    "polyacaller.setOutput(a=['polyATailResult.tsv'])\n",
    "polyacaller.setShell(\"\"\"\n",
    "python PolyACaller.py --inadapter {input.adapterResult} --summary {input.nanoporeSum}  --fast5dir {input.nanoporeWorkSpace} --out {output.polyATailResult} --threads {threads}\n",
    "\"\"\")\n",
    "polyacaller.generateContent()"
   ]
  },
  {
   "cell_type": "code",
   "execution_count": 21,
   "metadata": {},
   "outputs": [],
   "source": [
    "snakeAll = jps.SnakeAll(snakeFile)\n",
    "snakeAll.generateContent(polyATailResult=0)"
   ]
  },
  {
   "cell_type": "code",
   "execution_count": 18,
   "metadata": {},
   "outputs": [
    {
     "output_type": "stream",
     "name": "stdout",
     "text": [
      "configfile: \"/public/home/liuzj/scripts/pipeline/polyACallerJb/snakemake/config.yaml\"\npipelineDir = config['pipelineDir']\n\n\nrule all:\n    input:\n        polyATailResult = f\"{config['resultDir']}step3_polyacaller/polyATailResult.tsv\"\n\nrule mappingGenome:\n    input:\n        nanoporeFa = config['nanoporeFa']\n    output:\n        mappingBam = f\"{config['resultDir']}step1_mappingGenome/mappingBam.bam\"\n    params:\n        genomeFa = config['genomeFa'],\n        gpu = \"0\"\n\n    threads:56\n    shell:\n        \"\"\"\ncd {pipelineDir}\nminimap2 -t {threads} -ax splice --secondary=no -G 12000 {params.genomeFa} {input.nanoporeFa} | samtools sort -@ {threads} -o {output.mappingBam} -\nsamtools index -@ {threads} {output.mappingBam}\n        \"\"\"\n\nrule findAdapter:\n    input:\n        nanoporeFa = config['nanoporeFa'],\n        mappingBam = f\"{config['resultDir']}step1_mappingGenome/mappingBam.bam\"\n    output:\n        adapterResult = f\"{config['resultDir']}step2_findAdapter/adapterResult.tsv\"\n    params:\n        gpu = \"0\"\n\n    threads:56\n    shell:\n        \"\"\"\ncd {pipelineDir}\npython adapterFinder.py --inbam {input.mappingBam} --inseq {input.nanoporeFa} --out {adapterResult} --threads {threads}\n        \"\"\"\n\nrule polyacaller:\n    input:\n        adapterResult = f\"{config['resultDir']}step2_findAdapter/adapterResult.tsv\",\n        nanoporeSum = config['nanoporeSum'],\n        nanoporeWorkSpace = config['nanoporeWorkSpace']\n    output:\n        polyATailResult = f\"{config['resultDir']}step3_polyacaller/polyATailResult.tsv\"\n    params:\n        gpu = \"0\"\n\n    threads:56\n    shell:\n        \"\"\"\ncd {pipelineDir}\npython PolyACaller.py --inadapter {input.adapterResult} --summary {input.nanoporeSum}  --fast5dir {input.nanoporeWorkSpace} --out {output.polyATailResult} --threads {threads}\n        \"\"\"\n\n\n"
     ]
    }
   ],
   "source": [
    "snakeFile.generateContent('./snakefile')"
   ]
  },
  {
   "cell_type": "code",
   "execution_count": null,
   "metadata": {},
   "outputs": [],
   "source": []
  }
 ]
}