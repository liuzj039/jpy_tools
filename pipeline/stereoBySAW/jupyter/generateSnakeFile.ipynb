{
 "cells": [
  {
   "cell_type": "code",
   "execution_count": 17,
   "id": "43231954",
   "metadata": {
    "ExecuteTime": {
     "end_time": "2022-03-13T08:44:50.594316Z",
     "start_time": "2022-03-13T08:44:50.590871Z"
    }
   },
   "outputs": [],
   "source": [
    "from jpy_tools import parseSnake2 as jps\n",
    "import sh\n",
    "import os\n",
    "import pandas as pd"
   ]
  },
  {
   "cell_type": "code",
   "execution_count": 9,
   "id": "4fc66b6d",
   "metadata": {
    "ExecuteTime": {
     "end_time": "2022-03-13T08:41:29.164476Z",
     "start_time": "2022-03-13T08:41:29.161780Z"
    }
   },
   "outputs": [],
   "source": [
    "path_sf = '../snakemake/snakefile'\n",
    "path_config = '../snakemake/config.yaml'"
   ]
  },
  {
   "cell_type": "code",
   "execution_count": 10,
   "id": "34f5ddb6",
   "metadata": {
    "ExecuteTime": {
     "end_time": "2022-03-13T08:41:29.342572Z",
     "start_time": "2022-03-13T08:41:29.339737Z"
    }
   },
   "outputs": [],
   "source": [
    "sf = jps.SnakeFile()"
   ]
  },
  {
   "cell_type": "code",
   "execution_count": 11,
   "id": "408db27d",
   "metadata": {
    "ExecuteTime": {
     "end_time": "2022-03-13T08:41:29.531392Z",
     "start_time": "2022-03-13T08:41:29.521606Z"
    }
   },
   "outputs": [
    {
     "name": "stderr",
     "output_type": "stream",
     "text": [
      "/public/home/liuzj/softwares/anaconda3/lib/python3.8/site-packages/jpy_tools/parseSnake2.py:93: YAMLLoadWarning: calling yaml.load() without Loader=... is deprecated, as the default Loader is unsafe. Please read https://msg.pyyaml.org/load for full details.\n",
      "  self.yaml = yaml.load(open(self.path))\n"
     ]
    }
   ],
   "source": [
    "hd = jps.SnakeHeader(sf, path_config)\n",
    "config = hd.getConfig()"
   ]
  },
  {
   "cell_type": "code",
   "execution_count": 15,
   "id": "82cd5eed",
   "metadata": {
    "ExecuteTime": {
     "end_time": "2022-03-13T08:43:54.122081Z",
     "start_time": "2022-03-13T08:43:54.116671Z"
    }
   },
   "outputs": [
    {
     "data": {
      "text/plain": [
       "{'singularity': '/public/home/liuzj/softwares/anaconda3/envs/SAW/bin/singularity',\n",
       " 'container': '~/singularity_containers/SAW_v2.1.0.sif',\n",
       " 'barcodeToPos': '/public/home/liuzj/projects/singleCell/soybean/01_data/bgiSptialTran_raw/00.rawdata/SS200000118TL_D4.barcodeToPos.h5',\n",
       " 'read1': '/public/home/liuzj/projects/singleCell/soybean/01_data/bgiSptialTran_raw/00.rawdata/SS200000118TL_D4_DP8400028098TL_L01_read_1.fq.gz',\n",
       " 'read2': '/public/home/liuzj/projects/singleCell/soybean/01_data/bgiSptialTran_raw/00.rawdata/SS200000118TL_D4_DP8400028098TL_L01_read_2.fq.gz',\n",
       " 'genomeIndex': '~/data/SAW_index/soybass_with_rhizobium/',\n",
       " 'gtf': '~/data/soybase_with_rhizobium/merge.gtf.addTrsAndGene.gtf',\n",
       " 'resultDir': '/data/Zhaijx/liuzj/projects/singleCell/soybean/02_result/sptialTran/output_with_rhizobium',\n",
       " 'pipelineDir': '~'}"
      ]
     },
     "execution_count": 15,
     "metadata": {},
     "output_type": "execute_result"
    }
   ],
   "source": [
    "config"
   ]
  },
  {
   "cell_type": "code",
   "execution_count": 23,
   "id": "e6f8cb63",
   "metadata": {
    "ExecuteTime": {
     "end_time": "2022-03-13T08:45:42.898767Z",
     "start_time": "2022-03-13T08:45:42.891176Z"
    }
   },
   "outputs": [],
   "source": [
    "df_base = pd.DataFrame.from_dict(config, 'index', columns=['all']).T"
   ]
  },
  {
   "cell_type": "code",
   "execution_count": 27,
   "id": "d8ab6217",
   "metadata": {
    "ExecuteTime": {
     "end_time": "2022-03-13T08:47:00.873480Z",
     "start_time": "2022-03-13T08:47:00.834990Z"
    }
   },
   "outputs": [
    {
     "data": {
      "text/html": [
       "<div>\n",
       "<style scoped>\n",
       "    .dataframe tbody tr th:only-of-type {\n",
       "        vertical-align: middle;\n",
       "    }\n",
       "\n",
       "    .dataframe tbody tr th {\n",
       "        vertical-align: top;\n",
       "    }\n",
       "\n",
       "    .dataframe thead th {\n",
       "        text-align: right;\n",
       "    }\n",
       "</style>\n",
       "<table border=\"1\" class=\"dataframe\">\n",
       "  <thead>\n",
       "    <tr style=\"text-align: right;\">\n",
       "      <th></th>\n",
       "      <th>singularity</th>\n",
       "      <th>container</th>\n",
       "      <th>barcodeToPos</th>\n",
       "      <th>read1</th>\n",
       "      <th>read2</th>\n",
       "      <th>genomeIndex</th>\n",
       "      <th>gtf</th>\n",
       "      <th>resultDir</th>\n",
       "      <th>pipelineDir</th>\n",
       "      <th>SNid</th>\n",
       "    </tr>\n",
       "  </thead>\n",
       "  <tbody>\n",
       "    <tr>\n",
       "      <th>all</th>\n",
       "      <td>/public/home/liuzj/softwares/anaconda3/envs/SA...</td>\n",
       "      <td>~/singularity_containers/SAW_v2.1.0.sif</td>\n",
       "      <td>/public/home/liuzj/projects/singleCell/soybean...</td>\n",
       "      <td>/public/home/liuzj/projects/singleCell/soybean...</td>\n",
       "      <td>/public/home/liuzj/projects/singleCell/soybean...</td>\n",
       "      <td>~/data/SAW_index/soybass_with_rhizobium/</td>\n",
       "      <td>~/data/soybase_with_rhizobium/merge.gtf.addTrs...</td>\n",
       "      <td>/data/Zhaijx/liuzj/projects/singleCell/soybean...</td>\n",
       "      <td>~</td>\n",
       "      <td>SS200000118TL_D4</td>\n",
       "    </tr>\n",
       "  </tbody>\n",
       "</table>\n",
       "</div>"
      ],
      "text/plain": [
       "                                           singularity  ...              SNid\n",
       "all  /public/home/liuzj/softwares/anaconda3/envs/SA...  ...  SS200000118TL_D4\n",
       "\n",
       "[1 rows x 10 columns]"
      ]
     },
     "execution_count": 27,
     "metadata": {},
     "output_type": "execute_result"
    }
   ],
   "source": [
    "df_base.pipe(lambda df:df.assign(\n",
    "    SNid = df['barcodeToPos'].str.split('/').str[-1].str.split('.').str[0]\n",
    "))"
   ]
  },
  {
   "cell_type": "code",
   "execution_count": 16,
   "id": "c02fad23",
   "metadata": {
    "ExecuteTime": {
     "end_time": "2022-03-13T08:44:07.808869Z",
     "start_time": "2022-03-13T08:44:07.772663Z"
    }
   },
   "outputs": [
    {
     "data": {
      "text/plain": [
       "SS200000118TL_D4.barcodeToPos.h5"
      ]
     },
     "execution_count": 16,
     "metadata": {},
     "output_type": "execute_result"
    }
   ],
   "source": [
    "sh.basename(config['barcodeToPos'])"
   ]
  },
  {
   "cell_type": "code",
   "execution_count": null,
   "id": "338363a3",
   "metadata": {},
   "outputs": [],
   "source": [
    "maskname=$(basename $maskFile)"
   ]
  },
  {
   "cell_type": "code",
   "execution_count": 12,
   "id": "e387e290",
   "metadata": {
    "ExecuteTime": {
     "end_time": "2022-03-13T08:41:29.771999Z",
     "start_time": "2022-03-13T08:41:29.766734Z"
    }
   },
   "outputs": [
    {
     "data": {
      "text/plain": [
       "{'singularity': '/public/home/liuzj/softwares/anaconda3/envs/SAW/bin/singularity',\n",
       " 'container': '~/singularity_containers/SAW_v2.1.0.sif',\n",
       " 'barcodeToPos': '/public/home/liuzj/projects/singleCell/soybean/01_data/bgiSptialTran_raw/00.rawdata/SS200000118TL_D4.barcodeToPos.h5',\n",
       " 'read1': '/public/home/liuzj/projects/singleCell/soybean/01_data/bgiSptialTran_raw/00.rawdata/SS200000118TL_D4_DP8400028098TL_L01_read_1.fq.gz',\n",
       " 'read2': '/public/home/liuzj/projects/singleCell/soybean/01_data/bgiSptialTran_raw/00.rawdata/SS200000118TL_D4_DP8400028098TL_L01_read_2.fq.gz',\n",
       " 'genomeIndex': '~/data/SAW_index/soybass_with_rhizobium/',\n",
       " 'gtf': '~/data/soybase_with_rhizobium/merge.gtf.addTrsAndGene.gtf',\n",
       " 'resultDir': '/data/Zhaijx/liuzj/projects/singleCell/soybean/02_result/sptialTran/output_with_rhizobium',\n",
       " 'pipelineDir': '~'}"
      ]
     },
     "execution_count": 12,
     "metadata": {},
     "output_type": "execute_result"
    }
   ],
   "source": [
    "config"
   ]
  },
  {
   "cell_type": "code",
   "execution_count": null,
   "id": "e14044ec",
   "metadata": {},
   "outputs": [],
   "source": []
  }
 ],
 "metadata": {
  "kernelspec": {
   "display_name": "Python 3",
   "language": "python",
   "name": "python3"
  },
  "language_info": {
   "codemirror_mode": {
    "name": "ipython",
    "version": 3
   },
   "file_extension": ".py",
   "mimetype": "text/x-python",
   "name": "python",
   "nbconvert_exporter": "python",
   "pygments_lexer": "ipython3",
   "version": "3.8.10"
  },
  "toc": {
   "base_numbering": 1,
   "nav_menu": {},
   "number_sections": true,
   "sideBar": true,
   "skip_h1_title": false,
   "title_cell": "Table of Contents",
   "title_sidebar": "Contents",
   "toc_cell": false,
   "toc_position": {},
   "toc_section_display": true,
   "toc_window_display": false
  }
 },
 "nbformat": 4,
 "nbformat_minor": 5
}
