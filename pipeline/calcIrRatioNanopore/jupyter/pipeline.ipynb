{
 "cells": [
  {
   "cell_type": "code",
   "execution_count": 10,
   "metadata": {},
   "outputs": [],
   "source": [
    "from jpy_tools import parseSnake as jps"
   ]
  },
  {
   "cell_type": "code",
   "execution_count": 11,
   "metadata": {},
   "outputs": [],
   "source": [
    "yamlPath = '/public/home/liuzj/scripts/pipeline/calcIrRatioNanopore/snakemake/config20200715.yaml'\n",
    "snakePath = '/public/home/liuzj/scripts/pipeline/calcIrRatioNanopore/snakemake/snakefile'"
   ]
  },
  {
   "cell_type": "code",
   "execution_count": 12,
   "metadata": {},
   "outputs": [],
   "source": [
    "snakeFile = jps.SnakeMakeFile()"
   ]
  },
  {
   "cell_type": "code",
   "execution_count": 13,
   "metadata": {
    "tags": []
   },
   "outputs": [
    {
     "output_type": "stream",
     "name": "stdout",
     "text": "config contents:\n\n    pipelineDir     :/public/home/liuzj/scripts/pipeline/calcIrRatioNanopore/scripts/\n\n     resultDir      :/public/home/liuzj/scripts/pipeline/calcIrRatioNanopore/results/\n\n  molMappingResult  :/public/home/liuzj/scripts/pipeline/calcIrRatioNanopore/rawData/molMappingResult.bam\n\n    refAnnotaBed    :/public/home/liuzj/data/Araport11/gene.bed\n\n   repreAnnotaBed   :/public/home/liuzj/data/Araport11/araport11.representative.gene_model.bed\n\n"
    }
   ],
   "source": [
    "header = jps.SnakeHeader(snakeFile, yamlPath)\n",
    "header.generateContent()"
   ]
  },
  {
   "cell_type": "code",
   "execution_count": 14,
   "metadata": {},
   "outputs": [],
   "source": [
    "extractOverlapWithAnno = jps.SnakeRule(snakeFile, 'extractOverlapWithAnno', 1,)\n",
    "extractOverlapWithAnno.setInput(b=['molMappingResult','refAnnotaBed'])\n",
    "extractOverlapWithAnno.setOutput(a = ['molOverlapResult.bed'])\n",
    "extractOverlapWithAnno.setShell(\"\"\"\n",
    "bedtools intersect -abam {input.molMappingResult} -b {input.refAnnotaBed} -wo -s -split -bed > {output.molOverlapResult}\n",
    "\"\"\")\n",
    "extractOverlapWithAnno.generateContent()"
   ]
  },
  {
   "cell_type": "code",
   "execution_count": 15,
   "metadata": {},
   "outputs": [],
   "source": [
    "parseBedtoolsOutput = jps.SnakeRule(snakeFile, 'parseBedtoolsOutput', 2)\n",
    "parseBedtoolsOutput.setInput(a = ['molOverlapResult.bed'])\n",
    "parseBedtoolsOutput.setOutput(a = ['parseBedtoolsResult.pkl'])\n",
    "parseBedtoolsOutput.setShell(\"\"\"\n",
    "python step11_parseBedtoolsOutput.py -i {input.molOverlapResult} -o {output.parseBedtoolsResult}\n",
    "\"\"\")\n",
    "parseBedtoolsOutput.generateContent()"
   ]
  },
  {
   "cell_type": "code",
   "execution_count": 16,
   "metadata": {},
   "outputs": [],
   "source": [
    "getSplieStats = jps.SnakeRule(snakeFile, 'getSplieStats', 3)\n",
    "getSplieStats.setInput(a=['molMappingResult.bam'], b=['repreAnnotaBed'])\n",
    "getSplieStats.setOutput(a = ['overlapWithRefBed.bed', 'intronRetationInfo.tsv'])\n",
    "getSplieStats.setShell(\"\"\"\n",
    "bedtools intersect -abam {input.molMappingResult} -b {input.repreAnnotaBed} -wo -s -split -bed > {output.overlapWithRefBed} &&\\\n",
    "    python step13_getSpliceStats.py -i {output.overlapWithRefBed} -o {output.intronRetationInfo}\n",
    "\"\"\")\n",
    "getSplieStats.generateContent()\n",
    "\n",
    "getIrInfo = jps.SnakeRule(snakeFile, 'getIrInfo', 4)\n",
    "getIrInfo.setInput(a = ['parseBedtoolsResult.pkl', 'intronRetationInfo.tsv'])\n",
    "getIrInfo.setOutput(a = ['irInfo.tsv'])\n",
    "getIrInfo.setShell(\"\"\"\n",
    "python step14_getIrInfo.py -i {input.intronRetationInfo} -g {input.parseBedtoolsResult} -o {output.irInfo}\n",
    "\"\"\")\n",
    "getIrInfo.generateContent()\n",
    "\n",
    "calculateGeneIntronRatio = jps.SnakeRule(snakeFile, 'calculateGeneIntronRatio', 5)\n",
    "calculateGeneIntronRatio.setInput(a = ['irInfo.tsv'])\n",
    "calculateGeneIntronRatio.setOutput(a = ['irRatio.tsv'])\n",
    "calculateGeneIntronRatio.setShell(\"\"\"\n",
    "python step15_calculateGeneIntronRatio.py -i {input.irInfo} -o {output.irRatio}\n",
    "\"\"\")\n",
    "calculateGeneIntronRatio.generateContent()"
   ]
  },
  {
   "cell_type": "code",
   "execution_count": 17,
   "metadata": {},
   "outputs": [],
   "source": [
    "ruleAll = jps.SnakeAll(snakeFile)\n",
    "ruleAll.generateContent(irRatio=0) "
   ]
  },
  {
   "cell_type": "code",
   "execution_count": 18,
   "metadata": {
    "tags": []
   },
   "outputs": [
    {
     "output_type": "stream",
     "name": "stdout",
     "text": "configfile: \"/public/home/liuzj/scripts/pipeline/calcIrRatioNanopore/snakemake/config20200715.yaml\"\npipelineDir = config['pipelineDir']\n\n\nrule all:\n    input:\n        irRatio = f\"{config['resultDir']}step5_calculateGeneIntronRatio/irRatio.tsv\"\n\nrule extractOverlapWithAnno:\n    input:\n        molMappingResult = config['molMappingResult'],\n        refAnnotaBed = config['refAnnotaBed']\n    output:\n        molOverlapResult = f\"{config['resultDir']}step1_extractOverlapWithAnno/molOverlapResult.bed\"\n    params:\n        gpu = \"0\"\n\n    threads:1\n    shell:\n        \"\"\"\ncd {pipelineDir}\nbedtools intersect -abam {input.molMappingResult} -b {input.refAnnotaBed} -wo -s -split -bed > {output.molOverlapResult}\n        \"\"\"\n\nrule parseBedtoolsOutput:\n    input:\n        molOverlapResult = f\"{config['resultDir']}step1_extractOverlapWithAnno/molOverlapResult.bed\"\n    output:\n        parseBedtoolsResult = f\"{config['resultDir']}step2_parseBedtoolsOutput/parseBedtoolsResult.pkl\"\n    params:\n        gpu = \"0\"\n\n    threads:1\n    shell:\n        \"\"\"\ncd {pipelineDir}\npython step11_parseBedtoolsOutput.py -i {input.molOverlapResult} -o {output.parseBedtoolsResult}\n        \"\"\"\n\nrule getSplieStats:\n    input:\n        molMappingResult = config['molMappingResult'],\n        repreAnnotaBed = config['repreAnnotaBed']\n    output:\n        overlapWithRefBed = f\"{config['resultDir']}step3_getSplieStats/overlapWithRefBed.bed\",\n        intronRetationInfo = f\"{config['resultDir']}step3_getSplieStats/intronRetationInfo.tsv\"\n    params:\n        gpu = \"0\"\n\n    threads:1\n    shell:\n        \"\"\"\ncd {pipelineDir}\nbedtools intersect -abam {input.molMappingResult} -b {input.repreAnnotaBed} -wo -s -split -bed > {output.overlapWithRefBed} &&    python step13_getSpliceStats.py -i {output.overlapWithRefBed} -o {output.intronRetationInfo}\n        \"\"\"\n\nrule getIrInfo:\n    input:\n        parseBedtoolsResult = f\"{config['resultDir']}step2_parseBedtoolsOutput/parseBedtoolsResult.pkl\",\n        intronRetationInfo = f\"{config['resultDir']}step3_getSplieStats/intronRetationInfo.tsv\"\n    output:\n        irInfo = f\"{config['resultDir']}step4_getIrInfo/irInfo.tsv\"\n    params:\n        gpu = \"0\"\n\n    threads:1\n    shell:\n        \"\"\"\ncd {pipelineDir}\npython step14_getIrInfo.py -i {input.intronRetationInfo} -g {input.parseBedtoolsResult} -o {output.irInfo}\n        \"\"\"\n\nrule calculateGeneIntronRatio:\n    input:\n        irInfo = f\"{config['resultDir']}step4_getIrInfo/irInfo.tsv\"\n    output:\n        irRatio = f\"{config['resultDir']}step5_calculateGeneIntronRatio/irRatio.tsv\"\n    params:\n        gpu = \"0\"\n\n    threads:1\n    shell:\n        \"\"\"\ncd {pipelineDir}\npython step15_calculateGeneIntronRatio.py -i {input.irInfo} -o {output.irRatio}\n        \"\"\"\n\n\n"
    }
   ],
   "source": [
    "snakeFile.generateContent(snakePath)"
   ]
  },
  {
   "cell_type": "code",
   "execution_count": null,
   "metadata": {},
   "outputs": [],
   "source": []
  },
  {
   "cell_type": "code",
   "execution_count": null,
   "metadata": {},
   "outputs": [],
   "source": []
  }
 ],
 "metadata": {
  "language_info": {
   "codemirror_mode": {
    "name": "ipython",
    "version": 3
   },
   "file_extension": ".py",
   "mimetype": "text/x-python",
   "name": "python",
   "nbconvert_exporter": "python",
   "pygments_lexer": "ipython3",
   "version": "3.8.5-final"
  },
  "orig_nbformat": 2,
  "kernelspec": {
   "name": "python3",
   "display_name": "Python 3"
  }
 },
 "nbformat": 4,
 "nbformat_minor": 2
}