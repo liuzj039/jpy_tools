{
 "cells": [
  {
   "cell_type": "code",
   "execution_count": 12,
   "metadata": {},
   "outputs": [],
   "source": [
    "import jpy_tools.parseSnake as jps"
   ]
  },
  {
   "cell_type": "code",
   "execution_count": 13,
   "metadata": {},
   "outputs": [],
   "source": [
    "snakeFile = jps.SnakeMakeFile()"
   ]
  },
  {
   "cell_type": "code",
   "execution_count": 14,
   "metadata": {},
   "outputs": [],
   "source": [
    "snakeHeader = jps.SnakeHeader(snakeFile, '/public/home/liuzj/scripts/pipeline/analyzeNGSData/snakemake/config.yaml')\n",
    "snakeHeader.addFeature('rawDataPath')\n",
    "snakeHeader.generateContent()"
   ]
  },
  {
   "cell_type": "code",
   "execution_count": 15,
   "metadata": {},
   "outputs": [],
   "source": [
    "mappingUsingHisat = jps.SnakeRule(snakeFile, 'mappingUsingHisat', 1, 1, 16)\n",
    "mappingUsingHisat.setInput(c = dict(readOne = 'f\\'{rawDataPath}{{sample}}_1.fastq.gz\\'', \\\n",
    "    readTwo = 'f\\'{rawDataPath}{{sample}}_2.fastq.gz\\''))\n",
    "mappingUsingHisat.setOutput(a = ['{{sample}}_sortedBam.bam'])\n",
    "mappingUsingHisat.setParams(a = ['{{sample}}_unsortedSam.sam'], b=['genome'])\n",
    "mappingUsingHisat.setShell(\"\"\"\n",
    "hisat2 -x {params.genome} -p {threads} --min-intronlen 20 --max-intronlen 10000 --dta --time -1 {input.readOne} -2 {input.readTwo} -S {params.unsortedSam} &&\\\n",
    "     samtools sort {params.unsortedSam} -@ {threads} -O bam -o {output.sortedBam} &&\\\n",
    "         samtools index {output.sortedBam} &&\\\n",
    "             rm {params.unsortedSam}\n",
    "\"\"\")\n",
    "mappingUsingHisat.generateContent()\n",
    "\n",
    "deDuplicates = jps.SnakeRule(snakeFile, 'deDuplicates', 2, 1, 8)\n",
    "deDuplicates.setInput(a = ['{{sample}}_sortedBam.bam'])\n",
    "deDuplicates.setOutput(a = ['{{sample}}_sortedDedupBam.bam'])\n",
    "deDuplicates.setParams(a = ['{{sample}}_sortedDedupMat.txt'])\n",
    "deDuplicates.setShell(\"\"\"\n",
    "java -jar /public/apps/picard_2.20.2/picard.jar MarkDuplicates VALIDATION_STRINGENCY=SILENT REMOVE_DUPLICATES=true SORTING_COLLECTION_SIZE_RATIO=0.01 I={input.sortedBam} O={output.sortedDedupBam} M={params.sortedDedupMat} &&\\\n",
    "    samtools index {output.sortedDedupBam}\n",
    "\"\"\")\n",
    "deDuplicates.generateContent()"
   ]
  },
  {
   "cell_type": "code",
   "execution_count": 16,
   "metadata": {},
   "outputs": [],
   "source": [
    "runStringTie = jps.SnakeRule(snakeFile, 'runStringTie', 3 ,1 , 16)\n",
    "runStringTie.setInput(a = ['{{sample}}_sortedDedupBam.bam'], b = ['annoGff'])\n",
    "runStringTie.setOutput(a = ['{{sample}}/geneStringtieMerge.gtf', '{{sample}}/geneStringtieAbund.tsv'])\n",
    "runStringTie.setShell(\"\"\"\n",
    "stringtie -A {output.geneStringtieAbund} -e --rf -B -p {threads} -G {input.annoGff} -o {output.geneStringtieMerge} {input.sortedDedupBam}\n",
    "\"\"\")\n",
    "runStringTie.generateContent()"
   ]
  },
  {
   "cell_type": "code",
   "execution_count": 17,
   "metadata": {},
   "outputs": [],
   "source": [
    "extractRnaRpkm = jps.SnakeRule(snakeFile, 'extractRnaRpkm', 4, 1, 1)\n",
    "extractRnaRpkm.setInput(a = ['{{sample}}/geneStringtieMerge.gtf'])\n",
    "extractRnaRpkm.setOutput(a = ['{{sample}}_rpkmRna.tsv', '{{sample}}_rpkmGene.tsv'])\n",
    "extractRnaRpkm.setParams(c = dict(step4Label = '\\'{sample}\\''),a = ['step3ResultDir'])\n",
    "extractRnaRpkm.setShell(\"\"\"\n",
    "Rscript extract_rpkm_from_ballgown.R {params.step4Label}  {params.step3ResultDir}{params.step4Label} {output.rpkmRna} {output.rpkmGene} \n",
    "\"\"\")\n",
    "extractRnaRpkm.generateContent()"
   ]
  },
  {
   "cell_type": "code",
   "execution_count": 18,
   "metadata": {},
   "outputs": [],
   "source": [
    "extractGeneCounts = jps.SnakeRule(snakeFile, 'extractGeneCounts', 5, 1, 1)\n",
    "extractGeneCounts.setInput(c = dict(\\\n",
    "    allRnaRpkm = \"[f\\\"{config['resultDir']}step4_extractRnaRpkm/{sample}_rpkmRna.tsv\\\" for sample in config['sampleList']]\"\n",
    "    ))\n",
    "extractGeneCounts.setOutput(a = ['allSampleGeneCounts.csv', 'allSampleTransCounts.csv'])\n",
    "extractGeneCounts.setParams(a = ['step3ResultDir'])\n",
    "extractGeneCounts.setShell(\"\"\"\n",
    "prepDE.py -g {output.allSampleGeneCounts} -t {output.allSampleTransCounts} -i {params.step3ResultDir}\n",
    "\"\"\")\n",
    "extractGeneCounts.generateContent()"
   ]
  },
  {
   "cell_type": "code",
   "execution_count": 19,
   "metadata": {},
   "outputs": [],
   "source": [
    "calIrRatio = jps.SnakeRule(snakeFile, 'calIrRatio', 6, 1, 1)\n",
    "calIrRatio.setInput(a = ['{{sample}}_sortedDedupBam.bam'], b= ['repreTrans'])\n",
    "calIrRatio.setOutput(a = ['{{sample}}_irRatio.tsv'])\n",
    "calIrRatio.setShell(\"\"\"\n",
    "python cal_ir_ratio.from_bam.by_splicing_Read_type.version2.py {input.sortedDedupBam} {input.repreTrans} {output.irRatio} 1 4 1\n",
    "\"\"\")\n",
    "calIrRatio.generateContent()"
   ]
  },
  {
   "cell_type": "code",
   "execution_count": 20,
   "metadata": {},
   "outputs": [],
   "source": [
    "gatherIrRpkm = jps.SnakeRule(snakeFile, 'gatherIrRpkm', 7, 1, 1)\n",
    "gatherIrRpkm.setInput(a = ['{{sample}}_irRatio.tsv', '{{sample}}_rpkmGene.tsv'])\n",
    "gatherIrRpkm.setOutput(a = ['{{sample}}_gatherIrRpkm.tsv'])\n",
    "gatherIrRpkm.setShell(\"\"\"\n",
    "python gatherIrRpkm.py -i {input.irRatio} -R {input.rpkmGene} -o {output.gatherIrRpkm}\n",
    "\"\"\")\n",
    "gatherIrRpkm.generateContent()"
   ]
  },
  {
   "cell_type": "code",
   "execution_count": 21,
   "metadata": {},
   "outputs": [],
   "source": [
    "ruleAll = jps.SnakeAll(snakeFile)\n",
    "ruleAll.generateContent(gatherIrRpkm = 1, allSampleGeneCounts = 0)"
   ]
  },
  {
   "cell_type": "code",
   "execution_count": 22,
   "metadata": {
    "tags": []
   },
   "outputs": [
    {
     "output_type": "stream",
     "name": "stdout",
     "text": "configfile: \"/public/home/liuzj/scripts/pipeline/analyzeNGSData/snakemake/config.yaml\"\npipelineDir = config['pipelineDir']\nrawDataPath = config['rawDataPath']\n\n\nrule all:\n    input:\n        [f\"{config['resultDir']}step7_gatherIrRpkm/{sample}_gatherIrRpkm.tsv\" for sample in config['sampleList']],\n        allSampleGeneCounts = f\"{config['resultDir']}step5_extractGeneCounts/allSampleGeneCounts.csv\"\n\nrule mappingUsingHisat:\n    input:\n        readOne = f'{rawDataPath}{{sample}}_1.fastq.gz',\n        readTwo = f'{rawDataPath}{{sample}}_2.fastq.gz'\n    output:\n        sortedBam = f\"{config['resultDir']}step1_mappingUsingHisat/{{sample}}_sortedBam.bam\"\n    params:\n        unsortedSam = f\"{config['resultDir']}step1_mappingUsingHisat/{{sample}}_unsortedSam.sam\",\n        genome = config['genome']\n    threads:16\n    shell:\n        \"\"\"\njpy_qsub.py --sm -t {threads} -n 1 -N mappingUsingHisat --inline '\\\ncd {pipelineDir}\nhisat2 -x {params.genome} -p {threads} --min-intronlen 20 --max-intronlen 10000 --dta --time -1 {input.readOne} -2 {input.readTwo} -S {params.unsortedSam} &&     samtools sort {params.unsortedSam} -@ {threads} -O bam -o {output.sortedBam} &&         samtools index {output.sortedBam} &&             rm {params.unsortedSam}'\n        \"\"\"\n\nrule deDuplicates:\n    input:\n        sortedBam = f\"{config['resultDir']}step1_mappingUsingHisat/{{sample}}_sortedBam.bam\"\n    output:\n        sortedDedupBam = f\"{config['resultDir']}step2_deDuplicates/{{sample}}_sortedDedupBam.bam\"\n    params:\n        sortedDedupMat = f\"{config['resultDir']}step2_deDuplicates/{{sample}}_sortedDedupMat.txt\"\n    threads:1\n    shell:\n        \"\"\"\njpy_qsub.py --sm -t {threads} -n 1 -N deDuplicates --inline '\\\ncd {pipelineDir}\njava -jar /public/apps/picard_2.20.2/picard.jar MarkDuplicates VALIDATION_STRINGENCY=SILENT REMOVE_DUPLICATES=true SORTING_COLLECTION_SIZE_RATIO=0.01 I={input.sortedBam} O={output.sortedDedupBam} M={params.sortedDedupMat} &&    samtools index {output.sortedDedupBam}'\n        \"\"\"\n\nrule runStringTie:\n    input:\n        sortedDedupBam = f\"{config['resultDir']}step2_deDuplicates/{{sample}}_sortedDedupBam.bam\",\n        annoGff = config['annoGff']\n    output:\n        geneStringtieMerge = f\"{config['resultDir']}step3_runStringTie/{{sample}}/geneStringtieMerge.gtf\",\n        geneStringtieAbund = f\"{config['resultDir']}step3_runStringTie/{{sample}}/geneStringtieAbund.tsv\"\n\n    threads:16\n    shell:\n        \"\"\"\njpy_qsub.py --sm -t {threads} -n 1 -N runStringTie --inline '\\\ncd {pipelineDir}\nstringtie -A {output.geneStringtieAbund} -e --rf -B -p {threads} -G {input.annoGff} -o {output.geneStringtieMerge} {input.sortedDedupBam}'\n        \"\"\"\n\nrule extractRnaRpkm:\n    input:\n        geneStringtieMerge = f\"{config['resultDir']}step3_runStringTie/{{sample}}/geneStringtieMerge.gtf\"\n    output:\n        rpkmRna = f\"{config['resultDir']}step4_extractRnaRpkm/{{sample}}_rpkmRna.tsv\",\n        rpkmGene = f\"{config['resultDir']}step4_extractRnaRpkm/{{sample}}_rpkmGene.tsv\"\n    params:\n        step4Label = '{sample}',\n        step3ResultDir = f\"{config['resultDir']}step3_runStringTie/\"\n    threads:1\n    shell:\n        \"\"\"\njpy_qsub.py --sm -t {threads} -n 1 -N extractRnaRpkm --inline '\\\ncd {pipelineDir}\nRscript extract_rpkm_from_ballgown.R {params.step4Label}  {params.step3ResultDir}{params.step4Label} {output.rpkmRna} {output.rpkmGene}'\n        \"\"\"\n\nrule extractGeneCounts:\n    input:\n        allRnaRpkm = [f\"{config['resultDir']}step4_extractRnaRpkm/{sample}_rpkmRna.tsv\" for sample in config['sampleList']]\n    output:\n        allSampleGeneCounts = f\"{config['resultDir']}step5_extractGeneCounts/allSampleGeneCounts.csv\",\n        allSampleTransCounts = f\"{config['resultDir']}step5_extractGeneCounts/allSampleTransCounts.csv\"\n    params:\n        step3ResultDir = f\"{config['resultDir']}step3_runStringTie/\"\n    threads:1\n    shell:\n        \"\"\"\njpy_qsub.py --sm -t {threads} -n 1 -N extractGeneCounts --inline '\\\ncd {pipelineDir}\nprepDE.py -g {output.allSampleGeneCounts} -t {output.allSampleTransCounts} -i {params.step3ResultDir}'\n        \"\"\"\n\nrule calIrRatio:\n    input:\n        sortedDedupBam = f\"{config['resultDir']}step2_deDuplicates/{{sample}}_sortedDedupBam.bam\",\n        repreTrans = config['repreTrans']\n    output:\n        irRatio = f\"{config['resultDir']}step6_calIrRatio/{{sample}}_irRatio.tsv\"\n\n    threads:1\n    shell:\n        \"\"\"\njpy_qsub.py --sm -t {threads} -n 1 -N calIrRatio --inline '\\\ncd {pipelineDir}\npython cal_ir_ratio.from_bam.by_splicing_Read_type.version2.py {input.sortedDedupBam} {input.repreTrans} {output.irRatio} 1 4 1'\n        \"\"\"\n\nrule gatherIrRpkm:\n    input:\n        irRatio = f\"{config['resultDir']}step6_calIrRatio/{{sample}}_irRatio.tsv\",\n        rpkmGene = f\"{config['resultDir']}step4_extractRnaRpkm/{{sample}}_rpkmGene.tsv\"\n    output:\n        gatherIrRpkm = f\"{config['resultDir']}step7_gatherIrRpkm/{{sample}}_gatherIrRpkm.tsv\"\n\n    threads:1\n    shell:\n        \"\"\"\njpy_qsub.py --sm -t {threads} -n 1 -N gatherIrRpkm --inline '\\\ncd {pipelineDir}\npython gatherIrRpkm.py -i {input.irRatio} -R {input.rpkmGene} -o {output.gatherIrRpkm}'\n        \"\"\"\n\n\n"
    }
   ],
   "source": [
    "snakeFile.generateContent('/public/home/liuzj/scripts/pipeline/analyzeNGSData/snakemake/snakefile')"
   ]
  },
  {
   "cell_type": "code",
   "execution_count": null,
   "metadata": {},
   "outputs": [],
   "source": []
  }
 ],
 "metadata": {
  "language_info": {
   "codemirror_mode": {
    "name": "ipython",
    "version": 3
   },
   "file_extension": ".py",
   "mimetype": "text/x-python",
   "name": "python",
   "nbconvert_exporter": "python",
   "pygments_lexer": "ipython3",
   "version": "3.7.1-final"
  },
  "orig_nbformat": 2,
  "kernelspec": {
   "name": "python3",
   "display_name": "Python 3"
  }
 },
 "nbformat": 4,
 "nbformat_minor": 2
}