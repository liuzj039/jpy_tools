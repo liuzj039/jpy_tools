{
 "cells": [
  {
   "cell_type": "code",
   "execution_count": 13,
   "metadata": {},
   "outputs": [],
   "source": [
    "import jpy_tools.parseSnake as jps"
   ]
  },
  {
   "cell_type": "code",
   "execution_count": 14,
   "metadata": {},
   "outputs": [],
   "source": [
    "snakeFile = jps.SnakeMakeFile()"
   ]
  },
  {
   "cell_type": "code",
   "execution_count": 15,
   "metadata": {},
   "outputs": [
    {
     "name": "stdout",
     "output_type": "stream",
     "text": [
      "config contents:\n",
      "\n",
      "     resultDir      :/public/home/liuzj/scripts/pipeline/analyzeNGSData/results/\n",
      "       useQC        :True\n",
      "    pipelineDir     :/public/home/liuzj/scripts/pipeline/analyzeNGSData/scripts/\n",
      "    rawDataPath     :/public/home/liuzj/scripts/pipeline/analyzeNGSData/rawData/\n",
      "       genome       :/public/home/liuzj/data/Araport11/HISAT2INDEX\n",
      "      annoGtf       :/public/home/liuzj/data/Araport11/gene.gtf\n",
      "      annoGff       :/public/home/liuzj/data/Araport11/gene.gff\n",
      "     repreTrans     :/public/home/liuzj/data/Araport11/represent.proteinIdPos.txt\n",
      "-----------------\n",
      " configfile: \"/public/home/liuzj/scripts/pipeline/analyzeNGSData/snakemake/config_20210330.yaml\"\n",
      "pipelineDir = config['pipelineDir']\n",
      "rawDataPath = config['rawDataPath']\n",
      "\n",
      "import glob\n",
      "import re\n",
      "\n",
      "allR1Ls = glob.glob(f\"{rawDataPath}*_1.fastq.gz\")\n",
      "sampleLs = [re.search(f\"(?<={rawDataPath})[\\w\\W]+?(?=_1.fastq.gz)\", x)[0] for x in allR1Ls]\n"
     ]
    }
   ],
   "source": [
    "snakeHeader = jps.SnakeHeader(\n",
    "    snakeFile,\n",
    "    \"/public/home/liuzj/scripts/pipeline/analyzeNGSData/snakemake/config_20210330.yaml\",\n",
    ")\n",
    "snakeHeader.addFeature(\"rawDataPath\")\n",
    "snakeHeader.addCode(\n",
    "    \"\"\"\n",
    "import glob\n",
    "import re\n",
    "\n",
    "allR1Ls = glob.glob(f\"{rawDataPath}*_1.fastq.gz\")\n",
    "sampleLs = [re.search(f\"(?<={rawDataPath})[\\w\\W]+?(?=_1.fastq.gz)\", x)[0] for x in allR1Ls]\"\"\"\n",
    ")\n",
    "snakeHeader.addLsToPool('sample')\n",
    "snakeHeader.generateContent()"
   ]
  },
  {
   "cell_type": "code",
   "execution_count": 16,
   "metadata": {},
   "outputs": [
    {
     "name": "stderr",
     "output_type": "stream",
     "text": [
      "2021-03-30 14:26:04.223 | INFO     | jpy_tools.parseSnake:__init__:111 - Current step: 1\n"
     ]
    },
    {
     "name": "stdout",
     "output_type": "stream",
     "text": [
      "rule fastpQC:\n",
      "    input:\n",
      "        readOne = f'{rawDataPath}{{sample}}_1.fastq.gz',\n",
      "        readTwo = f'{rawDataPath}{{sample}}_2.fastq.gz'\n",
      "    output:\n",
      "        AfterQC_1 = f\"{config['resultDir']}step1_fastpQC/{{sample}}_AfterQC_1.fastq.gz\",\n",
      "        AfterQC_2 = f\"{config['resultDir']}step1_fastpQC/{{sample}}_AfterQC_2.fastq.gz\"\n",
      "    params:\n",
      "        useQC = config['useQC'],\n",
      "        qcReport = f\"{config['resultDir']}step1_fastpQC/{{sample}}_qcReport.html\",\n",
      "        gpu = \"0\"\n",
      "\n",
      "    threads:16\n",
      "    shell:\n",
      "        \"\"\"\n",
      "cd {pipelineDir}\n",
      "if [ {params.useQC} == True ]\n",
      "then\n",
      "    fastp -i {input.readOne} -o {output.AfterQC_1} -I {input.readTwo} -O {output.AfterQC_2} -w {threads} -h {params.qcReport}\n",
      "else\n",
      "    cp {input.readOne} {output.AfterQC_1} && cp {input.readTwo} {output.AfterQC_2}\n",
      "fi\n",
      "        \"\"\"\n",
      "\n",
      "\n"
     ]
    }
   ],
   "source": [
    "fastpQC = jps.SnakeRule(snakeFile, 'fastpQC',16)\n",
    "fastpQC.setInput(\n",
    "    c = dict(\n",
    "        readOne = 'f\\'{rawDataPath}{{sample}}_1.fastq.gz\\'', \\\n",
    "        readTwo = 'f\\'{rawDataPath}{{sample}}_2.fastq.gz\\'')\n",
    ")\n",
    "fastpQC.setOutput(\n",
    "    a = ['{{sample}}_AfterQC_1.fastq.gz', '{{sample}}_AfterQC_2.fastq.gz']\n",
    ")\n",
    "fastpQC.setParams(\n",
    "    b = ['useQC'] , a = ['{{sample}}_qcReport.html']\n",
    ")\n",
    "fastpQC.setShell(\"\"\"\n",
    "if [ {params.useQC} == True ]\n",
    "then\n",
    "    fastp -i {input.readOne} -o {output.AfterQC_1} -I {input.readTwo} -O {output.AfterQC_2} -w {threads} -h {params.qcReport}\n",
    "else\n",
    "    cp {input.readOne} {output.AfterQC_1} && cp {input.readTwo} {output.AfterQC_2}\n",
    "fi\n",
    "\"\"\")\n",
    "fastpQC.generateContent()"
   ]
  },
  {
   "cell_type": "code",
   "execution_count": 17,
   "metadata": {},
   "outputs": [
    {
     "name": "stderr",
     "output_type": "stream",
     "text": [
      "2021-03-30 14:26:04.423 | INFO     | jpy_tools.parseSnake:__init__:111 - Current step: 2\n",
      "2021-03-30 14:26:04.425 | INFO     | jpy_tools.parseSnake:__init__:111 - Current step: 3\n"
     ]
    },
    {
     "name": "stdout",
     "output_type": "stream",
     "text": [
      "rule mappingUsingHisat:\n",
      "    input:\n",
      "        AfterQC_1 = f\"{config['resultDir']}step1_fastpQC/{{sample}}_AfterQC_1.fastq.gz\",\n",
      "        AfterQC_2 = f\"{config['resultDir']}step1_fastpQC/{{sample}}_AfterQC_2.fastq.gz\"\n",
      "    output:\n",
      "        sortedBam = f\"{config['resultDir']}step2_mappingUsingHisat/{{sample}}_sortedBam.bam\"\n",
      "    params:\n",
      "        unsortedSam = f\"{config['resultDir']}step2_mappingUsingHisat/{{sample}}_unsortedSam.sam\",\n",
      "        genome = config['genome'],\n",
      "        gpu = \"0\"\n",
      "\n",
      "    threads:16\n",
      "    shell:\n",
      "        \"\"\"\n",
      "cd {pipelineDir}\n",
      "hisat2 -x {params.genome} -p {threads} --min-intronlen 20 --max-intronlen 10000 --dta --time -1 {input.AfterQC_1} -2 {input.AfterQC_2} -S {params.unsortedSam} &&     samtools sort {params.unsortedSam} -@ {threads} -O bam -o {output.sortedBam} &&         samtools index {output.sortedBam} &&             rm {params.unsortedSam}\n",
      "        \"\"\"\n",
      "\n",
      "\n",
      "rule deDuplicates:\n",
      "    input:\n",
      "        sortedBam = f\"{config['resultDir']}step2_mappingUsingHisat/{{sample}}_sortedBam.bam\"\n",
      "    output:\n",
      "        sortedDedupBam = f\"{config['resultDir']}step3_deDuplicates/{{sample}}_sortedDedupBam.bam\"\n",
      "    params:\n",
      "        sortedDedupMat = f\"{config['resultDir']}step3_deDuplicates/{{sample}}_sortedDedupMat.txt\",\n",
      "        gpu = \"8\"\n",
      "\n",
      "    threads:2\n",
      "    shell:\n",
      "        \"\"\"\n",
      "cd {pipelineDir}\n",
      "java -jar /public/apps/picard_2.20.2/picard.jar MarkDuplicates VALIDATION_STRINGENCY=SILENT REMOVE_DUPLICATES=true SORTING_COLLECTION_SIZE_RATIO=0.01 I={input.sortedBam} O={output.sortedDedupBam} M={params.sortedDedupMat} &&    samtools index {output.sortedDedupBam}\n",
      "        \"\"\"\n",
      "\n",
      "\n"
     ]
    }
   ],
   "source": [
    "mappingUsingHisat = jps.SnakeRule(snakeFile, 'mappingUsingHisat', 16)\n",
    "mappingUsingHisat.setInput(\n",
    "    a = ['{{sample}}_AfterQC_1.fastq.gz', '{{sample}}_AfterQC_2.fastq.gz']\n",
    ")\n",
    "mappingUsingHisat.setOutput(a = ['{{sample}}_sortedBam.bam'])\n",
    "mappingUsingHisat.setParams(a = ['{{sample}}_unsortedSam.sam'], b=['genome'])\n",
    "mappingUsingHisat.setShell(\"\"\"\n",
    "hisat2 -x {params.genome} -p {threads} --min-intronlen 20 --max-intronlen 10000 --dta --time -1 {input.AfterQC_1} -2 {input.AfterQC_2} -S {params.unsortedSam} &&\\\n",
    "     samtools sort {params.unsortedSam} -@ {threads} -O bam -o {output.sortedBam} &&\\\n",
    "         samtools index {output.sortedBam} &&\\\n",
    "             rm {params.unsortedSam}\n",
    "\"\"\")\n",
    "mappingUsingHisat.generateContent()\n",
    "\n",
    "deDuplicates = jps.SnakeRule(snakeFile, 'deDuplicates', 2, 8)\n",
    "deDuplicates.setInput(a = ['{{sample}}_sortedBam.bam'])\n",
    "deDuplicates.setOutput(a = ['{{sample}}_sortedDedupBam.bam'])\n",
    "deDuplicates.setParams(a = ['{{sample}}_sortedDedupMat.txt'])\n",
    "deDuplicates.setShell(\"\"\"\n",
    "java -jar /public/apps/picard_2.20.2/picard.jar MarkDuplicates VALIDATION_STRINGENCY=SILENT REMOVE_DUPLICATES=true SORTING_COLLECTION_SIZE_RATIO=0.01 I={input.sortedBam} O={output.sortedDedupBam} M={params.sortedDedupMat} &&\\\n",
    "    samtools index {output.sortedDedupBam}\n",
    "\"\"\")\n",
    "deDuplicates.generateContent()"
   ]
  },
  {
   "cell_type": "code",
   "execution_count": 18,
   "metadata": {},
   "outputs": [
    {
     "name": "stderr",
     "output_type": "stream",
     "text": [
      "2021-03-30 14:26:04.572 | INFO     | jpy_tools.parseSnake:__init__:111 - Current step: 4\n"
     ]
    },
    {
     "name": "stdout",
     "output_type": "stream",
     "text": [
      "rule runStringTie:\n",
      "    input:\n",
      "        sortedDedupBam = f\"{config['resultDir']}step3_deDuplicates/{{sample}}_sortedDedupBam.bam\",\n",
      "        annoGff = config['annoGff']\n",
      "    output:\n",
      "        geneStringtieMerge = f\"{config['resultDir']}step4_runStringTie/{{sample}}/geneStringtieMerge.gtf\",\n",
      "        geneStringtieAbund = f\"{config['resultDir']}step4_runStringTie/{{sample}}/geneStringtieAbund.tsv\"\n",
      "    params:\n",
      "        gpu = \"0\"\n",
      "\n",
      "    threads:16\n",
      "    shell:\n",
      "        \"\"\"\n",
      "cd {pipelineDir}\n",
      "stringtie -A {output.geneStringtieAbund} -e --rf -B -p {threads} -G {input.annoGff} -o {output.geneStringtieMerge} {input.sortedDedupBam}\n",
      "        \"\"\"\n",
      "\n",
      "\n"
     ]
    }
   ],
   "source": [
    "runStringTie = jps.SnakeRule(snakeFile, 'runStringTie', 16)\n",
    "runStringTie.setInput(a = ['{{sample}}_sortedDedupBam.bam'], b = ['annoGff'])\n",
    "runStringTie.setOutput(a = ['{{sample}}/geneStringtieMerge.gtf', '{{sample}}/geneStringtieAbund.tsv'])\n",
    "runStringTie.setShell(\"\"\"\n",
    "stringtie -A {output.geneStringtieAbund} -e --rf -B -p {threads} -G {input.annoGff} -o {output.geneStringtieMerge} {input.sortedDedupBam}\n",
    "\"\"\")\n",
    "runStringTie.generateContent()"
   ]
  },
  {
   "cell_type": "code",
   "execution_count": 19,
   "metadata": {},
   "outputs": [
    {
     "name": "stderr",
     "output_type": "stream",
     "text": [
      "2021-03-30 14:26:04.702 | INFO     | jpy_tools.parseSnake:__init__:111 - Current step: 5\n"
     ]
    },
    {
     "name": "stdout",
     "output_type": "stream",
     "text": [
      "rule extractRnaRpkm:\n",
      "    input:\n",
      "        geneStringtieMerge = f\"{config['resultDir']}step4_runStringTie/{{sample}}/geneStringtieMerge.gtf\"\n",
      "    output:\n",
      "        rpkmRna = f\"{config['resultDir']}step5_extractRnaRpkm/{{sample}}_rpkmRna.tsv\",\n",
      "        rpkmGene = f\"{config['resultDir']}step5_extractRnaRpkm/{{sample}}_rpkmGene.tsv\"\n",
      "    params:\n",
      "        step4ResultDir = f\"{config['resultDir']}step4_runStringTie/\",\n",
      "        sample = '{sample}',\n",
      "        gpu = \"0\"\n",
      "\n",
      "    threads:4\n",
      "    shell:\n",
      "        \"\"\"\n",
      "cd {pipelineDir}\n",
      "Rscript extract_rpkm_from_ballgown.R {params.sample}  {params.step4ResultDir}{params.sample} {output.rpkmRna} {output.rpkmGene}\n",
      "        \"\"\"\n",
      "\n",
      "\n"
     ]
    }
   ],
   "source": [
    "extractRnaRpkm = jps.SnakeRule(snakeFile, \"extractRnaRpkm\", 4)\n",
    "extractRnaRpkm.setInput(a=[\"geneStringtieMerge\"])\n",
    "extractRnaRpkm.setOutput(a=[\"{{sample}}_rpkmRna.tsv\", \"{{sample}}_rpkmGene.tsv\"])\n",
    "extractRnaRpkm.setParams(\n",
    "    d=dict(step4=[\"/\"]),a=['sample']\n",
    "    )\n",
    "extractRnaRpkm.setShell(\n",
    "    \"\"\"\n",
    "Rscript extract_rpkm_from_ballgown.R {params.sample}  {params.step4ResultDir}{params.sample} {output.rpkmRna} {output.rpkmGene} \n",
    "\"\"\"\n",
    ")\n",
    "extractRnaRpkm.generateContent()"
   ]
  },
  {
   "cell_type": "code",
   "execution_count": 20,
   "metadata": {},
   "outputs": [
    {
     "name": "stderr",
     "output_type": "stream",
     "text": [
      "2021-03-30 14:26:04.791 | INFO     | jpy_tools.parseSnake:__init__:111 - Current step: 6\n"
     ]
    },
    {
     "name": "stdout",
     "output_type": "stream",
     "text": [
      "rule extractGeneCounts:\n",
      "    input:\n",
      "        rpkmRna = [f\"{config['resultDir']}step5_extractRnaRpkm/{sample}_rpkmRna.tsv\" for sample in sampleLs]\n",
      "    output:\n",
      "        allSampleGeneCounts = f\"{config['resultDir']}step6_extractGeneCounts/allSampleGeneCounts.csv\",\n",
      "        allSampleTransCounts = f\"{config['resultDir']}step6_extractGeneCounts/allSampleTransCounts.csv\"\n",
      "    params:\n",
      "        step4ResultDir = f\"{config['resultDir']}step4_runStringTie/\",\n",
      "        gpu = \"0\"\n",
      "\n",
      "    threads:1\n",
      "    shell:\n",
      "        \"\"\"\n",
      "cd {pipelineDir}\n",
      "prepDE.py -g {output.allSampleGeneCounts} -t {output.allSampleTransCounts} -i {params.step4ResultDir}\n",
      "        \"\"\"\n",
      "\n",
      "\n"
     ]
    }
   ],
   "source": [
    "extractGeneCounts = jps.SnakeRule(snakeFile, 'extractGeneCounts', 1)\n",
    "extractGeneCounts.setInput(e = ['rpkmRna'])\n",
    "extractGeneCounts.setOutput(a = ['allSampleGeneCounts.csv', 'allSampleTransCounts.csv'])\n",
    "extractGeneCounts.setParams(d = dict(step4=['/']))\n",
    "extractGeneCounts.setShell(\"\"\"\n",
    "prepDE.py -g {output.allSampleGeneCounts} -t {output.allSampleTransCounts} -i {params.step4ResultDir}\n",
    "\"\"\")\n",
    "extractGeneCounts.generateContent()"
   ]
  },
  {
   "cell_type": "code",
   "execution_count": 21,
   "metadata": {},
   "outputs": [
    {
     "name": "stderr",
     "output_type": "stream",
     "text": [
      "2021-03-30 14:26:04.961 | INFO     | jpy_tools.parseSnake:__init__:111 - Current step: 7\n"
     ]
    },
    {
     "name": "stdout",
     "output_type": "stream",
     "text": [
      "rule calIrRatio:\n",
      "    input:\n",
      "        sortedDedupBam = f\"{config['resultDir']}step3_deDuplicates/{{sample}}_sortedDedupBam.bam\",\n",
      "        repreTrans = config['repreTrans']\n",
      "    output:\n",
      "        irRatio = f\"{config['resultDir']}step7_calIrRatio/{{sample}}_irRatio.tsv\"\n",
      "    params:\n",
      "        gpu = \"0\"\n",
      "\n",
      "    threads:1\n",
      "    shell:\n",
      "        \"\"\"\n",
      "cd {pipelineDir}\n",
      "python cal_ir_ratio.from_bam.by_splicing_Read_type.version2.py {input.sortedDedupBam} {input.repreTrans} {output.irRatio} 1 4 1\n",
      "        \"\"\"\n",
      "\n",
      "\n"
     ]
    }
   ],
   "source": [
    "calIrRatio = jps.SnakeRule(snakeFile, 'calIrRatio', 1)\n",
    "calIrRatio.setInput(a = ['{{sample}}_sortedDedupBam.bam'], b= ['repreTrans'])\n",
    "calIrRatio.setOutput(a = ['{{sample}}_irRatio.tsv'])\n",
    "calIrRatio.setShell(\"\"\"\n",
    "python cal_ir_ratio.from_bam.by_splicing_Read_type.version2.py {input.sortedDedupBam} {input.repreTrans} {output.irRatio} 1 4 1\n",
    "\"\"\")\n",
    "calIrRatio.generateContent()"
   ]
  },
  {
   "cell_type": "code",
   "execution_count": 22,
   "metadata": {},
   "outputs": [
    {
     "name": "stderr",
     "output_type": "stream",
     "text": [
      "2021-03-30 14:26:05.082 | INFO     | jpy_tools.parseSnake:__init__:111 - Current step: 8\n"
     ]
    },
    {
     "name": "stdout",
     "output_type": "stream",
     "text": [
      "rule gatherIrRpkm:\n",
      "    input:\n",
      "        irRatio = f\"{config['resultDir']}step7_calIrRatio/{{sample}}_irRatio.tsv\",\n",
      "        rpkmGene = f\"{config['resultDir']}step5_extractRnaRpkm/{{sample}}_rpkmGene.tsv\"\n",
      "    output:\n",
      "        gatherIrRpkm = f\"{config['resultDir']}step8_gatherIrRpkm/{{sample}}_gatherIrRpkm.tsv\"\n",
      "    params:\n",
      "        gpu = \"0\"\n",
      "\n",
      "    threads:1\n",
      "    shell:\n",
      "        \"\"\"\n",
      "cd {pipelineDir}\n",
      "python gatherIrRpkm.py -i {input.irRatio} -R {input.rpkmGene} -o {output.gatherIrRpkm}\n",
      "        \"\"\"\n",
      "\n",
      "\n"
     ]
    }
   ],
   "source": [
    "gatherIrRpkm = jps.SnakeRule(snakeFile, 'gatherIrRpkm', 1)\n",
    "gatherIrRpkm.setInput(a = ['{{sample}}_irRatio.tsv', '{{sample}}_rpkmGene.tsv'])\n",
    "gatherIrRpkm.setOutput(a = ['{{sample}}_gatherIrRpkm.tsv'])\n",
    "gatherIrRpkm.setShell(\"\"\"\n",
    "python gatherIrRpkm.py -i {input.irRatio} -R {input.rpkmGene} -o {output.gatherIrRpkm}\n",
    "\"\"\")\n",
    "gatherIrRpkm.generateContent()"
   ]
  },
  {
   "cell_type": "code",
   "execution_count": 23,
   "metadata": {},
   "outputs": [
    {
     "name": "stdout",
     "output_type": "stream",
     "text": [
      "rule all:\n",
      "    input:\n",
      "        [f\"{config['resultDir']}step8_gatherIrRpkm/{sample}_gatherIrRpkm.tsv\" for sample in sampleLs],\n",
      "        f\"{config['resultDir']}step6_extractGeneCounts/allSampleGeneCounts.csv\"\n"
     ]
    }
   ],
   "source": [
    "ruleAll = jps.SnakeAll(snakeFile)\n",
    "ruleAll.addOutput('gatherIrRpkm', 'allSampleGeneCounts')\n",
    "ruleAll.generateContent()"
   ]
  },
  {
   "cell_type": "code",
   "execution_count": 24,
   "metadata": {
    "tags": []
   },
   "outputs": [
    {
     "name": "stdout",
     "output_type": "stream",
     "text": [
      "configfile: \"/public/home/liuzj/scripts/pipeline/analyzeNGSData/snakemake/config_20210330.yaml\"\n",
      "pipelineDir = config['pipelineDir']\n",
      "rawDataPath = config['rawDataPath']\n",
      "\n",
      "import glob\n",
      "import re\n",
      "\n",
      "allR1Ls = glob.glob(f\"{rawDataPath}*_1.fastq.gz\")\n",
      "sampleLs = [re.search(f\"(?<={rawDataPath})[\\w\\W]+?(?=_1.fastq.gz)\", x)[0] for x in allR1Ls]\n",
      "\n",
      "rule all:\n",
      "    input:\n",
      "        [f\"{config['resultDir']}step8_gatherIrRpkm/{sample}_gatherIrRpkm.tsv\" for sample in sampleLs],\n",
      "        f\"{config['resultDir']}step6_extractGeneCounts/allSampleGeneCounts.csv\"\n",
      "\n",
      "rule fastpQC:\n",
      "    input:\n",
      "        readOne = f'{rawDataPath}{{sample}}_1.fastq.gz',\n",
      "        readTwo = f'{rawDataPath}{{sample}}_2.fastq.gz'\n",
      "    output:\n",
      "        AfterQC_1 = f\"{config['resultDir']}step1_fastpQC/{{sample}}_AfterQC_1.fastq.gz\",\n",
      "        AfterQC_2 = f\"{config['resultDir']}step1_fastpQC/{{sample}}_AfterQC_2.fastq.gz\"\n",
      "    params:\n",
      "        useQC = config['useQC'],\n",
      "        qcReport = f\"{config['resultDir']}step1_fastpQC/{{sample}}_qcReport.html\",\n",
      "        gpu = \"0\"\n",
      "\n",
      "    threads:16\n",
      "    shell:\n",
      "        \"\"\"\n",
      "cd {pipelineDir}\n",
      "if [ {params.useQC} == True ]\n",
      "then\n",
      "    fastp -i {input.readOne} -o {output.AfterQC_1} -I {input.readTwo} -O {output.AfterQC_2} -w {threads} -h {params.qcReport}\n",
      "else\n",
      "    cp {input.readOne} {output.AfterQC_1} && cp {input.readTwo} {output.AfterQC_2}\n",
      "fi\n",
      "        \"\"\"\n",
      "\n",
      "rule mappingUsingHisat:\n",
      "    input:\n",
      "        AfterQC_1 = f\"{config['resultDir']}step1_fastpQC/{{sample}}_AfterQC_1.fastq.gz\",\n",
      "        AfterQC_2 = f\"{config['resultDir']}step1_fastpQC/{{sample}}_AfterQC_2.fastq.gz\"\n",
      "    output:\n",
      "        sortedBam = f\"{config['resultDir']}step2_mappingUsingHisat/{{sample}}_sortedBam.bam\"\n",
      "    params:\n",
      "        unsortedSam = f\"{config['resultDir']}step2_mappingUsingHisat/{{sample}}_unsortedSam.sam\",\n",
      "        genome = config['genome'],\n",
      "        gpu = \"0\"\n",
      "\n",
      "    threads:16\n",
      "    shell:\n",
      "        \"\"\"\n",
      "cd {pipelineDir}\n",
      "hisat2 -x {params.genome} -p {threads} --min-intronlen 20 --max-intronlen 10000 --dta --time -1 {input.AfterQC_1} -2 {input.AfterQC_2} -S {params.unsortedSam} &&     samtools sort {params.unsortedSam} -@ {threads} -O bam -o {output.sortedBam} &&         samtools index {output.sortedBam} &&             rm {params.unsortedSam}\n",
      "        \"\"\"\n",
      "\n",
      "rule deDuplicates:\n",
      "    input:\n",
      "        sortedBam = f\"{config['resultDir']}step2_mappingUsingHisat/{{sample}}_sortedBam.bam\"\n",
      "    output:\n",
      "        sortedDedupBam = f\"{config['resultDir']}step3_deDuplicates/{{sample}}_sortedDedupBam.bam\"\n",
      "    params:\n",
      "        sortedDedupMat = f\"{config['resultDir']}step3_deDuplicates/{{sample}}_sortedDedupMat.txt\",\n",
      "        gpu = \"8\"\n",
      "\n",
      "    threads:2\n",
      "    shell:\n",
      "        \"\"\"\n",
      "cd {pipelineDir}\n",
      "java -jar /public/apps/picard_2.20.2/picard.jar MarkDuplicates VALIDATION_STRINGENCY=SILENT REMOVE_DUPLICATES=true SORTING_COLLECTION_SIZE_RATIO=0.01 I={input.sortedBam} O={output.sortedDedupBam} M={params.sortedDedupMat} &&    samtools index {output.sortedDedupBam}\n",
      "        \"\"\"\n",
      "\n",
      "rule runStringTie:\n",
      "    input:\n",
      "        sortedDedupBam = f\"{config['resultDir']}step3_deDuplicates/{{sample}}_sortedDedupBam.bam\",\n",
      "        annoGff = config['annoGff']\n",
      "    output:\n",
      "        geneStringtieMerge = f\"{config['resultDir']}step4_runStringTie/{{sample}}/geneStringtieMerge.gtf\",\n",
      "        geneStringtieAbund = f\"{config['resultDir']}step4_runStringTie/{{sample}}/geneStringtieAbund.tsv\"\n",
      "    params:\n",
      "        gpu = \"0\"\n",
      "\n",
      "    threads:16\n",
      "    shell:\n",
      "        \"\"\"\n",
      "cd {pipelineDir}\n",
      "stringtie -A {output.geneStringtieAbund} -e --rf -B -p {threads} -G {input.annoGff} -o {output.geneStringtieMerge} {input.sortedDedupBam}\n",
      "        \"\"\"\n",
      "\n",
      "rule extractRnaRpkm:\n",
      "    input:\n",
      "        geneStringtieMerge = f\"{config['resultDir']}step4_runStringTie/{{sample}}/geneStringtieMerge.gtf\"\n",
      "    output:\n",
      "        rpkmRna = f\"{config['resultDir']}step5_extractRnaRpkm/{{sample}}_rpkmRna.tsv\",\n",
      "        rpkmGene = f\"{config['resultDir']}step5_extractRnaRpkm/{{sample}}_rpkmGene.tsv\"\n",
      "    params:\n",
      "        step4ResultDir = f\"{config['resultDir']}step4_runStringTie/\",\n",
      "        sample = '{sample}',\n",
      "        gpu = \"0\"\n",
      "\n",
      "    threads:4\n",
      "    shell:\n",
      "        \"\"\"\n",
      "cd {pipelineDir}\n",
      "Rscript extract_rpkm_from_ballgown.R {params.sample}  {params.step4ResultDir}{params.sample} {output.rpkmRna} {output.rpkmGene}\n",
      "        \"\"\"\n",
      "\n",
      "rule extractGeneCounts:\n",
      "    input:\n",
      "        rpkmRna = [f\"{config['resultDir']}step5_extractRnaRpkm/{sample}_rpkmRna.tsv\" for sample in sampleLs]\n",
      "    output:\n",
      "        allSampleGeneCounts = f\"{config['resultDir']}step6_extractGeneCounts/allSampleGeneCounts.csv\",\n",
      "        allSampleTransCounts = f\"{config['resultDir']}step6_extractGeneCounts/allSampleTransCounts.csv\"\n",
      "    params:\n",
      "        step4ResultDir = f\"{config['resultDir']}step4_runStringTie/\",\n",
      "        gpu = \"0\"\n",
      "\n",
      "    threads:1\n",
      "    shell:\n",
      "        \"\"\"\n",
      "cd {pipelineDir}\n",
      "prepDE.py -g {output.allSampleGeneCounts} -t {output.allSampleTransCounts} -i {params.step4ResultDir}\n",
      "        \"\"\"\n",
      "\n",
      "rule calIrRatio:\n",
      "    input:\n",
      "        sortedDedupBam = f\"{config['resultDir']}step3_deDuplicates/{{sample}}_sortedDedupBam.bam\",\n",
      "        repreTrans = config['repreTrans']\n",
      "    output:\n",
      "        irRatio = f\"{config['resultDir']}step7_calIrRatio/{{sample}}_irRatio.tsv\"\n",
      "    params:\n",
      "        gpu = \"0\"\n",
      "\n",
      "    threads:1\n",
      "    shell:\n",
      "        \"\"\"\n",
      "cd {pipelineDir}\n",
      "python cal_ir_ratio.from_bam.by_splicing_Read_type.version2.py {input.sortedDedupBam} {input.repreTrans} {output.irRatio} 1 4 1\n",
      "        \"\"\"\n",
      "\n",
      "rule gatherIrRpkm:\n",
      "    input:\n",
      "        irRatio = f\"{config['resultDir']}step7_calIrRatio/{{sample}}_irRatio.tsv\",\n",
      "        rpkmGene = f\"{config['resultDir']}step5_extractRnaRpkm/{{sample}}_rpkmGene.tsv\"\n",
      "    output:\n",
      "        gatherIrRpkm = f\"{config['resultDir']}step8_gatherIrRpkm/{{sample}}_gatherIrRpkm.tsv\"\n",
      "    params:\n",
      "        gpu = \"0\"\n",
      "\n",
      "    threads:1\n",
      "    shell:\n",
      "        \"\"\"\n",
      "cd {pipelineDir}\n",
      "python gatherIrRpkm.py -i {input.irRatio} -R {input.rpkmGene} -o {output.gatherIrRpkm}\n",
      "        \"\"\"\n",
      "\n",
      "\n"
     ]
    }
   ],
   "source": [
    "snakeFile.generateContent(\"/public/home/liuzj/scripts/pipeline/analyzeNGSData/snakemake/snakefile_20210330\")"
   ]
  },
  {
   "cell_type": "code",
   "execution_count": null,
   "metadata": {},
   "outputs": [],
   "source": []
  },
  {
   "cell_type": "code",
   "execution_count": null,
   "metadata": {},
   "outputs": [],
   "source": []
  },
  {
   "cell_type": "code",
   "execution_count": null,
   "metadata": {},
   "outputs": [],
   "source": []
  }
 ],
 "metadata": {
  "kernelspec": {
   "display_name": "Python 3",
   "name": "python3"
  },
  "language_info": {
   "codemirror_mode": {
    "name": "ipython",
    "version": 3
   },
   "file_extension": ".py",
   "mimetype": "text/x-python",
   "name": "python",
   "nbconvert_exporter": "python",
   "pygments_lexer": "ipython3",
   "version": "3.8.5-final"
  },
  "orig_nbformat": 2
 },
 "nbformat": 4,
 "nbformat_minor": 2
}