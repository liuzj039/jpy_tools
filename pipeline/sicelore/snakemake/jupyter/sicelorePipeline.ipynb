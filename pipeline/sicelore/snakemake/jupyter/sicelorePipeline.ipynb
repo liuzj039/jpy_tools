{
 "cells": [
  {
   "cell_type": "code",
   "execution_count": 76,
   "metadata": {},
   "outputs": [],
   "source": [
    "import jpy_tools.parseSnake as jps"
   ]
  },
  {
   "cell_type": "code",
   "execution_count": 77,
   "metadata": {},
   "outputs": [],
   "source": [
    "SNAKE_PATH = '/public/home/liuzj/scripts/pipeline/sicelore/snakemake/snakefile'"
   ]
  },
  {
   "cell_type": "code",
   "execution_count": 78,
   "metadata": {},
   "outputs": [],
   "source": [
    "snakefile = jps.SnakeMakeFile()"
   ]
  },
  {
   "cell_type": "code",
   "execution_count": 79,
   "metadata": {},
   "outputs": [
    {
     "output_type": "stream",
     "name": "stdout",
     "text": [
      "config contents:\n\n    pipelineDir     :/public/home/liuzj/scripts/pipeline/sicelore/scripts/\n\n     resultDir      :/public/home/liuzj/projects/split_barcode/01_20200507/10_sicelore/siceloreResult_20200611/\n\n    barcodeFile     :/public/home/liuzj/projects/split_barcode/01_20200507/10_sicelore/00_data/barcodes.tsv\n\n cellrangerBamFile  :/public/home/liuzj/projects/split_barcode/00_before0507/02_results/TAIR10_5000_5000_5000/outs/possorted_genome_bam.bam\n\n      geneBed       :/public/home/liuzj/data/Araport11/gene.bed\n\n    genomeFasta     :/public/home/liuzj/data/Araport11/genome.fa\n\n    nanoporeRead    :/public/home/liuzj/projects/split_barcode/01_20200507/00_rawdata/01_basecalledData/00_basecalledData/all/all.fastq\n\n      refFlat       :/public/home/liuzj/data/Araport11/gene.refFlat\n\n"
     ]
    }
   ],
   "source": [
    "header = jps.SnakeHeader(snakefile, '/public/home/liuzj/scripts/pipeline/sicelore/snakemake/config.yaml')\n",
    "header.generateContent()"
   ]
  },
  {
   "cell_type": "code",
   "execution_count": 80,
   "metadata": {},
   "outputs": [],
   "source": [
    "parseIlluminaBam = jps.SnakeRule(snakefile, 'parseIlluminaBam', 1)\n",
    "parseIlluminaBam.setInput(b = ['barcodeFile', 'cellrangerBamFile'])\n",
    "parseIlluminaBam.setOutput(a = ['illuminaIndex.index'])\n",
    "parseIlluminaBam.setShell(\"\"\"\n",
    "java -jar Jar/IlluminaParser-1.0.jar -i {input.cellrangerBamFile} -o {output.illuminaIndex} -t {input.barcodeFile} -b CB -g GN -u UB\n",
    "\"\"\")\n",
    "parseIlluminaBam.generateContent()"
   ]
  },
  {
   "cell_type": "code",
   "execution_count": 81,
   "metadata": {},
   "outputs": [],
   "source": [
    "scanNanoporeReads = jps.SnakeRule(snakefile, 'scanNanoporeReads', 2)\n",
    "scanNanoporeReads.setInput(b = ['nanoporeRead'])\n",
    "scanNanoporeReads.setParams( a = ['scanNanoporeReads/', 'allNanopore.fastq'])\n",
    "scanNanoporeReads.setOutput(a = ['scanNanoporeReads/passed/allNanoporeFWD.fastq'])\n",
    "scanNanoporeReads.setShell(\"\"\"\n",
    "cp {input.nanoporeRead} {params.allNanopore} &&\\\n",
    "java -jar Jar/NanoporeReadScanner-0.5.jar -i {params.allNanopore} -o {params.scanNanoporeReads}\n",
    "\"\"\")\n",
    "scanNanoporeReads.generateContent()"
   ]
  },
  {
   "cell_type": "code",
   "execution_count": 82,
   "metadata": {},
   "outputs": [],
   "source": [
    "mapReadsToGenome = jps.SnakeRule(snakefile, 'mapReadsToGenome', 3, threads=56)\n",
    "mapReadsToGenome.setInput(b = ['geneBed', 'genomeFasta'], a = ['allNanoporeFWD'])\n",
    "mapReadsToGenome.setOutput(a = ['filtedReads.bam'])\n",
    "mapReadsToGenome.setShell(\"\"\"\n",
    "minimap2 -ax splice -uf --MD --sam-hit-only -t {threads} --junc-bed {input.geneBed} {input.genomeFasta} {input.allNanoporeFWD} |\\\n",
    "samtools sort - -o {output.filtedReads} &&\\\n",
    "samtools index {output.filtedReads}\n",
    "\"\"\")\n",
    "mapReadsToGenome.generateContent()"
   ]
  },
  {
   "cell_type": "code",
   "execution_count": 83,
   "metadata": {},
   "outputs": [],
   "source": [
    "tagReadsWithGeneName = jps.SnakeRule(snakefile, 'tagReadsWithGeneName', 4)\n",
    "tagReadsWithGeneName.setInput(b = ['refFlat'], a = ['filtedReads.bam'])\n",
    "tagReadsWithGeneName.setOutput(a = ['addGeneName.bam'])\n",
    "tagReadsWithGeneName.setShell(\"\"\"\n",
    "java -jar -Xmx64g Jar/Sicelore-1.0.jar AddGeneNameTag I={input.filtedReads} O={output.addGeneName} REFFLAT={input.refFlat} GENETAG=GE ALLOW_MULTI_GENE_READS=true USE_STRAND_INFO=true VALIDATION_STRINGENCY=SILENT &&\\\n",
    "samtools index {output.addGeneName}\n",
    "\"\"\")\n",
    "tagReadsWithGeneName.generateContent()"
   ]
  },
  {
   "cell_type": "code",
   "execution_count": 84,
   "metadata": {},
   "outputs": [],
   "source": [
    "tagReadsWithSeq = jps.SnakeRule(snakefile, 'tagReadsWithSeq', 5)\n",
    "tagReadsWithSeq.setInput(a = ['addGeneName.bam','allNanoporeFWD'])\n",
    "tagReadsWithSeq.setOutput(a = ['addSeq.bam'])\n",
    "tagReadsWithSeq.setShell(\"\"\"\n",
    "java -jar -Xmx64g Jar/Sicelore-1.0.jar AddBamReadSequenceTag I={input.addGeneName} O={output.addSeq} FASTQ={input.allNanoporeFWD} VALIDATION_STRINGENCY=SILENT &&\\\n",
    "samtools index {output.addSeq}\n",
    "\"\"\")\n",
    "tagReadsWithSeq.generateContent()"
   ]
  },
  {
   "cell_type": "code",
   "execution_count": 85,
   "metadata": {},
   "outputs": [],
   "source": [
    "tagBarcodeUmi = jps.SnakeRule(snakefile, 'tagBarcodeUmi', 6, threads=56)\n",
    "tagBarcodeUmi.setInput(a = ['addSeq.bam', 'illuminaIndex.index'])\n",
    "tagBarcodeUmi.setOutput(a = ['addBarcodeUmi.bam','addBarcodeUmi_umifound_.bam', 'addBarcodeUmiLog.log'])\n",
    "tagBarcodeUmi.setShell(\"\"\"\n",
    "java -jar -Xmx64g Jar/NanoporeBC_UMI_finder-1.0.jar -i {input.addSeq} -o {output.addBarcodeUmi} -k {input.illuminaIndex} --ncpu {threads} -b 3 -u 3 --logFile {output.addBarcodeUmiLog}\n",
    "\"\"\")\n",
    "tagBarcodeUmi.generateContent()"
   ]
  },
  {
   "cell_type": "code",
   "execution_count": 86,
   "metadata": {},
   "outputs": [],
   "source": [
    "computeConsensusSeq = jps.SnakeRule(snakefile, 'computeConsensusSeq', 7,threads=56)\n",
    "computeConsensusSeq.setInput(a = ['addBarcodeUmi_umifound_.bam'])\n",
    "computeConsensusSeq.setOutput(a = ['allConsensus.fa'])\n",
    "computeConsensusSeq.setParams(a = ['computeConsunsusTemp/'])\n",
    "computeConsensusSeq.setShell(\"\"\"\n",
    "mkdir {params.computeConsunsusTemp} &&\\\n",
    "java -jar -Xmx80g Jar/Sicelore-1.0.jar ComputeConsensus T={threads} I={input.addBarcodeUmi_umifound_} O={output.allConsensus} TMPDIR={params.computeConsunsusTemp}\n",
    "\"\"\")\n",
    "computeConsensusSeq.generateContent()"
   ]
  },
  {
   "cell_type": "code",
   "execution_count": 87,
   "metadata": {},
   "outputs": [],
   "source": [
    "mapMolToGenome = jps.SnakeRule(snakefile, 'mapMolToGenome', 8, threads=56)\n",
    "mapMolToGenome.setInput(b = ['genomeFasta', 'geneBed'], a = ['allConsensus.fa'])\n",
    "mapMolToGenome.setOutput(a = ['molMappingResult.bam'])\n",
    "mapMolToGenome.setShell(\"\"\"\n",
    "minimap2 -ax splice --secondary=no -uf --MD --sam-hit-only -t {threads} --junc-bed {input.geneBed} {input.genomeFasta} {input.allConsensus} |\\\n",
    "samtools sort - -o {output.molMappingResult} && \\\n",
    "samtools index {output.molMappingResult}\n",
    "\"\"\")\n",
    "mapMolToGenome.generateContent()"
   ]
  },
  {
   "cell_type": "code",
   "execution_count": 88,
   "metadata": {},
   "outputs": [],
   "source": [
    "tagMolBc = jps.SnakeRule(snakefile, 'tagMolBc', 9, 1)\n",
    "tagMolBc.setInput(a = ['molMappingResult.bam'])\n",
    "tagMolBc.setOutput(a = ['molMappingResultBc.bam'])\n",
    "tagMolBc.setShell(\"\"\"\n",
    "java -jar -Xmx20g Jar/Sicelore-1.0.jar AddBamMoleculeTags I={input.molMappingResult} O={output.molMappingResultBc} &&\\\n",
    "samtools index {output.molMappingResultBc}\n",
    "\"\"\")\n",
    "tagMolBc.generateContent()"
   ]
  },
  {
   "cell_type": "code",
   "execution_count": 89,
   "metadata": {},
   "outputs": [],
   "source": [
    "tagMolGeneName = jps.SnakeRule(snakefile, 'tagMolGeneName', 10, 1)\n",
    "tagMolGeneName.setInput(a = ['molMappingResultBc.bam'], b = ['refFlat'])\n",
    "tagMolGeneName.setOutput(a = ['molMappingResultBcFinal.bam'])\n",
    "tagMolGeneName.setShell(\"\"\"\n",
    "java -jar -Xmx20g Jar/Sicelore-1.0.jar AddGeneNameTag I={input.molMappingResultBc} O={output.molMappingResultBcFinal} REFFLAT={input.refFlat} GENETAG=GE ALLOW_MULTI_GENE_READS=true USE_STRAND_INFO=true VALIDATION_STRINGENCY=SILENT &&\\\n",
    "samtools index {output.molMappingResultBcFinal}\n",
    "\"\"\")\n",
    "tagMolGeneName.generateContent()"
   ]
  },
  {
   "cell_type": "code",
   "execution_count": 90,
   "metadata": {},
   "outputs": [],
   "source": [
    "generateExpressionMatrix = jps.SnakeRule(snakefile, 'generateExpressionMatrix', 11, 1)\n",
    "generateExpressionMatrix.setInput(a = ['molMappingResultBcFinal.bam'], b = ['refFlat', 'barcodeFile'])\n",
    "generateExpressionMatrix.setOutput(a = ['generateExpressionMatrixfinished.empty'])\n",
    "generateExpressionMatrix.setParams(a = ['expressionMatrixDir/'])\n",
    "generateExpressionMatrix.setShell(\"\"\"\n",
    "mkdir {params.expressionMatrixDir} &&\\\n",
    "java -jar -Xmx20g Jar/Sicelore-1.0.jar IsoformMatrix DELTA=2 METHOD=STRICT ISOBAM=true GENETAG=GE I={input.molMappingResultBcFinal} REFFLAT={input.refFlat} CSV={input.barcodeFile} OUTDIR={params.expressionMatrixDir} PREFIX=sicmol VALIDATION_STRINGENCY=SILENT && \\\n",
    "touch {output.generateExpressionMatrixfinished}\n",
    "\"\"\")\n",
    "generateExpressionMatrix.generateContent()"
   ]
  },
  {
   "cell_type": "code",
   "execution_count": 91,
   "metadata": {},
   "outputs": [],
   "source": [
    "snakeAll = jps.SnakeAll(snakefile)\n",
    "snakeAll.generateContent(generateExpressionMatrixfinished = 0)"
   ]
  },
  {
   "cell_type": "code",
   "execution_count": 92,
   "metadata": {
    "tags": []
   },
   "outputs": [
    {
     "output_type": "stream",
     "name": "stdout",
     "text": [
      "configfile: \"/public/home/liuzj/scripts/pipeline/sicelore/snakemake/config.yaml\"\npipelineDir = config['pipelineDir']\n\n\nrule all:\n    input:\n        generateExpressionMatrixfinished = f\"{config['resultDir']}step11_generateExpressionMatrix/generateExpressionMatrixfinished.empty\"\n\nrule parseIlluminaBam:\n    input:\n        barcodeFile = config['barcodeFile'],\n        cellrangerBamFile = config['cellrangerBamFile']\n    output:\n        illuminaIndex = f\"{config['resultDir']}step1_parseIlluminaBam/illuminaIndex.index\"\n    params:\n        gpu = \"0\"\n\n    threads:1\n    shell:\n        \"\"\"\ncd {pipelineDir}\njava -jar Jar/IlluminaParser-1.0.jar -i {input.cellrangerBamFile} -o {output.illuminaIndex} -t {input.barcodeFile} -b CB -g GN -u UB\n        \"\"\"\n\nrule scanNanoporeReads:\n    input:\n        nanoporeRead = config['nanoporeRead']\n    output:\n        allNanoporeFWD = f\"{config['resultDir']}step2_scanNanoporeReads/scanNanoporeReads/passed/allNanoporeFWD.fastq\"\n    params:\n        scanNanoporeReads = f\"{config['resultDir']}step2_scanNanoporeReads/scanNanoporeReads/\",\n        allNanopore = f\"{config['resultDir']}step2_scanNanoporeReads/allNanopore.fastq\",\n        gpu = \"0\"\n\n    threads:1\n    shell:\n        \"\"\"\ncd {pipelineDir}\ncp {input.nanoporeRead} {params.allNanopore} &&java -jar Jar/NanoporeReadScanner-0.5.jar -i {params.allNanopore} -o {params.scanNanoporeReads}\n        \"\"\"\n\nrule mapReadsToGenome:\n    input:\n        geneBed = config['geneBed'],\n        genomeFasta = config['genomeFasta'],\n        allNanoporeFWD = f\"{config['resultDir']}step2_scanNanoporeReads/scanNanoporeReads/passed/allNanoporeFWD.fastq\"\n    output:\n        filtedReads = f\"{config['resultDir']}step3_mapReadsToGenome/filtedReads.bam\"\n    params:\n        gpu = \"0\"\n\n    threads:56\n    shell:\n        \"\"\"\ncd {pipelineDir}\nminimap2 -ax splice -uf --MD --sam-hit-only -t {threads} --junc-bed {input.geneBed} {input.genomeFasta} {input.allNanoporeFWD} |samtools sort - -o {output.filtedReads} &&samtools index {output.filtedReads}\n        \"\"\"\n\nrule tagReadsWithGeneName:\n    input:\n        refFlat = config['refFlat'],\n        filtedReads = f\"{config['resultDir']}step3_mapReadsToGenome/filtedReads.bam\"\n    output:\n        addGeneName = f\"{config['resultDir']}step4_tagReadsWithGeneName/addGeneName.bam\"\n    params:\n        gpu = \"0\"\n\n    threads:1\n    shell:\n        \"\"\"\ncd {pipelineDir}\njava -jar -Xmx64g Jar/Sicelore-1.0.jar AddGeneNameTag I={input.filtedReads} O={output.addGeneName} REFFLAT={input.refFlat} GENETAG=GE ALLOW_MULTI_GENE_READS=true USE_STRAND_INFO=true VALIDATION_STRINGENCY=SILENT &&samtools index {output.addGeneName}\n        \"\"\"\n\nrule tagReadsWithSeq:\n    input:\n        addGeneName = f\"{config['resultDir']}step4_tagReadsWithGeneName/addGeneName.bam\",\n        allNanoporeFWD = f\"{config['resultDir']}step2_scanNanoporeReads/scanNanoporeReads/passed/allNanoporeFWD.fastq\"\n    output:\n        addSeq = f\"{config['resultDir']}step5_tagReadsWithSeq/addSeq.bam\"\n    params:\n        gpu = \"0\"\n\n    threads:1\n    shell:\n        \"\"\"\ncd {pipelineDir}\njava -jar -Xmx64g Jar/Sicelore-1.0.jar AddBamReadSequenceTag I={input.addGeneName} O={output.addSeq} FASTQ={input.allNanoporeFWD} VALIDATION_STRINGENCY=SILENT &&samtools index {output.addSeq}\n        \"\"\"\n\nrule tagBarcodeUmi:\n    input:\n        addSeq = f\"{config['resultDir']}step5_tagReadsWithSeq/addSeq.bam\",\n        illuminaIndex = f\"{config['resultDir']}step1_parseIlluminaBam/illuminaIndex.index\"\n    output:\n        addBarcodeUmi = f\"{config['resultDir']}step6_tagBarcodeUmi/addBarcodeUmi.bam\",\n        addBarcodeUmi_umifound_ = f\"{config['resultDir']}step6_tagBarcodeUmi/addBarcodeUmi_umifound_.bam\",\n        addBarcodeUmiLog = f\"{config['resultDir']}step6_tagBarcodeUmi/addBarcodeUmiLog.log\"\n    params:\n        gpu = \"0\"\n\n    threads:56\n    shell:\n        \"\"\"\ncd {pipelineDir}\njava -jar -Xmx64g Jar/NanoporeBC_UMI_finder-1.0.jar -i {input.addSeq} -o {output.addBarcodeUmi} -k {input.illuminaIndex} --ncpu {threads} -b 3 -u 3 --logFile {output.addBarcodeUmiLog}\n        \"\"\"\n\nrule computeConsensusSeq:\n    input:\n        addBarcodeUmi_umifound_ = f\"{config['resultDir']}step6_tagBarcodeUmi/addBarcodeUmi_umifound_.bam\"\n    output:\n        allConsensus = f\"{config['resultDir']}step7_computeConsensusSeq/allConsensus.fa\"\n    params:\n        computeConsunsusTemp = f\"{config['resultDir']}step7_computeConsensusSeq/computeConsunsusTemp/\",\n        gpu = \"0\"\n\n    threads:56\n    shell:\n        \"\"\"\ncd {pipelineDir}\nmkdir {params.computeConsunsusTemp} &&java -jar -Xmx80g Jar/Sicelore-1.0.jar ComputeConsensus T={threads} I={input.addBarcodeUmi_umifound_} O={output.allConsensus} TMPDIR={params.computeConsunsusTemp}\n        \"\"\"\n\nrule mapMolToGenome:\n    input:\n        genomeFasta = config['genomeFasta'],\n        geneBed = config['geneBed'],\n        allConsensus = f\"{config['resultDir']}step7_computeConsensusSeq/allConsensus.fa\"\n    output:\n        molMappingResult = f\"{config['resultDir']}step8_mapMolToGenome/molMappingResult.bam\"\n    params:\n        gpu = \"0\"\n\n    threads:56\n    shell:\n        \"\"\"\ncd {pipelineDir}\nminimap2 -ax splice --secondary=no -uf --MD --sam-hit-only -t {threads} --junc-bed {input.geneBed} {input.genomeFasta} {input.allConsensus} |samtools sort - -o {output.molMappingResult} && samtools index {output.molMappingResult}\n        \"\"\"\n\nrule tagMolBc:\n    input:\n        molMappingResult = f\"{config['resultDir']}step8_mapMolToGenome/molMappingResult.bam\"\n    output:\n        molMappingResultBc = f\"{config['resultDir']}step9_tagMolBc/molMappingResultBc.bam\"\n    params:\n        gpu = \"0\"\n\n    threads:1\n    shell:\n        \"\"\"\ncd {pipelineDir}\njava -jar -Xmx20g Jar/Sicelore-1.0.jar AddBamMoleculeTags I={input.molMappingResult} O={output.molMappingResultBc} &&samtools index {output.molMappingResultBc}\n        \"\"\"\n\nrule tagMolGeneName:\n    input:\n        molMappingResultBc = f\"{config['resultDir']}step9_tagMolBc/molMappingResultBc.bam\",\n        refFlat = config['refFlat']\n    output:\n        molMappingResultBcFinal = f\"{config['resultDir']}step10_tagMolGeneName/molMappingResultBcFinal.bam\"\n    params:\n        gpu = \"0\"\n\n    threads:1\n    shell:\n        \"\"\"\ncd {pipelineDir}\njava -jar -Xmx20g Jar/Sicelore-1.0.jar AddGeneNameTag I={input.molMappingResultBc} O={output.molMappingResultBcFinal} REFFLAT={input.refFlat} GENETAG=GE ALLOW_MULTI_GENE_READS=true USE_STRAND_INFO=true VALIDATION_STRINGENCY=SILENT &&samtools index {output.molMappingResultBcFinal}\n        \"\"\"\n\nrule generateExpressionMatrix:\n    input:\n        molMappingResultBcFinal = f\"{config['resultDir']}step10_tagMolGeneName/molMappingResultBcFinal.bam\",\n        refFlat = config['refFlat'],\n        barcodeFile = config['barcodeFile']\n    output:\n        generateExpressionMatrixfinished = f\"{config['resultDir']}step11_generateExpressionMatrix/generateExpressionMatrixfinished.empty\"\n    params:\n        expressionMatrixDir = f\"{config['resultDir']}step11_generateExpressionMatrix/expressionMatrixDir/\",\n        gpu = \"0\"\n\n    threads:1\n    shell:\n        \"\"\"\ncd {pipelineDir}\nmkdir {params.expressionMatrixDir} &&java -jar -Xmx20g Jar/Sicelore-1.0.jar IsoformMatrix DELTA=2 METHOD=STRICT ISOBAM=true GENETAG=GE I={input.molMappingResultBcFinal} REFFLAT={input.refFlat} CSV={input.barcodeFile} OUTDIR={params.expressionMatrixDir} PREFIX=sicmol VALIDATION_STRINGENCY=SILENT && touch {output.generateExpressionMatrixfinished}\n        \"\"\"\n\n\n"
     ]
    }
   ],
   "source": [
    "snakefile.generateContent(SNAKE_PATH)"
   ]
  }
 ],
 "metadata": {
  "kernelspec": {
   "display_name": "Python 3",
   "language": "python",
   "name": "python3"
  },
  "language_info": {
   "codemirror_mode": {
    "name": "ipython",
    "version": 3
   },
   "file_extension": ".py",
   "mimetype": "text/x-python",
   "name": "python",
   "nbconvert_exporter": "python",
   "pygments_lexer": "ipython3",
   "version": "3.8.3-final"
  }
 },
 "nbformat": 4,
 "nbformat_minor": 4
}