{
 "metadata": {
  "language_info": {
   "codemirror_mode": {
    "name": "ipython",
    "version": 3
   },
   "file_extension": ".py",
   "mimetype": "text/x-python",
   "name": "python",
   "nbconvert_exporter": "python",
   "pygments_lexer": "ipython3",
   "version": "3.8.5-final"
  },
  "orig_nbformat": 2,
  "kernelspec": {
   "name": "python3",
   "display_name": "Python 3"
  }
 },
 "nbformat": 4,
 "nbformat_minor": 2,
 "cells": [
  {
   "cell_type": "code",
   "execution_count": 16,
   "metadata": {},
   "outputs": [],
   "source": [
    "import jpy_tools.parseSnake as jps"
   ]
  },
  {
   "cell_type": "code",
   "execution_count": 17,
   "metadata": {},
   "outputs": [],
   "source": [
    "snakefile = jps.SnakeMakeFile()"
   ]
  },
  {
   "cell_type": "code",
   "execution_count": 18,
   "metadata": {
    "tags": []
   },
   "outputs": [
    {
     "output_type": "stream",
     "name": "stdout",
     "text": "config contents:\n\n     resultDir      :/public/home/liuzj/scripts/pipeline/polyACallerBasedOnWp/results/\n\n    pipelineDir     :/public/home/liuzj/scripts/pipeline/polyACallerBasedOnWp/scripts/\n\n       rawSeq       :/public/home/liuzj/scripts/pipeline/polyACallerBasedOnWp/data/example.fa\n\n       genome       :~/data/Araport11/genome.fa\n\n       f5Dir        :/public/home/liuzj/projects/singleCell/00_data/01_rootUseData/01_basecalledData/00_basecalledData/all/workspace/\n\n     f5Summary      :/public/home/liuzj/projects/singleCell/00_data/01_rootUseData/01_basecalledData/00_basecalledData/all/sequencing_summary.txt\n\n      geneAnno      :~/data/Araport11/gene.bed\n\n"
    }
   ],
   "source": [
    "header = jps.SnakeHeader(snakefile, '/public/home/liuzj/scripts/pipeline/polyACallerBasedOnWp/snakemake/config.yaml')\n",
    "header.generateContent()"
   ]
  },
  {
   "cell_type": "code",
   "execution_count": 19,
   "metadata": {},
   "outputs": [],
   "source": [
    "buildIndex = jps.SnakeRule(snakefile, 'buildIndex', 1, 56)\n",
    "buildIndex.setInput(b=['rawSeq'])\n",
    "buildIndex.setParams(b=['genome','f5Dir','f5Summary','geneAnno'])\n",
    "buildIndex.setOutput(a=['exampleIndex.h5'])\n",
    "buildIndex.setShell(\"\"\"\n",
    "python step1_buildIndex.py -i {input.rawSeq} --genome {params.genome} -t {threads} --f5dir {params.f5Dir} --f5summary {params.f5Summary} --bed {params.geneAnno} -o {output.exampleIndex}\n",
    "\"\"\")\n",
    "buildIndex.generateContent()"
   ]
  },
  {
   "cell_type": "code",
   "execution_count": 20,
   "metadata": {},
   "outputs": [],
   "source": [
    "polyACaller = jps.SnakeRule(snakefile, 'polyACaller', 2, 56)\n",
    "polyACaller.setInput(a=['exampleIndex.h5'])\n",
    "polyACaller.setOutput(a=['exampleAddPolyALength.h5'])\n",
    "polyACaller.setShell(\"\"\"\n",
    "python step2_polyACaller.py -i {input.exampleIndex} -o {output.exampleAddPolyALength} -t {threads}\n",
    "\"\"\") \n",
    "polyACaller.generateContent()"
   ]
  },
  {
   "cell_type": "code",
   "execution_count": 21,
   "metadata": {},
   "outputs": [],
   "source": [
    "ruleAll = jps.SnakeAll(snakefile)\n",
    "ruleAll.generateContent(exampleAddPolyALength=0)"
   ]
  },
  {
   "cell_type": "code",
   "execution_count": 22,
   "metadata": {
    "tags": []
   },
   "outputs": [
    {
     "output_type": "stream",
     "name": "stdout",
     "text": "configfile: \"/public/home/liuzj/scripts/pipeline/polyACallerBasedOnWp/snakemake/config.yaml\"\npipelineDir = config['pipelineDir']\n\n\nrule all:\n    input:\n        exampleAddPolyALength = f\"{config['resultDir']}step2_polyACaller/exampleAddPolyALength.h5\"\n\nrule buildIndex:\n    input:\n        rawSeq = config['rawSeq']\n    output:\n        exampleIndex = f\"{config['resultDir']}step1_buildIndex/exampleIndex.h5\"\n    params:\n        genome = config['genome'],\n        f5Dir = config['f5Dir'],\n        f5Summary = config['f5Summary'],\n        geneAnno = config['geneAnno']\n    threads:1\n    shell:\n        \"\"\"\ncd {pipelineDir}\npython step1_buildIndex.py -i {input.rawSeq} --genome {params.genome} -t {threads} --f5dir {params.f5Dir} --f5summary {params.f5Summary} --bed {params.geneAnno} -o {output.exampleIndex}\n        \"\"\"\n\nrule polyACaller:\n    input:\n        exampleIndex = f\"{config['resultDir']}step1_buildIndex/exampleIndex.h5\"\n    output:\n        exampleAddPolyALength = f\"{config['resultDir']}step2_polyACaller/exampleAddPolyALength.h5\"\n\n    threads:1\n    shell:\n        \"\"\"\ncd {pipelineDir}\npython step2_polyACaller.py -i {input.exampleIndex} -o {output.exampleAddPolyALength} -t {threads}\n        \"\"\"\n\n\n"
    }
   ],
   "source": [
    "snakefile.generateContent('/public/home/liuzj/scripts/pipeline/polyACallerBasedOnWp/snakemake/snakefile')"
   ]
  },
  {
   "cell_type": "code",
   "execution_count": null,
   "metadata": {},
   "outputs": [],
   "source": []
  }
 ]
}